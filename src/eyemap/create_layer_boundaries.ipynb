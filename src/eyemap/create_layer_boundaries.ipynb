{
 "cells": [
  {
   "cell_type": "code",
   "execution_count": null,
   "id": "92208721-f9d5-4fee-b034-ac08e0089729",
   "metadata": {
    "tags": []
   },
   "outputs": [],
   "source": [
    "from pathlib import Path\n",
    "import sys\n",
    "from dotenv import load_dotenv, find_dotenv\n",
    "load_dotenv()\n",
    "PROJECT_ROOT = Path(find_dotenv()).parent\n",
    "sys.path.append(str(PROJECT_ROOT.joinpath('src')))\n",
    "    \n",
    "from utils.ROI_calculus import create_ol_layer_boundaries\n",
    "\n",
    "from utils import olc_client\n",
    "c = olc_client.connect(verbose=True)"
   ]
  },
  {
   "cell_type": "markdown",
   "id": "c0ddb670",
   "metadata": {},
   "source": [
    "# Create Layer boundaries file\n",
    "\n",
    "Create or replace `cache/eyemap/[ME|LO|LOP]_layer_bdry.csv` files.\n",
    "\n",
    "This script is also called by `snakemake layer_boundaries` and, if the files don't exist, but the `ROI_calculus.load_layer_thre()` function which uses the files."
   ]
  },
  {
   "cell_type": "code",
   "execution_count": null,
   "id": "53704400-3c86-45d7-a8cb-fa87c15e0cf1",
   "metadata": {
    "tags": []
   },
   "outputs": [],
   "source": [
    "create_ol_layer_boundaries()\n",
    "\n",
    "# expected runtime: 1 min 20 secs (ME), 10 secs (LO), 40 secs (LOP)"
   ]
  },
  {
   "cell_type": "code",
   "execution_count": null,
   "id": "f783bf8c-7051-4de3-898a-789b43e09c31",
   "metadata": {},
   "outputs": [],
   "source": []
  }
 ],
 "metadata": {
  "kernelspec": {
   "display_name": "ol-connectome",
   "language": "python",
   "name": "ol-connectome"
  },
  "language_info": {
   "codemirror_mode": {
    "name": "ipython",
    "version": 3
   },
   "file_extension": ".py",
   "mimetype": "text/x-python",
   "name": "python",
   "nbconvert_exporter": "python",
   "pygments_lexer": "ipython3",
   "version": "3.10.13"
  }
 },
 "nbformat": 4,
 "nbformat_minor": 5
}
