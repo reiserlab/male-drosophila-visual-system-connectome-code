{
 "cells": [
  {
   "cell_type": "code",
   "execution_count": null,
   "metadata": {},
   "outputs": [],
   "source": [
    "# Setting up environment and accessing database\n",
    "\n",
    "import sys\n",
    "from pathlib import Path\n",
    "from dotenv import load_dotenv, find_dotenv\n",
    "load_dotenv()\n",
    "PROJECT_ROOT = Path(find_dotenv()).parent\n",
    "sys.path.append(str(PROJECT_ROOT.joinpath('src')))\n",
    "\n",
    "from utils import olc_client\n",
    "c = olc_client.connect(verbose=True)"
   ]
  },
  {
   "cell_type": "code",
   "execution_count": null,
   "metadata": {},
   "outputs": [],
   "source": [
    "from neuprint import NeuronCriteria as NC, SynapseCriteria as SC\n",
    "from neuprint import fetch_synapse_connections\n",
    "from utils.hex_hex import get_hex_df, hex_to_bids\n",
    "from utils.ROI_columns import load_hexed_body_ids\n",
    "from utils.ROI_calculus import find_neuron_hex_ids\n",
    "from utils.plotter import group_plotter, show_figure\n",
    "from utils.hex_hex import bid_to_hex\n",
    "from utils.neuron_bag import NeuronBag"
   ]
  },
  {
   "cell_type": "code",
   "execution_count": null,
   "metadata": {},
   "outputs": [],
   "source": [
    "# Cells to resolve\n",
    "# L1: [901806]\n",
    "# C2: [174453]\n",
    "# Tm2: [53166, 56117, 59291, 60078, 61701, 65036, 69305, 80428, 108648, 112981]\n",
    "# Double entry Tm2: [104527]\n",
    "\n",
    "# Resolutions\n",
    "# L1: [901806] -> [21,36], overwrite current entry which is 43309 (an L3 cell)\n",
    "# -> L3: [21,36] = 49422, does not exist, overwite with 43309\n",
    "# C2: [174453] -> [36,33], overwrite current null entry\n",
    "# Tm2: [53166] -> [14,25]\n",
    "# Tm2: [56117] -> [27,22]\n",
    "# Tm2: [59291] -> [30,33]\n",
    "# Tm2: [60078] -> [28,24]\n",
    "# Tm2: [61701] -> [22,19]\n",
    "# Tm2: [65036] -> [25,34]\n",
    "# Tm2: [69305] -> [17,23]\n",
    "# Tm2: [80428] -> [21,23]\n",
    "# Tm2: [108648] -> [15,33]\n",
    "# Tm2: [112981] -> [32,38]\n",
    "#\n",
    "# Double entry Tm2: [104527] was allocated to Tm4 at [9,1] in a second row. \n",
    "# This second row is now eliminated, which I hope eliminates the error."
   ]
  },
  {
   "cell_type": "code",
   "execution_count": null,
   "metadata": {},
   "outputs": [],
   "source": [
    "# Implementing resolutions. See cells below for working.\n",
    "hex_df = get_hex_df()\n",
    "updated_hex_df = hex_df.copy()\n",
    "\n",
    "# L1: [901806] -> [21,36], overwrite current entry which is 43309 (an L3 cell)\n",
    "# -> L3: [21,36] = 49422, does not exist, overwite with 43309\n",
    "row_data = hex_df.loc[(hex_df['hex1_id']==21) & (hex_df['hex2_id']==36)].copy()\n",
    "row_data['L1'] = 901806\n",
    "row_data['L3'] = 43309\n",
    "updated_hex_df.loc[(hex_df['hex1_id']==21) & (hex_df['hex2_id']==36)] = row_data\n",
    "\n",
    "# C2: [174453] -> [36,33], overwrite current null entry\n",
    "row_data = hex_df.loc[(hex_df['hex1_id']==36) & (hex_df['hex2_id']==33)].copy()\n",
    "row_data['C2'] = 174453\n",
    "updated_hex_df.loc[(hex_df['hex1_id']==36) & (hex_df['hex2_id']==33)] = row_data\n",
    "\n",
    "# Tm2: [53166] -> [14,25]\n",
    "row_data = hex_df.loc[(hex_df['hex1_id']==14) & (hex_df['hex2_id']==25)].copy()\n",
    "row_data['Tm2'] = 53166\n",
    "updated_hex_df.loc[(hex_df['hex1_id']==14) & (hex_df['hex2_id']==25)] = row_data\n",
    "\n",
    "# Tm2: [56117] -> [27,22]\n",
    "row_data = hex_df.loc[(hex_df['hex1_id']==27) & (hex_df['hex2_id']==22)].copy()\n",
    "row_data['Tm2'] = 56117\n",
    "updated_hex_df.loc[(hex_df['hex1_id']==27) & (hex_df['hex2_id']==22)] = row_data\n",
    "\n",
    "# Tm2: [59291] -> [30,33]\n",
    "row_data = hex_df.loc[(hex_df['hex1_id']==30) & (hex_df['hex2_id']==33)].copy()\n",
    "row_data['Tm2'] = 59291\n",
    "updated_hex_df.loc[(hex_df['hex1_id']==30) & (hex_df['hex2_id']==33)] = row_data\n",
    "\n",
    "# Tm2: [60078] -> [28,24]\n",
    "row_data = hex_df.loc[(hex_df['hex1_id']==28) & (hex_df['hex2_id']==24)].copy()\n",
    "row_data['Tm2'] = 60078\n",
    "updated_hex_df.loc[(hex_df['hex1_id']==28) & (hex_df['hex2_id']==24)] = row_data\n",
    "\n",
    "# Tm2: [61701] -> [22,19]\n",
    "row_data = hex_df.loc[(hex_df['hex1_id']==22) & (hex_df['hex2_id']==19)].copy()\n",
    "row_data['Tm2'] = 61701\n",
    "updated_hex_df.loc[(hex_df['hex1_id']==22) & (hex_df['hex2_id']==19)] = row_data\n",
    "\n",
    "# Tm2: [65036] -> [25,34]\n",
    "row_data = hex_df.loc[(hex_df['hex1_id']==25) & (hex_df['hex2_id']==34)].copy()\n",
    "row_data['Tm2'] = 65036\n",
    "updated_hex_df.loc[(hex_df['hex1_id']==25) & (hex_df['hex2_id']==34)] = row_data\n",
    "\n",
    "# Tm2: [69305] -> [17,23]\n",
    "row_data = hex_df.loc[(hex_df['hex1_id']==17) & (hex_df['hex2_id']==23)].copy()\n",
    "row_data['Tm2'] = 69305\n",
    "updated_hex_df.loc[(hex_df['hex1_id']==17) & (hex_df['hex2_id']==23)] = row_data\n",
    "\n",
    "# Tm2: [80428] -> [21,23]\n",
    "row_data = hex_df.loc[(hex_df['hex1_id']==21) & (hex_df['hex2_id']==23)].copy()\n",
    "row_data['Tm2'] = 80428\n",
    "updated_hex_df.loc[(hex_df['hex1_id']==21) & (hex_df['hex2_id']==23)] = row_data\n",
    "\n",
    "# Tm2: [108648] -> [15,33]\n",
    "row_data = hex_df.loc[(hex_df['hex1_id']==15) & (hex_df['hex2_id']==33)].copy()\n",
    "row_data['Tm2'] = 108648\n",
    "updated_hex_df.loc[(hex_df['hex1_id']==15) & (hex_df['hex2_id']==33)] = row_data\n",
    "\n",
    "# Tm2: [112981] -> [32,38]\n",
    "row_data = hex_df.loc[(hex_df['hex1_id']==32) & (hex_df['hex2_id']==38)].copy()\n",
    "row_data['Tm2'] = 112981\n",
    "updated_hex_df.loc[(hex_df['hex1_id']==32) & (hex_df['hex2_id']==38)] = row_data\n",
    "\n",
    "# Tm4: [99852] -> [9,1]\n",
    "# In second row, Tm: [104527] which generates Tm2 duplication error\n",
    "updated_hex_df = updated_hex_df.drop([0,136])\n",
    "updated_hex_df = updated_hex_df.reset_index(drop=True)\n",
    "# updated_hex_df.iloc[130:150,:]\n"
   ]
  },
  {
   "cell_type": "code",
   "execution_count": null,
   "metadata": {},
   "outputs": [],
   "source": [
    "updated_hex_df.to_csv('ME_hex_ids_updated_10Dec2023.csv')"
   ]
  },
  {
   "cell_type": "code",
   "execution_count": null,
   "metadata": {},
   "outputs": [],
   "source": [
    "columnar_types = ['L1', 'L2', 'L3', 'L5', 'Mi1', 'Mi4', 'Mi9', 'C2', 'C3', 'Tm1', 'Tm2', 'Tm4', 'Tm9', 'Tm20', 'T1']\n",
    "no_assignment = []\n",
    "double_assignment = []\n",
    "\n",
    "for cell_type in columnar_types:\n",
    "    bag = NeuronBag(cell_type=cell_type)\n",
    "    bids =  bag.get_body_ids(cell_count=bag.size)\n",
    "    for bid in bids:\n",
    "        hxs = bid_to_hex(bid=bid)\n",
    "        if isinstance(hxs, list):\n",
    "            double_assignment.append(bid)\n",
    "        elif not hxs:\n",
    "            no_assignment.append(bid)\n"
   ]
  },
  {
   "cell_type": "code",
   "execution_count": null,
   "metadata": {},
   "outputs": [],
   "source": [
    "# RESOLVING L1\n",
    "# Get L1 synapses\n",
    "conns = fetch_synapse_connections(None,NC(bodyId=901806),SC(rois='ME(R)'))\n",
    "# Synapse dataframe\n",
    "syn_df = conns[['bodyId_post', 'x_post','y_post','z_post']]\n",
    "syn_df = syn_df.rename(columns = {'bodyId_post':'bodyId', 'x_post':'x', 'y_post':'y', 'z_post':'z'})\n",
    "# Predicted hex columns are\n",
    "# hex1 = 21; hex2 = 36\n",
    "hexid_df = find_neuron_hex_ids(syn_df)\n",
    "\n",
    "# L1: 43309 is assigned to [21,36]\n",
    "hid = hexid_df[['hex1_id','hex2_id']]\n",
    "hex_to_bids([21,36])"
   ]
  },
  {
   "cell_type": "code",
   "execution_count": null,
   "metadata": {},
   "outputs": [],
   "source": [
    "# Check which columns have L1\n",
    "hex_to_bids([20,34],['L1'])"
   ]
  },
  {
   "cell_type": "code",
   "execution_count": null,
   "metadata": {},
   "outputs": [],
   "source": [
    "# Plot L1 cells around this column to assign 901806\n",
    "# No L1 in \n",
    "# [21,37]\n",
    "# [20,36]\n",
    "fh = group_plotter([901806,\n",
    "                    hex_to_bids([21,36],['L1'])['L1'], \n",
    "                    hex_to_bids([21,35],['L1'])['L1'],\n",
    "                    hex_to_bids([21,34],['L1'])['L1'],\n",
    "                    hex_to_bids([20,35],['L1'])['L1'],\n",
    "                    hex_to_bids([20,34],['L1'])['L1']],\n",
    "                   [(0,0,0,1),\n",
    "                    (1,.5,.5,1),(.5,1,.5,1),(.5,.5,1,1),\n",
    "                                (.5,1,.5,1),(.5,.5,1,1)],\n",
    "                   shadow_rois=[])\n",
    "# show_figure(fh,800, 600)\n"
   ]
  },
  {
   "cell_type": "code",
   "execution_count": null,
   "metadata": {},
   "outputs": [],
   "source": [
    "# RESOLVING L3\n",
    "# Check which columns have L3\n",
    "hex_to_bids([20,34],['L3'])\n",
    "# Yes [21,36],[21,35],[21,34]\n",
    "#             [20,35],[20,34]\n",
    "hex_to_bids([20,34],['L3'])['L3']"
   ]
  },
  {
   "cell_type": "code",
   "execution_count": null,
   "metadata": {},
   "outputs": [],
   "source": [
    "# Plot L3 cells around this column to assign \n",
    "fh = group_plotter([43309,\n",
    "                    #hex_to_bids([21,36],['L3'])['L3'], # [49422] does not exist\n",
    "                    hex_to_bids([21,35],['L3'])['L3'], # [95115]\n",
    "                    hex_to_bids([21,34],['L3'])['L3']], # [91550]\n",
    "                    # hex_to_bids([20,35],['L3'])['L3'], # [97316]\n",
    "                    # hex_to_bids([20,34],['L3'])['L3']], # [45196]\n",
    "                   [#(0,0,0,1),\n",
    "                    (1,.5,.5,1),(.5,1,.5,1),(.5,.5,1,1),\n",
    "                                (.5,1,.5,1),(.5,.5,1,1)],\n",
    "                   shadow_rois=[])\n",
    "# show_figure(fh,800, 600)\n"
   ]
  },
  {
   "cell_type": "code",
   "execution_count": null,
   "metadata": {},
   "outputs": [],
   "source": [
    "# RESOLVING C2\n",
    "# Get C2 synapses\n",
    "conns = fetch_synapse_connections(None,NC(bodyId=174453),SC(rois='ME(R)'))\n",
    "# Synapse dataframe\n",
    "syn_df = conns[['bodyId_post', 'x_post','y_post','z_post']]\n",
    "syn_df = syn_df.rename(columns = {'bodyId_post':'bodyId', 'x_post':'x', 'y_post':'y', 'z_post':'z'})\n",
    "# Predicted hex columns are\n",
    "# hex1 = 36; hex2 = 33\n",
    "hexid_df = find_neuron_hex_ids(syn_df)\n",
    "\n",
    "# C2: 174453 is assigned to [36,33]\n",
    "# hid = hexid_df[['hex1_id','hex2_id']]\n",
    "hex_to_bids([36,33])\n"
   ]
  },
  {
   "cell_type": "code",
   "execution_count": null,
   "metadata": {},
   "outputs": [],
   "source": [
    "# Check which columns have C2\n",
    "hex_to_bids([36,33],['C2'])\n",
    "# Yes ?[36,33], [35,33], [34,33], [33,33]\n",
    "#      [36,32], [35,32], [34,32], [33,32]"
   ]
  },
  {
   "cell_type": "code",
   "execution_count": null,
   "metadata": {},
   "outputs": [],
   "source": [
    "# Plot C2 cells around this column to assign \n",
    "fh = group_plotter([174453,\n",
    "                    hex_to_bids([35,33],['C2'])['C2'], # \n",
    "                    hex_to_bids([34,33],['C2'])['C2'], # \n",
    "                    hex_to_bids([33,33],['C2'])['C2'], # \n",
    "                    hex_to_bids([36,32],['C2'])['C2'], # \n",
    "                    hex_to_bids([35,32],['C2'])['C2'], # \n",
    "                    hex_to_bids([34,32],['C2'])['C2'], # \n",
    "                    hex_to_bids([33,32],['C2'])['C2']], # \n",
    "                   [(0,0,0,1),  (1,.5,.5,1),(.5,1,.5,1),(.5,.5,1,1),\n",
    "                    (0,0,0,0.5),(1,.5,.5,1),(.5,1,.5,1),(.5,.5,1,1)],\n",
    "                   shadow_rois=[])\n",
    "# show_figure(fh,800, 600)"
   ]
  },
  {
   "cell_type": "code",
   "execution_count": null,
   "metadata": {},
   "outputs": [],
   "source": [
    "# Plot C2 cells around this column to assign \n",
    "fh = group_plotter([hex_to_bids([36,32],['C2'])['C2'], # \n",
    "                    hex_to_bids([35,32],['C2'])['C2'], # \n",
    "                    hex_to_bids([34,32],['C2'])['C2'], # \n",
    "                    hex_to_bids([33,32],['C2'])['C2']], # \n",
    "                   [(0,0,0,0.5),\n",
    "                    (1,.5,.5,1),(.5,1,.5,1),(.5,.5,1,1),\n",
    "                    (0,0,0,0.5),\n",
    "                    (1,.5,.5,1),(.5,1,.5,1),(.5,.5,1,1)],\n",
    "                   shadow_rois=[])\n",
    "# show_figure(fh,800, 600)"
   ]
  },
  {
   "cell_type": "code",
   "execution_count": null,
   "metadata": {},
   "outputs": [],
   "source": [
    "# Plot C2 cells around this column to assign \n",
    "fh = group_plotter([174453,\n",
    "                    hex_to_bids([35,33],['C2'])['C2'], # \n",
    "                    hex_to_bids([34,33],['C2'])['C2'], # \n",
    "                    hex_to_bids([33,33],['C2'])['C2']], # \n",
    "                   [(0,0,0,0.5),\n",
    "                    (1,.5,.5,1),(.5,1,.5,1),(.5,.5,1,1),\n",
    "                    (0,0,0,0.5),\n",
    "                    (1,.5,.5,1),(.5,1,.5,1),(.5,.5,1,1)],\n",
    "                   shadow_rois=[])\n",
    "# show_figure(fh,800, 600)"
   ]
  },
  {
   "cell_type": "code",
   "execution_count": null,
   "metadata": {},
   "outputs": [],
   "source": [
    "# RESOLVING Tm2\n",
    "# Get Tm2 [53166] synapses\n",
    "conns = fetch_synapse_connections(None,NC(bodyId=53166),SC(rois='ME(R)'))\n",
    "# Synapse dataframe\n",
    "syn_df = conns[['bodyId_post', 'x_post','y_post','z_post']]\n",
    "syn_df = syn_df.rename(columns = {'bodyId_post':'bodyId', 'x_post':'x', 'y_post':'y', 'z_post':'z'})\n",
    "# Predicted hex columns are\n",
    "# hex1 = 14; hex2 = 25\n",
    "hexid_df = find_neuron_hex_ids(syn_df)"
   ]
  },
  {
   "cell_type": "code",
   "execution_count": null,
   "metadata": {},
   "outputs": [],
   "source": [
    "# Check which columns have Tm2\n",
    "hex_to_bids([15,24],['Tm2'])\n",
    "# Yes [15,24], [15,25], [15,26]\n",
    "#     [14,24],          [14,26]\n",
    "#     [13,24], [13,25], [13,26]"
   ]
  },
  {
   "cell_type": "code",
   "execution_count": null,
   "metadata": {},
   "outputs": [],
   "source": [
    "# Plot Tm2 cells around this column to assign \n",
    "fh = group_plotter([hex_to_bids([15,24],['Tm2'])['Tm2'], # \n",
    "                    hex_to_bids([15,25],['Tm2'])['Tm2'], # \n",
    "                    hex_to_bids([15,26],['Tm2'])['Tm2'],\n",
    "                    hex_to_bids([14,24],['Tm2'])['Tm2'], # \n",
    "                    53166, \n",
    "                    hex_to_bids([14,26],['Tm2'])['Tm2'],\n",
    "                    hex_to_bids([13,24],['Tm2'])['Tm2'], # \n",
    "                    hex_to_bids([13,25],['Tm2'])['Tm2'], # \n",
    "                    hex_to_bids([13,26],['Tm2'])['Tm2']], # \n",
    "                   [(1,.5,.5,1),(.5,1,.5,1),(.5,.5,1,1),\n",
    "                    (1,.5,.5,1),(0, 0, 0,1),(.5,.5,1,1),\n",
    "                    (1,.5,.5,1),(.5,1,.5,1),(.5,.5,1,1)],\n",
    "                   shadow_rois=[])\n",
    "#show_figure(fh,800, 600)\n",
    "# fit fot [14,25] is good"
   ]
  },
  {
   "cell_type": "code",
   "execution_count": null,
   "metadata": {},
   "outputs": [],
   "source": [
    "# Get Tm2 [56117] synapses\n",
    "conns = fetch_synapse_connections(None,NC(bodyId=56117),SC(rois='ME(R)'))\n",
    "# Synapse dataframe\n",
    "syn_df = conns[['bodyId_post', 'x_post','y_post','z_post']]\n",
    "syn_df = syn_df.rename(columns = {'bodyId_post':'bodyId', 'x_post':'x', 'y_post':'y', 'z_post':'z'})\n",
    "# Predicted hex columns are\n",
    "# hex1 = 27; hex2 = 22\n",
    "hexid_df = find_neuron_hex_ids(syn_df)\n",
    "hexid_df"
   ]
  },
  {
   "cell_type": "code",
   "execution_count": null,
   "metadata": {},
   "outputs": [],
   "source": [
    "# Check which columns have Tm2\n",
    "hex_to_bids([26,23],['Tm2'])\n",
    "# Yes [28,21], [28,22], [28,23]\n",
    "#     [27,21],          [27,23]\n",
    "#     [26,21], [26,22], [26,23]"
   ]
  },
  {
   "cell_type": "code",
   "execution_count": null,
   "metadata": {},
   "outputs": [],
   "source": [
    "# Plot Tm2 cells around this column to assign \n",
    "fh = group_plotter([hex_to_bids([28,23],['Tm2'])['Tm2'], # \n",
    "                    hex_to_bids([28,22],['Tm2'])['Tm2'], # \n",
    "                    hex_to_bids([28,21],['Tm2'])['Tm2'],\n",
    "                    hex_to_bids([27,23],['Tm2'])['Tm2'], # \n",
    "                    56117, \n",
    "                    hex_to_bids([27,21],['Tm2'])['Tm2'],\n",
    "                    hex_to_bids([26,23],['Tm2'])['Tm2'], # \n",
    "                    hex_to_bids([26,22],['Tm2'])['Tm2'], # \n",
    "                    hex_to_bids([26,21],['Tm2'])['Tm2']], # \n",
    "                   [(1,.5,.5,1),(.5,1,.5,1),(.5,.5,1,1),\n",
    "                    (1,.5,.5,1),(0, 0, 0,1),(.5,.5,1,1),\n",
    "                    (1,.5,.5,1),(.5,1,.5,1),(.5,.5,1,1)],\n",
    "                   shadow_rois=[])\n",
    "# show_figure(fh,800, 600)\n",
    "# fit fot [27,22] is good"
   ]
  },
  {
   "cell_type": "code",
   "execution_count": null,
   "metadata": {},
   "outputs": [],
   "source": [
    "# Get Tm2 [59291] synapses\n",
    "conns = fetch_synapse_connections(None,NC(bodyId=59291),SC(rois='ME(R)'))\n",
    "# Synapse dataframe\n",
    "syn_df = conns[['bodyId_post', 'x_post','y_post','z_post']]\n",
    "syn_df = syn_df.rename(columns = {'bodyId_post':'bodyId', 'x_post':'x', 'y_post':'y', 'z_post':'z'})\n",
    "# Predicted hex columns are\n",
    "# hex1 = 30; hex2 = 33\n",
    "hexid_df = find_neuron_hex_ids(syn_df)\n",
    "hexid_df"
   ]
  },
  {
   "cell_type": "code",
   "execution_count": null,
   "metadata": {},
   "outputs": [],
   "source": [
    "# Check which columns have Tm2\n",
    "hex_to_bids([29,34],['Tm2'])\n",
    "# Yes [31,32], [31,33], [31,34]\n",
    "#     [30,32],          [30,34]\n",
    "#     [29,32], [29,33], [29,34]"
   ]
  },
  {
   "cell_type": "code",
   "execution_count": null,
   "metadata": {},
   "outputs": [],
   "source": [
    "# Plot Tm2 cells around this column to assign \n",
    "fh = group_plotter([hex_to_bids([31,32],['Tm2'])['Tm2'], # \n",
    "                    hex_to_bids([31,33],['Tm2'])['Tm2'], # \n",
    "                    hex_to_bids([31,34],['Tm2'])['Tm2'],\n",
    "                    hex_to_bids([30,32],['Tm2'])['Tm2'], # \n",
    "                    59291, \n",
    "                    hex_to_bids([30,34],['Tm2'])['Tm2'],\n",
    "                    hex_to_bids([29,32],['Tm2'])['Tm2'], # \n",
    "                    hex_to_bids([29,33],['Tm2'])['Tm2'], # \n",
    "                    hex_to_bids([29,34],['Tm2'])['Tm2']], # \n",
    "                   [(1,.5,.5,1),(.5,1,.5,1),(.5,.5,1,1),\n",
    "                    (1,.5,.5,1),(0, 0, 0,1),(.5,.5,1,1),\n",
    "                    (1,.5,.5,1),(.5,1,.5,1),(.5,.5,1,1)],\n",
    "                   shadow_rois=[])\n",
    "# show_figure(fh,800, 600)\n",
    "# fit for [30,33] is good"
   ]
  },
  {
   "cell_type": "code",
   "execution_count": null,
   "metadata": {},
   "outputs": [],
   "source": [
    "# Get Tm2 [60078] synapses\n",
    "conns = fetch_synapse_connections(None,NC(bodyId=60078),SC(rois='ME(R)'))\n",
    "# Synapse dataframe\n",
    "syn_df = conns[['bodyId_post', 'x_post','y_post','z_post']]\n",
    "syn_df = syn_df.rename(columns = {'bodyId_post':'bodyId', 'x_post':'x', 'y_post':'y', 'z_post':'z'})\n",
    "# Predicted hex columns are\n",
    "# hex1 = 28; hex2 = 24\n",
    "hexid_df = find_neuron_hex_ids(syn_df)\n",
    "hexid_df"
   ]
  },
  {
   "cell_type": "code",
   "execution_count": null,
   "metadata": {},
   "outputs": [],
   "source": [
    "# Check which columns have Tm2\n",
    "hex_to_bids([27,25],['Tm2'])\n",
    "# Yes [29,23], [29,24], [29,25]\n",
    "#     [28,23],          [28,25]\n",
    "#     [27,23], [27,24], [27,25]"
   ]
  },
  {
   "cell_type": "code",
   "execution_count": null,
   "metadata": {},
   "outputs": [],
   "source": [
    "# Plot Tm2 cells around this column to assign \n",
    "fh = group_plotter([hex_to_bids([29,23],['Tm2'])['Tm2'], # \n",
    "                    hex_to_bids([29,24],['Tm2'])['Tm2'], # \n",
    "                    hex_to_bids([29,25],['Tm2'])['Tm2'],\n",
    "                    hex_to_bids([28,23],['Tm2'])['Tm2'], # \n",
    "                    60078, \n",
    "                    hex_to_bids([28,25],['Tm2'])['Tm2'],\n",
    "                    hex_to_bids([27,23],['Tm2'])['Tm2'], # \n",
    "                    hex_to_bids([27,24],['Tm2'])['Tm2'], # \n",
    "                    hex_to_bids([27,25],['Tm2'])['Tm2']], # \n",
    "                   [(1,.5,.5,1),(.5,1,.5,1),(.5,.5,1,1),\n",
    "                    (1,.5,.5,1),(0, 0, 0,1),(.5,.5,1,1),\n",
    "                    (1,.5,.5,1),(.5,1,.5,1),(.5,.5,1,1)],\n",
    "                   shadow_rois=[])\n",
    "# show_figure(fh,800, 600)\n",
    "# fit for [28,24] is good"
   ]
  },
  {
   "cell_type": "code",
   "execution_count": null,
   "metadata": {},
   "outputs": [],
   "source": [
    "# Get Tm2 [61701] synapses\n",
    "conns = fetch_synapse_connections(None,NC(bodyId=61701),SC(rois='ME(R)'))\n",
    "# Synapse dataframe\n",
    "syn_df = conns[['bodyId_post', 'x_post','y_post','z_post']]\n",
    "syn_df = syn_df.rename(columns = {'bodyId_post':'bodyId', 'x_post':'x', 'y_post':'y', 'z_post':'z'})\n",
    "# Predicted hex columns are\n",
    "# hex1 = 22; hex2 = 19\n",
    "hexid_df = find_neuron_hex_ids(syn_df)\n",
    "hexid_df"
   ]
  },
  {
   "cell_type": "code",
   "execution_count": null,
   "metadata": {},
   "outputs": [],
   "source": [
    "# Check which columns have Tm2\n",
    "hex_to_bids([23,20],['Tm2'])\n",
    "# Yes [23,18], [23,19], [23,20]\n",
    "#     [22,18],          [22,20]\n",
    "#     [21,18], [21,19], [21,20]"
   ]
  },
  {
   "cell_type": "code",
   "execution_count": null,
   "metadata": {},
   "outputs": [],
   "source": [
    "# Plot Tm2 cells around this column to assign \n",
    "fh = group_plotter([hex_to_bids([23,18],['Tm2'])['Tm2'], # \n",
    "                    hex_to_bids([23,19],['Tm2'])['Tm2'], # \n",
    "                    hex_to_bids([23,20],['Tm2'])['Tm2'],\n",
    "                    hex_to_bids([22,18],['Tm2'])['Tm2'], # \n",
    "                    61701, \n",
    "                    hex_to_bids([22,20],['Tm2'])['Tm2'],\n",
    "                    hex_to_bids([21,18],['Tm2'])['Tm2'], # \n",
    "                    hex_to_bids([21,19],['Tm2'])['Tm2'], # \n",
    "                    hex_to_bids([21,20],['Tm2'])['Tm2']], # \n",
    "                   [(1,.5,.5,1),(.5,1,.5,1),(.5,.5,1,1),\n",
    "                    (1,.5,.5,1),(0, 0, 0,1),(.5,.5,1,1),\n",
    "                    (1,.5,.5,1),(.5,1,.5,1),(.5,.5,1,1)],\n",
    "                   shadow_rois=[])\n",
    "# show_figure(fh,800, 600)\n",
    "# fit for [22,19] is good"
   ]
  },
  {
   "cell_type": "code",
   "execution_count": null,
   "metadata": {},
   "outputs": [],
   "source": [
    "# Get Tm2 [65036] synapses\n",
    "conns = fetch_synapse_connections(None,NC(bodyId=65036),SC(rois='ME(R)'))\n",
    "# Synapse dataframe\n",
    "syn_df = conns[['bodyId_post', 'x_post','y_post','z_post']]\n",
    "syn_df = syn_df.rename(columns = {'bodyId_post':'bodyId', 'x_post':'x', 'y_post':'y', 'z_post':'z'})\n",
    "# Predicted hex columns are\n",
    "# hex1 = 25; hex2 = 34\n",
    "hexid_df = find_neuron_hex_ids(syn_df)\n",
    "hexid_df"
   ]
  },
  {
   "cell_type": "code",
   "execution_count": null,
   "metadata": {},
   "outputs": [],
   "source": [
    "# Check which columns have Tm2\n",
    "hex_to_bids([25,34],['Tm2'])"
   ]
  },
  {
   "cell_type": "code",
   "execution_count": null,
   "metadata": {},
   "outputs": [],
   "source": [
    "# Plot Tm2 cells around this column to assign \n",
    "fh = group_plotter([hex_to_bids([26,33],['Tm2'])['Tm2'], # \n",
    "                    hex_to_bids([26,34],['Tm2'])['Tm2'], # \n",
    "                    hex_to_bids([26,35],['Tm2'])['Tm2'],\n",
    "                    hex_to_bids([25,33],['Tm2'])['Tm2'], # \n",
    "                    65036, \n",
    "                    hex_to_bids([25,35],['Tm2'])['Tm2'],\n",
    "                    hex_to_bids([24,33],['Tm2'])['Tm2'], # \n",
    "                    hex_to_bids([24,34],['Tm2'])['Tm2'], # \n",
    "                    hex_to_bids([24,35],['Tm2'])['Tm2']], # \n",
    "                   [(1,.5,.5,1),(.5,1,.5,1),(.5,.5,1,1),\n",
    "                    (1,.5,.5,1),(0, 0, 0,1),(.5,.5,1,1),\n",
    "                    (1,.5,.5,1),(.5,1,.5,1),(.5,.5,1,1)],\n",
    "                   shadow_rois=[])\n",
    "# show_figure(fh,800, 600)\n",
    "# fit for [25,34] is good"
   ]
  },
  {
   "cell_type": "code",
   "execution_count": null,
   "metadata": {},
   "outputs": [],
   "source": [
    "# Get Tm2 [69306] synapses\n",
    "conns = fetch_synapse_connections(None,NC(bodyId=69305),SC(rois='ME(R)'))\n",
    "# Synapse dataframe\n",
    "syn_df = conns[['bodyId_post', 'x_post','y_post','z_post']]\n",
    "syn_df = syn_df.rename(columns = {'bodyId_post':'bodyId', 'x_post':'x', 'y_post':'y', 'z_post':'z'})\n",
    "# Predicted hex columns are\n",
    "# hex1 = 17; hex2 = 23\n",
    "hexid_df = find_neuron_hex_ids(syn_df)\n",
    "hexid_df"
   ]
  },
  {
   "cell_type": "code",
   "execution_count": null,
   "metadata": {},
   "outputs": [],
   "source": [
    "# Check which columns have Tm2\n",
    "hex_to_bids([17,23],['Tm2'])"
   ]
  },
  {
   "cell_type": "code",
   "execution_count": null,
   "metadata": {},
   "outputs": [],
   "source": [
    "# Plot Tm2 cells around this column to assign \n",
    "fh = group_plotter([hex_to_bids([18,22],['Tm2'])['Tm2'], # \n",
    "                    hex_to_bids([18,23],['Tm2'])['Tm2'], # \n",
    "                    hex_to_bids([18,24],['Tm2'])['Tm2'],\n",
    "                    hex_to_bids([17,22],['Tm2'])['Tm2'], # \n",
    "                    69305, \n",
    "                    hex_to_bids([17,24],['Tm2'])['Tm2'],\n",
    "                    hex_to_bids([16,22],['Tm2'])['Tm2'], # \n",
    "                    hex_to_bids([16,23],['Tm2'])['Tm2'], # \n",
    "                    hex_to_bids([16,24],['Tm2'])['Tm2']], # \n",
    "                   [(1,.5,.5,1),(.5,1,.5,1),(.5,.5,1,1),\n",
    "                    (1,.5,.5,1),(0, 0, 0,1),(.5,.5,1,1),\n",
    "                    (1,.5,.5,1),(.5,1,.5,1),(.5,.5,1,1)],\n",
    "                   shadow_rois=[])\n",
    "# show_figure(fh,800, 600)\n",
    "# fit for [17,23] is good"
   ]
  },
  {
   "cell_type": "code",
   "execution_count": null,
   "metadata": {},
   "outputs": [],
   "source": [
    "# Get Tm2 [80428] synapses\n",
    "conns = fetch_synapse_connections(None,NC(bodyId=80428),SC(rois='ME(R)'))\n",
    "# Synapse dataframe\n",
    "syn_df = conns[['bodyId_post', 'x_post','y_post','z_post']]\n",
    "syn_df = syn_df.rename(columns = {'bodyId_post':'bodyId', 'x_post':'x', 'y_post':'y', 'z_post':'z'})\n",
    "# Predicted hex columns are\n",
    "# hex1 = 21; hex2 = 23\n",
    "hexid_df = find_neuron_hex_ids(syn_df)\n",
    "hexid_df"
   ]
  },
  {
   "cell_type": "code",
   "execution_count": null,
   "metadata": {},
   "outputs": [],
   "source": [
    "# Check which columns have Tm2\n",
    "hex_to_bids([21,23],['Tm2'])"
   ]
  },
  {
   "cell_type": "code",
   "execution_count": null,
   "metadata": {},
   "outputs": [],
   "source": [
    "# Plot Tm2 cells around this column to assign \n",
    "fh = group_plotter([hex_to_bids([22,22],['Tm2'])['Tm2'], # \n",
    "                    hex_to_bids([22,23],['Tm2'])['Tm2'], # \n",
    "                    hex_to_bids([22,24],['Tm2'])['Tm2'],\n",
    "                    hex_to_bids([21,22],['Tm2'])['Tm2'], # \n",
    "                    80428, \n",
    "                    hex_to_bids([21,24],['Tm2'])['Tm2'],\n",
    "                    hex_to_bids([20,22],['Tm2'])['Tm2'], # \n",
    "                    hex_to_bids([20,23],['Tm2'])['Tm2'], # \n",
    "                    hex_to_bids([20,24],['Tm2'])['Tm2']], # \n",
    "                   [(1,.5,.5,1),(.5,1,.5,1),(.5,.5,1,1),\n",
    "                    (1,.5,.5,1),(0, 0, 0,1),(.5,.5,1,1),\n",
    "                    (1,.5,.5,1),(.5,1,.5,1),(.5,.5,1,1)],\n",
    "                   shadow_rois=[])\n",
    "# show_figure(fh,800, 600)\n",
    "# fit for [21,23] is good"
   ]
  },
  {
   "cell_type": "code",
   "execution_count": null,
   "metadata": {},
   "outputs": [],
   "source": [
    "# Get Tm2 [108648] synapses\n",
    "conns = fetch_synapse_connections(None,NC(bodyId=108648),SC(rois='ME(R)'))\n",
    "# Synapse dataframe\n",
    "syn_df = conns[['bodyId_post', 'x_post','y_post','z_post']]\n",
    "syn_df = syn_df.rename(columns = {'bodyId_post':'bodyId', 'x_post':'x', 'y_post':'y', 'z_post':'z'})\n",
    "# Predicted hex columns are\n",
    "# hex1 = 15; hex2 = 33\n",
    "hexid_df = find_neuron_hex_ids(syn_df)\n",
    "hexid_df"
   ]
  },
  {
   "cell_type": "code",
   "execution_count": null,
   "metadata": {},
   "outputs": [],
   "source": [
    "# Check which columns have Tm2\n",
    "hex_to_bids([14,34],['Tm2'])"
   ]
  },
  {
   "cell_type": "code",
   "execution_count": null,
   "metadata": {},
   "outputs": [],
   "source": [
    "# Plot Tm2 cells around this column to assign \n",
    "fh = group_plotter([hex_to_bids([16,32],['Tm2'])['Tm2'], # \n",
    "                    hex_to_bids([16,33],['Tm2'])['Tm2'], # \n",
    "                    hex_to_bids([15,32],['Tm2'])['Tm2'], # \n",
    "                    108648, \n",
    "                    hex_to_bids([14,32],['Tm2'])['Tm2']], # \n",
    "                   [(1,.5,.5,1),(.5,1,.5,1),\n",
    "                    (1,.5,.5,1),(0, 0, 0,1),\n",
    "                    (1,.5,.5,1)],\n",
    "                   shadow_rois=[])\n",
    "# show_figure(fh,800, 600)\n",
    "# fit for [15,33] is good"
   ]
  },
  {
   "cell_type": "code",
   "execution_count": null,
   "metadata": {},
   "outputs": [],
   "source": [
    "# Get Tm2 [112981] synapses\n",
    "conns = fetch_synapse_connections(None,NC(bodyId=112981),SC(rois='ME(R)'))\n",
    "# Synapse dataframe\n",
    "syn_df = conns[['bodyId_post', 'x_post','y_post','z_post']]\n",
    "syn_df = syn_df.rename(columns = {'bodyId_post':'bodyId', 'x_post':'x', 'y_post':'y', 'z_post':'z'})\n",
    "# Predicted hex columns are\n",
    "# hex1 = 32; hex2 = 38\n",
    "hexid_df = find_neuron_hex_ids(syn_df)\n",
    "hexid_df"
   ]
  },
  {
   "cell_type": "code",
   "execution_count": null,
   "metadata": {},
   "outputs": [],
   "source": [
    "# Check which columns have Tm2\n",
    "hex_to_bids([31,37],['Tm2'])\n",
    "# Yes [33,37], [33,38]\n",
    "#     [32,37],          \n",
    "#     [31,37], [31,38], [31,39]"
   ]
  },
  {
   "cell_type": "code",
   "execution_count": null,
   "metadata": {},
   "outputs": [],
   "source": [
    "# Plot Tm2 cells around this column to assign \n",
    "fh = group_plotter([hex_to_bids([33,37],['Tm2'])['Tm2'], # \n",
    "                    hex_to_bids([33,38],['Tm2'])['Tm2'], # \n",
    "                    hex_to_bids([32,37],['Tm2'])['Tm2'], # \n",
    "                    112981, \n",
    "                    hex_to_bids([31,37],['Tm2'])['Tm2'], # \n",
    "                    hex_to_bids([31,38],['Tm2'])['Tm2'], # \n",
    "                    hex_to_bids([31,39],['Tm2'])['Tm2']], # \n",
    "                   [(1,.5,.5,1),(.5,1,.5,1),\n",
    "                    (1,.5,.5,1),(0, 0, 0,1),\n",
    "                    (1,.5,.5,1),(.5,1,.5,1),(.5,.5,1,1)],\n",
    "                   shadow_rois=[])\n",
    "# show_figure(fh,800, 600)\n",
    "# fit for [32,38] is good"
   ]
  },
  {
   "cell_type": "code",
   "execution_count": null,
   "metadata": {},
   "outputs": [],
   "source": [
    "# Get Tm2 [104527] synapses\n",
    "conns = fetch_synapse_connections(None,NC(bodyId=104527),SC(rois='ME(R)'))\n",
    "# Synapse dataframe\n",
    "syn_df = conns[['bodyId_post', 'x_post','y_post','z_post']]\n",
    "syn_df = syn_df.rename(columns = {'bodyId_post':'bodyId', 'x_post':'x', 'y_post':'y', 'z_post':'z'})\n",
    "# Predicted hex columns are\n",
    "# hex1 = 10; hex2 = 1\n",
    "hexid_df = find_neuron_hex_ids(syn_df)\n",
    "hexid_df"
   ]
  },
  {
   "cell_type": "code",
   "execution_count": null,
   "metadata": {},
   "outputs": [],
   "source": [
    "# Check which columns have Tm2\n",
    "hex_to_bids([9,1],['Tm2'])\n",
    "# Yes [11,1], [11,2]\n",
    "#     [10,1], [10,2]      \n",
    "#     [9,1],  [9,2]"
   ]
  },
  {
   "cell_type": "code",
   "execution_count": null,
   "metadata": {},
   "outputs": [],
   "source": [
    "bid_to_hex(104527)"
   ]
  },
  {
   "cell_type": "code",
   "execution_count": null,
   "metadata": {},
   "outputs": [],
   "source": [
    "# Hmmm! Something fishy!\n",
    "bid_to_hex(104527)\n",
    "# ...returns [(10, 1), (9, 1)]\n",
    "\n",
    "# but...\n",
    "hex_to_bids([9,1],['Tm2'])\n",
    "# ...returns {'Tm2': [101887]}\n",
    "hex_to_bids([10,1],['Tm2'])\n",
    "# ...returns {'Tm2': [104527]}"
   ]
  },
  {
   "cell_type": "code",
   "execution_count": null,
   "metadata": {},
   "outputs": [],
   "source": [
    "hex_df = get_hex_df()"
   ]
  },
  {
   "cell_type": "code",
   "execution_count": null,
   "metadata": {},
   "outputs": [],
   "source": [
    "hex_df.iloc[130:150,:]"
   ]
  },
  {
   "cell_type": "code",
   "execution_count": null,
   "metadata": {},
   "outputs": [],
   "source": []
  }
 ],
 "metadata": {
  "kernelspec": {
   "display_name": ".venv",
   "language": "python",
   "name": "python3"
  },
  "language_info": {
   "codemirror_mode": {
    "name": "ipython",
    "version": 3
   },
   "file_extension": ".py",
   "mimetype": "text/x-python",
   "name": "python",
   "nbconvert_exporter": "python",
   "pygments_lexer": "ipython3",
   "version": "3.11.8"
  }
 },
 "nbformat": 4,
 "nbformat_minor": 2
}
