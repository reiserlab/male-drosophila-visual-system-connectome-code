{
 "cells": [
  {
   "cell_type": "code",
   "execution_count": null,
   "id": "b874b7f4-e695-4ab0-aeb3-ca31dec8ec06",
   "metadata": {
    "tags": []
   },
   "outputs": [],
   "source": [
    "from pathlib import Path\n",
    "import sys\n",
    "from dotenv import load_dotenv, find_dotenv\n",
    "load_dotenv()\n",
    "PROJECT_ROOT = Path(find_dotenv()).parent\n",
    "sys.path.append(str(PROJECT_ROOT.joinpath('src')))\n",
    "print(f\"Project root directory: {PROJECT_ROOT}\")\n",
    "from utils import olc_client\n",
    "c = olc_client.connect(verbose=True)"
   ]
  },
  {
   "cell_type": "code",
   "execution_count": null,
   "id": "046b4b5a-1909-4299-81e4-48317b4d99f8",
   "metadata": {
    "tags": []
   },
   "outputs": [],
   "source": [
    "from utils.align_mi1_t4 import create_alignment"
   ]
  },
  {
   "cell_type": "code",
   "execution_count": null,
   "id": "3a596113-4462-4a83-8ac1-3e73dae3fc97",
   "metadata": {
    "tags": []
   },
   "outputs": [],
   "source": [
    "create_alignment()\n",
    "\n",
    "# Expected run time: 12 min"
   ]
  }
 ],
 "metadata": {
  "kernelspec": {
   "display_name": "ol-connectome",
   "language": "python",
   "name": "ol-connectome"
  },
  "language_info": {
   "codemirror_mode": {
    "name": "ipython",
    "version": 3
   },
   "file_extension": ".py",
   "mimetype": "text/x-python",
   "name": "python",
   "nbconvert_exporter": "python",
   "pygments_lexer": "ipython3",
   "version": "3.10.0"
  }
 },
 "nbformat": 4,
 "nbformat_minor": 5
}
