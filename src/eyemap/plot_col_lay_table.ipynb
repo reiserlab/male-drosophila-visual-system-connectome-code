{
 "cells": [
  {
   "cell_type": "code",
   "execution_count": null,
   "id": "19864340-f874-4fdd-bbbf-70de5029fda2",
   "metadata": {
    "tags": []
   },
   "outputs": [],
   "source": [
    "from pathlib import Path\n",
    "import sys\n",
    "\n",
    "import numpy as np\n",
    "import pandas as pd\n",
    "\n",
    "from dotenv import load_dotenv, find_dotenv\n",
    "load_dotenv()\n",
    "PROJECT_ROOT = Path(find_dotenv()).parent\n",
    "sys.path.append(str(PROJECT_ROOT.joinpath('src')))\n",
    "    \n",
    "from utils import olc_client\n",
    "c = olc_client.connect(verbose=True)"
   ]
  },
  {
   "cell_type": "code",
   "execution_count": null,
   "id": "a3a32ce4-7efb-4a82-89c5-cd2664b52f31",
   "metadata": {
    "tags": []
   },
   "outputs": [],
   "source": [
    "from utils.ROI_calculus import load_pins, load_layer_thre, _get_data_path"
   ]
  },
  {
   "cell_type": "code",
   "execution_count": null,
   "id": "e1ba3a3b-bc0f-4e73-92c9-6537690c687b",
   "metadata": {
    "tags": []
   },
   "outputs": [],
   "source": [
    "conv_to_um = 8/1000"
   ]
  },
  {
   "cell_type": "code",
   "execution_count": null,
   "id": "59f5bd2e-f868-4efc-83b0-c1990daa4c55",
   "metadata": {
    "tags": []
   },
   "outputs": [],
   "source": [
    "roi_df = pd.DataFrame()\n",
    "for roi_str in ['ME(R)', 'LO(R)', 'LOP(R)']:\n",
    "    col_ids, n_bins, pins = load_pins(roi_str=roi_str)\n",
    "    n_col = col_ids.shape[0]\n",
    "    pins = pins\\\n",
    "        .astype(float)\\\n",
    "        .reshape((n_col, n_bins, 3))\n",
    "    pins_length = \\\n",
    "        conv_to_um * np.sqrt(\n",
    "            (np.diff(pins,axis=1)**2)\\\n",
    "            .sum(2)\n",
    "        )\\\n",
    "        .sum(1)\n",
    "    depth_bdry = load_layer_thre(roi_str=roi_str)\n",
    "    bin_bdry = n_bins-1 - np.round(depth_bdry*(n_bins-1)).astype(int)\n",
    "    bin_bdry[-1] = 0\n",
    "    bin_bdry[0] = n_bins-1\n",
    "    n_layers = bin_bdry.shape[0]-1\n",
    "    layer_thickness = np.zeros(n_layers)\n",
    "    layer_thickness_std = np.zeros(n_layers)\n",
    "    for idx in range(n_layers):\n",
    "        pins_layer = pins[:, bin_bdry[idx+1]:bin_bdry[idx]]\\\n",
    "            .reshape((n_col, -1, 3))\n",
    "        dist_in_um = conv_to_um * np.sqrt(\n",
    "                (np.diff(pins_layer, axis=1)**2).sum(2)\n",
    "            )\n",
    "        layer_thickness[idx] = \\\n",
    "            dist_in_um\\\n",
    "            .sum(1)\\\n",
    "            .mean(0)\n",
    "        layer_thickness_std[idx] = \\\n",
    "            dist_in_um\\\n",
    "            .sum(1)\\\n",
    "            .std(0)\n",
    "    layer_str = \", \".join([f\"{thk:.0f}\" for thk in layer_thickness.round()])\n",
    "    layer_str = layer_str + f\" ± {layer_thickness_std.mean():.0f}\"\n",
    "    tmp = pd.DataFrame({\n",
    "            'roi': roi_str\n",
    "          , 'Number of columns': n_col\n",
    "          , 'Column length (µm)': f\"{pins_length.mean():.0f} ± {pins_length.std():.0f}\"\n",
    "          , 'Number of layers': n_layers\n",
    "          , 'Layer thicknesses (µm)': layer_str\n",
    "        }\n",
    "      , index=[idx]\n",
    "    )\n",
    "    roi_df = pd.concat([roi_df, tmp])\n",
    "roi_df = roi_df\\\n",
    "    .reset_index(drop=True)\\\n",
    "    .set_index('roi')"
   ]
  },
  {
   "cell_type": "code",
   "execution_count": null,
   "id": "b4f6838d-38fb-4e12-8d22-521cb6e1f419",
   "metadata": {
    "tags": []
   },
   "outputs": [],
   "source": [
    "table_df = roi_df.T\n",
    "table_df.to_excel(_get_data_path('data') / 'roi_table.xlsx', index=False)"
   ]
  },
  {
   "cell_type": "code",
   "execution_count": null,
   "id": "7ed8f873",
   "metadata": {},
   "outputs": [],
   "source": []
  }
 ],
 "metadata": {
  "kernelspec": {
   "display_name": "Python 3 (ipykernel)",
   "language": "python",
   "name": "python3"
  },
  "language_info": {
   "codemirror_mode": {
    "name": "ipython",
    "version": 3
   },
   "file_extension": ".py",
   "mimetype": "text/x-python",
   "name": "python",
   "nbconvert_exporter": "python",
   "pygments_lexer": "ipython3",
   "version": "3.10.0"
  }
 },
 "nbformat": 4,
 "nbformat_minor": 5
}
