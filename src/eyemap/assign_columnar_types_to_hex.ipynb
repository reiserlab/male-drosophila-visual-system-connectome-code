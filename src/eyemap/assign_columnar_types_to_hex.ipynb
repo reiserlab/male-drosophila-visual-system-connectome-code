{
 "cells": [
  {
   "cell_type": "code",
   "execution_count": null,
   "metadata": {},
   "outputs": [],
   "source": [
    "\"\"\"\n",
    "This cell does the initial project setup.\n",
    "If you start a new script or notebook, make sure to copy & paste this part.\n",
    "\n",
    "A script with this code uses the location of the `.env` file as the anchor for\n",
    "the whole project (= PROJECT_ROOT). Afterwards, code inside the `src` directory\n",
    "are available for import.\n",
    "\"\"\"\n",
    "import sys\n",
    "from pathlib import Path\n",
    "from dotenv import load_dotenv, find_dotenv\n",
    "load_dotenv()\n",
    "PROJECT_ROOT = Path(find_dotenv()).parent\n",
    "sys.path.append(str(PROJECT_ROOT.joinpath('src')))\n",
    "%load_ext autoreload\n",
    "%autoreload 2\n",
    "\n",
    "from utils import olc_client\n",
    "c = olc_client.connect(verbose=True)\n",
    "\n",
    "from queries.hex_assigned import get_assigned_columnar_types"
   ]
  },
  {
   "cell_type": "code",
   "execution_count": null,
   "metadata": {},
   "outputs": [],
   "source": [
    "output_path = PROJECT_ROOT / \"params\" / \"ME_columnar_types_hex_coords.xlsx\""
   ]
  },
  {
   "cell_type": "code",
   "execution_count": null,
   "metadata": {},
   "outputs": [],
   "source": [
    "get_assigned_columnar_types(output_path)"
   ]
  }
 ],
 "metadata": {
  "kernelspec": {
   "display_name": ".venv",
   "language": "python",
   "name": "python3"
  },
  "language_info": {
   "codemirror_mode": {
    "name": "ipython",
    "version": 3
   },
   "file_extension": ".py",
   "mimetype": "text/x-python",
   "name": "python",
   "nbconvert_exporter": "python",
   "pygments_lexer": "ipython3",
   "version": "3.11.6"
  }
 },
 "nbformat": 4,
 "nbformat_minor": 2
}
