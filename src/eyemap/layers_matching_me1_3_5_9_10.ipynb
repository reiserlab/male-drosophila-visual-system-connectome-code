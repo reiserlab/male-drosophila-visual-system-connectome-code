{
 "cells": [
  {
   "cell_type": "code",
   "execution_count": null,
   "id": "f45d9f39-ebc0-41f7-9bb4-e08c05ac545d",
   "metadata": {},
   "outputs": [],
   "source": [
    "%load_ext autoreload\n",
    "from pathlib import Path\n",
    "from IPython.display import display\n",
    "import sys\n",
    "from dotenv import load_dotenv, find_dotenv\n",
    "load_dotenv()\n",
    "PROJECT_ROOT = Path(find_dotenv()).parent\n",
    "sys.path.append(str(PROJECT_ROOT.joinpath('src')))\n",
    "print(f\"Project root directory: {PROJECT_ROOT}\")\n",
    "\n",
    "from utils import olc_client\n",
    "from utils.layer_tools import \\\n",
    "    fetch_neuron_pairs\\\n",
    "  , hexify_med_lob\\\n",
    "  , plot_med_lob\\\n",
    "  , merge_and_color\n",
    "\n",
    "c = olc_client.connect(verbose=True)"
   ]
  },
  {
   "cell_type": "code",
   "execution_count": null,
   "id": "f8e1eafc-2233-4c6b-a08a-2015530dfe50",
   "metadata": {},
   "outputs": [],
   "source": [
    "#Mi1 connections in Medulla layer 1,3,5,9 and 10\n",
    "\n",
    "#Medulla layer 1: L1 & Mi1  -note \"_ME1\" suffix\n",
    "l1_Mi1_post, l1_Mi1_post_conns = fetch_neuron_pairs('L1', 'Mi1', coord_suffix=\"_ME1\")\n",
    "\n",
    "#Medulla layer 3: L3 & Mi1  -note \"_ME3\" suffix\n",
    "l3_Mi1_post, l3_Mi1_post_conns = fetch_neuron_pairs('L3', 'Mi1'\n",
    "    , group_neuron=\"bodyId_post\", coord_suffix=\"_ME3\")\n",
    "\n",
    "#Medulla layer 5: L5 & Mi1  -note \"_M_5\" suffix\n",
    "l5_Mi1_post, l5_Mi1_post_conns = fetch_neuron_pairs('L5', 'Mi1'\n",
    "    , group_neuron=\"bodyId_post\", coord_suffix=\"_ME5\")\n",
    "\n",
    "#Medulla layer 9: Mi1 & Pm2a  -note \"_M_9\" suffix\n",
    "Mi1_Pm2a, Mi1_Pm2a_conns = fetch_neuron_pairs('Mi1', 'Pm2a'\n",
    "    , group_neuron=\"bodyId_pre\", coord_suffix=\"_ME9\")\n",
    "\n",
    "#Medulla layer 10: Mi1 & T4  -note \"_M_10\" suffix\n",
    "Mi1_T4, Mi1_T4_conns = fetch_neuron_pairs('Mi1', 'T4[abcd]'\n",
    "    , group_neuron=\"bodyId_pre\", coord_suffix=\"_ME10\")"
   ]
  },
  {
   "cell_type": "code",
   "execution_count": null,
   "id": "a3308321-9378-4ca1-a621-38442d89dd1f",
   "metadata": {
    "lines_to_next_cell": 2
   },
   "outputs": [],
   "source": [
    "Mi1_for_M_layers = merge_and_color(\n",
    "    [l1_Mi1_post, l3_Mi1_post, l5_Mi1_post, Mi1_Pm2a, Mi1_T4]\n",
    "  , color_by_suffix='_ME1')"
   ]
  },
  {
   "cell_type": "code",
   "execution_count": null,
   "id": "ac914c65-e20b-46d7-a8c2-3ede3ed872fc",
   "metadata": {},
   "outputs": [],
   "source": [
    "#add hex coordinates to data frames\n",
    "\n",
    "Mi1_for_M_layers_hex = hexify_med_lob(Mi1_for_M_layers)"
   ]
  },
  {
   "cell_type": "code",
   "execution_count": null,
   "id": "bbd8d9be",
   "metadata": {},
   "outputs": [],
   "source": [
    "display(Mi1_for_M_layers_hex)"
   ]
  },
  {
   "cell_type": "code",
   "execution_count": null,
   "id": "78de9eda-7f6b-411b-aa95-204f1424796b",
   "metadata": {},
   "outputs": [],
   "source": [
    "#Plot layers colored by \"regions\" in Medulla layer 1\n",
    "\n",
    "plot_med_lob(\n",
    "    Mi1_for_M_layers\n",
    "    , color_column='regions'\n",
    "    , figure_title=\"Connect ME Layers 1,3,5,9 and 10. Colored by regions in ME1\"\n",
    ").show()"
   ]
  },
  {
   "cell_type": "code",
   "execution_count": null,
   "id": "6f5274d7-c6a8-4e13-a7d5-a840518be166",
   "metadata": {},
   "outputs": [],
   "source": [
    "#Plot layers colored by Mi1 Hex coordinates \"Hex2\"\n",
    "\n",
    "plot_med_lob(\n",
    "    Mi1_for_M_layers_hex\n",
    "    , color_column='mod_for_color'\n",
    "    , figure_title=\"Connect ME Layers 1,3,5,9 and 10. Colored by Hex1 in ME1\"\n",
    ").show()"
   ]
  },
  {
   "cell_type": "code",
   "execution_count": null,
   "id": "891a4829-bd99-4697-a69f-a897c4529646",
   "metadata": {},
   "outputs": [],
   "source": [
    "#Plot layers colored by Mi1 Hex coordinates \"Hex2\"\n",
    "\n",
    "plot_med_lob(\n",
    "    Mi1_for_M_layers_hex\n",
    "    , color_column='mod_for_color2'\n",
    "    , figure_title=\"Connect ME Layers 1,3,5,9 and 10. Colored by Hex2 in ME1\"\n",
    ").show()"
   ]
  },
  {
   "cell_type": "code",
   "execution_count": null,
   "id": "a4315348-5d5d-47a5-8e4a-10700d2a8584",
   "metadata": {},
   "outputs": [],
   "source": []
  }
 ],
 "metadata": {
  "kernelspec": {
   "display_name": "Python 3 (ipykernel)",
   "language": "python",
   "name": "python3"
  },
  "language_info": {
   "codemirror_mode": {
    "name": "ipython",
    "version": 3
   },
   "file_extension": ".py",
   "mimetype": "text/x-python",
   "name": "python",
   "nbconvert_exporter": "python",
   "pygments_lexer": "ipython3",
   "version": "3.11.3"
  },
  "vscode": {
   "interpreter": {
    "hash": "a784b976212e148af7ccf35fd5eae7d1ca185922ff1d3966d7683a1ca6703ecf"
   }
  }
 },
 "nbformat": 4,
 "nbformat_minor": 5
}
