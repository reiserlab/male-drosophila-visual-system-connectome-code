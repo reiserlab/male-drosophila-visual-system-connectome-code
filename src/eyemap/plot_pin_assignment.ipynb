{
 "cells": [
  {
   "cell_type": "code",
   "execution_count": null,
   "id": "b63d73de",
   "metadata": {},
   "outputs": [],
   "source": [
    "from pathlib import Path\n",
    "import sys\n",
    "from dotenv import load_dotenv, find_dotenv\n",
    "load_dotenv()\n",
    "PROJECT_ROOT = Path(find_dotenv()).parent\n",
    "sys.path.append(str(PROJECT_ROOT.joinpath('src')))\n",
    "\n",
    "from utils.ROI_plots import plot_pin_assignment"
   ]
  },
  {
   "cell_type": "code",
   "execution_count": null,
   "id": "615f0c17-98e9-4c38-86d8-20ea571053cb",
   "metadata": {},
   "outputs": [],
   "source": [
    "from utils import olc_client\n",
    "c = olc_client.connect(verbose=True)"
   ]
  },
  {
   "cell_type": "code",
   "execution_count": null,
   "id": "8b82e69c-cc7c-4f67-833a-1406c234fb97",
   "metadata": {
    "tags": []
   },
   "outputs": [],
   "source": [
    "plot_pin_assignment()"
   ]
  },
  {
   "cell_type": "code",
   "execution_count": null,
   "id": "e7421433-5062-402b-b244-b81a78097c5b",
   "metadata": {},
   "outputs": [],
   "source": []
  }
 ],
 "metadata": {
  "kernelspec": {
   "display_name": ".venv",
   "language": "python",
   "name": "python3"
  },
  "language_info": {
   "codemirror_mode": {
    "name": "ipython",
    "version": 3
   },
   "file_extension": ".py",
   "mimetype": "text/x-python",
   "name": "python",
   "nbconvert_exporter": "python",
   "pygments_lexer": "ipython3",
   "version": "3.11.8"
  }
 },
 "nbformat": 4,
 "nbformat_minor": 5
}
