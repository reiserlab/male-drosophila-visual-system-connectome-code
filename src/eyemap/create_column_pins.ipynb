{
 "cells": [
  {
   "cell_type": "code",
   "execution_count": null,
   "id": "362105dc-01c3-49fe-8871-7c3eaf648e51",
   "metadata": {
    "tags": []
   },
   "outputs": [],
   "source": [
    "import os, datetime\n",
    "from pathlib import Path\n",
    "import sys\n",
    "\n",
    "import plotly.graph_objects as go\n",
    "\n",
    "from dotenv import load_dotenv, find_dotenv\n",
    "load_dotenv()\n",
    "PROJECT_ROOT = Path(find_dotenv()).parent\n",
    "sys.path.append(str(PROJECT_ROOT.joinpath('src')))\n",
    "\n",
    "from utils.ROI_columns import create_center_column_pins, smooth_center_columns_w_median\n",
    "from utils.ROI_calculus import load_pins\n",
    "from utils.hex_hex import all_hex\n",
    "\n",
    "from utils import olc_client\n",
    "c = olc_client.connect(verbose=True)"
   ]
  },
  {
   "cell_type": "code",
   "execution_count": null,
   "id": "09c5876b-89ec-469a-8694-fd6fa44d087a",
   "metadata": {
    "tags": []
   },
   "outputs": [],
   "source": [
    "#specify which neuropils to make pins in, and how to anchor the pins to the neuropil ROI\n",
    "roi_pins_dict_list = [\n",
    "    {'roi': 'LOP(R)', 'anchor_method': 'combined', 'n_anchor_bottom': 0, 'n_anchor_top': 0}\n",
    "  , {'roi': 'LO(R)', 'anchor_method': 'combined', 'n_anchor_bottom': 0, 'n_anchor_top': 37}\n",
    "  , {'roi': 'ME(R)', 'anchor_method': 'separate', 'n_anchor_bottom': 800, 'n_anchor_top': 800}\n",
    "  , {'roi': 'ME(R)', 'anchor_method': 'combined', 'n_anchor_bottom': 0, 'n_anchor_top': 0}\n",
    "]\n",
    "\n",
    "#max number of columns\n",
    "col_max_count = all_hex().shape[0]\n",
    "\n",
    "for roi_pins_dict in roi_pins_dict_list:\n",
    "    roi_str = roi_pins_dict['roi']\n",
    "\n",
    "    #create columns: gives some output, i.e., if created columns are straight\n",
    "    create_center_column_pins(\n",
    "        roi_str=roi_str\n",
    "      , anchor_method=roi_pins_dict['anchor_method']\n",
    "      , n_anchor_bottom=roi_pins_dict['n_anchor_bottom']\n",
    "      , n_anchor_top=roi_pins_dict['n_anchor_top']\n",
    "      , verbose=True\n",
    "    )\n",
    "\n",
    "    #could number of initially created columns\n",
    "    col_ids, pin_count, pins = load_pins(roi_str=roi_str)\n",
    "    col_count = col_ids.shape[0]\n",
    "    print(f\"Number of initial {roi_str[:-3]} columns: {col_ids.shape[0]}\")\n",
    "\n",
    "    #smoothen and fill-in columns\n",
    "    ctr_smooth = 0\n",
    "    while col_count < col_max_count:\n",
    "        smooth_center_columns_w_median(roi_str=roi_str)\n",
    "        col_ids, pin_count, pins = load_pins(roi_str=roi_str)\n",
    "        ctr_smooth += 1\n",
    "        if col_ids.shape[0] == col_count:\n",
    "            break\n",
    "        else:\n",
    "            col_count = col_ids.shape[0]\n",
    "\n",
    "    print(f\"Number of smoothing steps: {ctr_smooth}\")\n",
    "    print(f\"Number of final {roi_str[:-3]} columns: {col_ids.shape[0]}\")\n",
    "\n",
    "# Expected runtimes:\n",
    "#   - ME(R): 7 hrs 23 min\n",
    "#   - LO(R): 2 hrs 53 min\n",
    "#   - LOP(R): 20 min"
   ]
  },
  {
   "cell_type": "code",
   "execution_count": null,
   "id": "f1fda97d-3758-48db-9dbd-cdcbc72f8a4a",
   "metadata": {},
   "outputs": [],
   "source": []
  }
 ],
 "metadata": {
  "kernelspec": {
   "display_name": ".venv",
   "language": "python",
   "name": "python3"
  },
  "language_info": {
   "codemirror_mode": {
    "name": "ipython",
    "version": 3
   },
   "file_extension": ".py",
   "mimetype": "text/x-python",
   "name": "python",
   "nbconvert_exporter": "python",
   "pygments_lexer": "ipython3",
   "version": "3.11.8"
  }
 },
 "nbformat": 4,
 "nbformat_minor": 5
}
