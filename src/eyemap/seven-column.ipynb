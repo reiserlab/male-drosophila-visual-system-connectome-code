{
 "cells": [
  {
   "cell_type": "code",
   "execution_count": null,
   "metadata": {},
   "outputs": [],
   "source": [
    "%load_ext autoreload\n",
    "\"\"\"\n",
    "This cell does the initial project setup.\n",
    "If you start a new script or notebook, make sure to copy & paste this part.\n",
    "\n",
    "A script with this code uses the location of the `.env` file as the anchor for\n",
    "the whole project (= PROJECT_ROOT). Afterwards, code inside the `src` directory\n",
    "are available for import.\n",
    "\"\"\"\n",
    "from pathlib import Path\n",
    "import sys\n",
    "import csv\n",
    "\n",
    "import numpy as np\n",
    "import pandas as pd\n",
    "\n",
    "from IPython.display import display, HTML\n",
    "\n",
    "from dotenv import load_dotenv, find_dotenv\n",
    "load_dotenv()\n",
    "PROJECT_ROOT = Path(find_dotenv()).parent\n",
    "sys.path.append(str(PROJECT_ROOT.joinpath(\"src\")))\n",
    "print(f\"Project root directory: {PROJECT_ROOT}\")\n",
    "\n",
    "from utils.neuroglancer_plotter import image_saver, group_plotter as ng_group_plotter\n",
    "\n",
    "from utils.ng_view import NG_View\n",
    "\n",
    "from utils import olc_client\n",
    "c = olc_client.connect(verbose=True)"
   ]
  },
  {
   "cell_type": "code",
   "execution_count": null,
   "metadata": {},
   "outputs": [],
   "source": [
    "res_df = pd.DataFrame(data={'hex1_id':[], 'hex2_id':[]})\n",
    "for n_type in ['C2', 'C3', 'L1', 'L2', 'L5', 'Mi1', 'Mi4', 'Mi9', 'T1', 'Tm1', 'Tm2', 'Tm20']:\n",
    "    data_path = PROJECT_ROOT / \"results\" / \"screenshots\" / n_type\n",
    "    dup = pd.read_pickle(PROJECT_ROOT / \"results\" / \"eyemap\" / f\"cols_{n_type}.pickle\")\n",
    "    neuron_ls = dup[dup[n_type]>0]\\\n",
    "        .dropna()\\\n",
    "        .groupby([n_type, 'hex1_id', 'hex2_id'])\\\n",
    "        .size()\\\n",
    "        .reset_index()\\\n",
    "        .sort_values(['hex1_id'])\n",
    "    neuron_ls = neuron_ls[['hex1_id', 'hex2_id', n_type]]\n",
    "    res_df = res_df.merge(neuron_ls,  how='outer', on=['hex1_id', 'hex2_id'])\n",
    "res_df = res_df\\\n",
    "    .astype('Int64')\\\n",
    "    .sort_values(['hex1_id', 'hex2_id'])\\\n",
    "    .reset_index(drop=True)"
   ]
  },
  {
   "cell_type": "code",
   "execution_count": null,
   "metadata": {},
   "outputs": [],
   "source": [
    "res_df[(res_df['hex1_id']==17) & (res_df['hex2_id']==4)]"
   ]
  },
  {
   "cell_type": "code",
   "execution_count": null,
   "metadata": {},
   "outputs": [],
   "source": [
    "res_df[['hex1_id', 'hex2_id']]"
   ]
  },
  {
   "cell_type": "code",
   "execution_count": null,
   "metadata": {},
   "outputs": [],
   "source": [
    "seven_bids = []\n",
    "for clms in [(3,8), (2,8), (4,8), (5,8)]:#, (2,8), (4,8), (3,7), (3,9), (4,7), (2,8)]:\n",
    "    column = res_df[(res_df['hex1_id']==clms[0]) & (res_df['hex2_id']==clms[1])]\n",
    "    bids = column\\\n",
    "        .loc[:, ~column.columns.isin(['hex1_id', 'hex2_id'])]\\\n",
    "        .values\\\n",
    "        .flatten()\\\n",
    "        .tolist()\n",
    "    seven_bids.extend(bids)"
   ]
  },
  {
   "cell_type": "code",
   "execution_count": null,
   "metadata": {},
   "outputs": [],
   "source": [
    "%autoreload 2\n",
    "from utils.neuroglancer_plotter import image_saver, group_plotter as ng_group_plotter\n",
    "colors = [\n",
    "    (0.48, 0.22, 0.28), (0.55, 0.27, 0.20), (0.62, 0.38, 0.17), (0.71, 0.54, 0.22)\n",
    "  , (0.81, 0.74, 0.40), (0.83, 0.86, 0.61), (0.73, 0.88, 0.76), (0.55, 0.80, 0.81)\n",
    "  , (0.38, 0.66, 0.78), (0.31, 0.50, 0.71), (0.35, 0.35, 0.58), (0.42, 0.25, 0.42)\n",
    "]\n",
    "\n",
    "(scrn, ng_link) = ng_group_plotter(\n",
    "                    body_ids=seven_bids\n",
    "                  , colors=colors\n",
    "                  , camera_distance=1\n",
    "                  , background_color=\"#000000\"\n",
    "                  , size=(1920,1920)\n",
    "                  , view=NG_View.SVD\n",
    "                )\n",
    "\n",
    "scrn"
   ]
  },
  {
   "cell_type": "code",
   "execution_count": null,
   "metadata": {},
   "outputs": [],
   "source": [
    "display(HTML(f'<a href=\"{ng_link}\">open neuroglancer</a>'))"
   ]
  },
  {
   "cell_type": "code",
   "execution_count": null,
   "metadata": {},
   "outputs": [],
   "source": []
  },
  {
   "cell_type": "code",
   "execution_count": null,
   "metadata": {},
   "outputs": [],
   "source": []
  }
 ],
 "metadata": {
  "kernelspec": {
   "display_name": "ol-connectome",
   "language": "python",
   "name": "python3"
  },
  "language_info": {
   "codemirror_mode": {
    "name": "ipython",
    "version": 3
   },
   "file_extension": ".py",
   "mimetype": "text/x-python",
   "name": "python",
   "nbconvert_exporter": "python",
   "pygments_lexer": "ipython3",
   "version": "3.11.3"
  },
  "vscode": {
   "interpreter": {
    "hash": "a784b976212e148af7ccf35fd5eae7d1ca185922ff1d3966d7683a1ca6703ecf"
   }
  }
 },
 "nbformat": 4,
 "nbformat_minor": 2
}
