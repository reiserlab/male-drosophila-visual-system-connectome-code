{
 "cells": [
  {
   "cell_type": "code",
   "execution_count": null,
   "id": "a2329a36-a1aa-4907-8116-062058671535",
   "metadata": {
    "tags": []
   },
   "outputs": [],
   "source": [
    "%load_ext autoreload\n",
    "from pathlib import Path\n",
    "import sys\n",
    "from dotenv import load_dotenv, find_dotenv\n",
    "load_dotenv()\n",
    "PROJECT_ROOT = Path(find_dotenv()).parent\n",
    "sys.path.append(str(PROJECT_ROOT.joinpath('src')))\n",
    "\n",
    "from utils import olc_client\n",
    "c = olc_client.connect(verbose=True)"
   ]
  },
  {
   "cell_type": "code",
   "execution_count": null,
   "id": "ee20c4b4-4b56-4f79-8bb7-a49deb258a06",
   "metadata": {
    "tags": []
   },
   "outputs": [],
   "source": [
    "%autoreload 2\n",
    "from utils.ROI_voxels import voxelize_col_and_lay"
   ]
  },
  {
   "cell_type": "code",
   "execution_count": null,
   "id": "b7312fa8-4450-491b-812a-df08c573d03d",
   "metadata": {},
   "outputs": [],
   "source": [
    "voxelize_col_and_lay(rois=['ME(R)'], columns=False)\n",
    "\n",
    "#expected runtime for all neuropils, col and lay: 15 min"
   ]
  },
  {
   "cell_type": "code",
   "execution_count": null,
   "id": "14a8083f",
   "metadata": {},
   "outputs": [],
   "source": []
  }
 ],
 "metadata": {
  "kernelspec": {
   "display_name": "ol-connectome",
   "language": "python",
   "name": "ol-connectome"
  },
  "language_info": {
   "codemirror_mode": {
    "name": "ipython",
    "version": 3
   },
   "file_extension": ".py",
   "mimetype": "text/x-python",
   "name": "python",
   "nbconvert_exporter": "python",
   "pygments_lexer": "ipython3",
   "version": "3.10.0"
  }
 },
 "nbformat": 4,
 "nbformat_minor": 5
}
