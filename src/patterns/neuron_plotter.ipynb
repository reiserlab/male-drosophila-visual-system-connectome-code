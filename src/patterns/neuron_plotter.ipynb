{
 "cells": [
  {
   "cell_type": "code",
   "execution_count": null,
   "metadata": {},
   "outputs": [],
   "source": [
    "%load_ext autoreload\n",
    "\"\"\"\n",
    "This cell does the initial project setup.\n",
    "If you start a new script or notebook, make sure to copy & paste this part.\n",
    "\n",
    "A script with this code uses the location of the `.env` file as the anchor for\n",
    "the whole project (= PROJECT_ROOT). Afterwards, code inside the `src` directory\n",
    "are available for import.\n",
    "\"\"\"\n",
    "from pathlib import Path\n",
    "import sys\n",
    "from dotenv import load_dotenv, find_dotenv\n",
    "load_dotenv()\n",
    "PROJECT_ROOT = Path(find_dotenv()).parent\n",
    "sys.path.append(str(PROJECT_ROOT.joinpath(\"src\")))\n",
    "print(f\"Project root directory: {PROJECT_ROOT}\")\n",
    "\n",
    "from utils.plotter import group_plotter, show_figure\n",
    "from utils import olc_client\n",
    "\n",
    "c = olc_client.connect(verbose=True)"
   ]
  },
  {
   "cell_type": "code",
   "execution_count": null,
   "metadata": {},
   "outputs": [],
   "source": [
    "%autoreload 2\n",
    "\n",
    "# Plot 4 neurons in 2 different colors\n",
    "\n",
    "grp1 = group_plotter(\n",
    "      body_ids=[17871, 20135, 27788, 31492]\n",
    "    , colors=[(1,0,0,.5), (0,1,0,.5)]\n",
    "    , camera_distance=1.4\n",
    "    #, ignore_cache=True\n",
    "  )\n",
    "\n",
    "show_figure(grp1)"
   ]
  },
  {
   "cell_type": "code",
   "execution_count": null,
   "metadata": {},
   "outputs": [],
   "source": [
    "grp2 = group_plotter(\n",
    "      body_ids=[46214, None, 55962, 61400]\n",
    "    , colors=[(1,0,0,.5), (0,1,0,.5)]\n",
    "    , plot_roi=\"ME(R)\"\n",
    "    , prune_roi=\"ME(R)\"\n",
    "    , camera_distance=1.8\n",
    "  )\n",
    "\n",
    "show_figure(\n",
    "    grp2\n",
    "  , width=500, height=300\n",
    "  , static=True\n",
    "  , showlegend=False)"
   ]
  },
  {
   "cell_type": "code",
   "execution_count": null,
   "metadata": {},
   "outputs": [],
   "source": [
    "%autoreload 2\n",
    "from utils.neuroglancer_plotter import group_plotter as ng_group_plotter\n",
    "\n",
    "img, lnk = ng_group_plotter(\n",
    "    body_ids=[17871, 20135, 27788, 31492]\n",
    "  #, colors=[(1,0,0,.5), (0,1,0,.5)]\n",
    "  , camera_distance=0.8\n",
    ")\n",
    "display(img)\n",
    "#12000?"
   ]
  },
  {
   "cell_type": "code",
   "execution_count": null,
   "metadata": {},
   "outputs": [],
   "source": [
    "img, lnk  = ng_group_plotter(\n",
    "          body_ids=[65399, 74994, 75510]\n",
    ")\n",
    "display(img)"
   ]
  },
  {
   "cell_type": "code",
   "execution_count": null,
   "metadata": {},
   "outputs": [],
   "source": [
    "\n",
    "ng_group_plotter(\n",
    "    body_ids=[33418,32198,31940,34549,34233,30811,39519,36926,33584,28480,27552,27318,27532,39197]\n",
    ")"
   ]
  }
 ],
 "metadata": {
  "kernelspec": {
   "display_name": ".venv",
   "language": "python",
   "name": "python3"
  },
  "language_info": {
   "codemirror_mode": {
    "name": "ipython",
    "version": 3
   },
   "file_extension": ".py",
   "mimetype": "text/x-python",
   "name": "python",
   "nbconvert_exporter": "python",
   "pygments_lexer": "ipython3",
   "version": "3.11.8"
  }
 },
 "nbformat": 4,
 "nbformat_minor": 2
}
