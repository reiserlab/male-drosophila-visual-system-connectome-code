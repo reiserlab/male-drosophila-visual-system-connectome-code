{
 "cells": [
  {
   "cell_type": "code",
   "execution_count": null,
   "metadata": {
    "lines_to_next_cell": 2
   },
   "outputs": [],
   "source": [
    "# Import optic lobe components\n",
    "import sys\n",
    "from pathlib import Path\n",
    "import jinja2\n",
    "import datetime\n",
    "from datetime import datetime\n",
    "from dotenv import load_dotenv, find_dotenv\n",
    "load_dotenv()\n",
    "PROJECT_ROOT = Path(find_dotenv()).parent\n",
    "sys.path.append(str(PROJECT_ROOT.joinpath('src')))\n",
    "\n",
    "from utils import olc_client\n",
    "c = olc_client.connect(verbose=True)\n",
    "\n",
    "from neuprint import NeuronCriteria as NC\n",
    "from neuprint import fetch_neurons\n",
    "# from patterns import fetch_and_organize_neuron_data\n",
    "\n",
    "from queries.completeness import fetch_ol_types_and_instances\n",
    "from utils.ol_color import OL_COLOR \n",
    "from html_pages.webpage_functions import get_meta_data"
   ]
  },
  {
   "cell_type": "code",
   "execution_count": null,
   "metadata": {},
   "outputs": [],
   "source": [
    "# Fetch unique instances and their types\n",
    "neuron_names = fetch_ol_types_and_instances(side='both', client=c)\n",
    "\n",
    "# # Determine types with multiple instances\n",
    "# type_counts = neuron_names['type'].value_counts()\n",
    "# multiple_instances = type_counts[type_counts > 1].index.tolist()\n",
    "\n",
    "# # Initialize list for available tags\n",
    "available_tags = []\n",
    "\n",
    "# Iterate over rows in the DataFrame\n",
    "for index, row in neuron_names.iterrows():\n",
    "    # Determine filename based on presence of multiple instances\n",
    "    link_to_instance = row['instance']\n",
    "    filename = row['type'] + f\" ({link_to_instance[-1]})\"\n",
    "    tag = {\"value\": filename, \"url\": f\"{link_to_instance}.html\"}\n",
    "\n",
    "    # Add tag to available_tags if not already present\n",
    "    if tag not in available_tags:\n",
    "        available_tags.append(tag)"
   ]
  },
  {
   "cell_type": "code",
   "execution_count": null,
   "metadata": {},
   "outputs": [],
   "source": [
    "from utils.ol_types import OLTypes\n",
    "olt = OLTypes()\n",
    "mylist = olt.get_neuron_list(side='both')"
   ]
  },
  {
   "cell_type": "code",
   "execution_count": null,
   "metadata": {},
   "outputs": [],
   "source": [
    "# Get main groups and html-tags\n",
    "# main_groups_dict, available_tags = fetch_and_organize_neuron_data(neuron_names)\n",
    "\n",
    "# Define the mapping from abbreviations to full names\n",
    "full_group_names = {\n",
    "    'OL_intrinsic': 'Optic Lobe Intrinsic Neurons',\n",
    "    'OL_connecting': 'Optic Lobe Connecting Neurons',\n",
    "    'VPN': 'Visual Projection Neurons',\n",
    "    'VCN': 'Visual Centrifugal Neurons',\n",
    "    'other': 'Other'\n",
    "}\n",
    "\n",
    "color_mapping_groups = {\n",
    "        'OL_intrinsic': OL_COLOR.OL_TYPES.hex[0], \n",
    "        'OL_connecting': OL_COLOR.OL_TYPES.hex[1],  \n",
    "        'VPN': OL_COLOR.OL_TYPES.hex[2],  \n",
    "        'VCN': OL_COLOR.OL_TYPES.hex[3],  \n",
    "        'other': OL_COLOR.OL_TYPES.hex[4],  \n",
    "    }"
   ]
  },
  {
   "cell_type": "code",
   "execution_count": null,
   "metadata": {},
   "outputs": [],
   "source": [
    "# Fetch meta to the footer\n",
    "meta, lastDataBaseEdit, formattedDate = get_meta_data()\n"
   ]
  },
  {
   "cell_type": "code",
   "execution_count": null,
   "metadata": {},
   "outputs": [],
   "source": [
    "def render_and_save_templates(template_name, data_dict, output_filename):\n",
    "    # Assuming the templates are in the current directory for simplicity\n",
    "    environment = jinja2.Environment(loader=jinja2.FileSystemLoader('.'))\n",
    "\n",
    "    # Load the template\n",
    "    template = environment.get_template(template_name)\n",
    "\n",
    "    # Render the template with the dynamically passed data\n",
    "    rendered_template = template.render(**data_dict)\n",
    "\n",
    "    # Save the rendered template to an HTML file\n",
    "    with open(output_filename, \"w\") as file:\n",
    "        file.write(rendered_template)\n",
    "\n",
    "output_path = Path(PROJECT_ROOT, 'results',  'html_pages')\n",
    "# Data for the index page\n",
    "index_data_dict = {\n",
    "    'mylist': mylist,\n",
    "    'full_group_names': full_group_names,\n",
    "    'meta': meta,\n",
    "    'formattedDate' : formattedDate,\n",
    "    'lastDataBaseEdit' : lastDataBaseEdit,\n",
    "    'color_mapping_groups' : color_mapping_groups\n",
    "}\n",
    "\n",
    "render_and_save_templates(\n",
    "    \"cell_types.html.jinja\"\n",
    "  , index_data_dict\n",
    "  , output_path / \"cell_types.html\"\n",
    ")\n"
   ]
  },
  {
   "cell_type": "code",
   "execution_count": null,
   "metadata": {},
   "outputs": [],
   "source": [
    "\n",
    "# Data for the cover page\n",
    "cover_data_dict = {\n",
    "    'available_tags': available_tags, \n",
    "    'meta': meta, \n",
    "    'lastDataBaseEdit' : lastDataBaseEdit,\n",
    "    'formattedDate' : formattedDate\n",
    "}\n",
    "render_and_save_templates(\n",
    "    \"index.html.jinja\"\n",
    "  , cover_data_dict\n",
    "  , output_path / \"index.html\")"
   ]
  },
  {
   "cell_type": "code",
   "execution_count": null,
   "metadata": {},
   "outputs": [],
   "source": [
    "render_and_save_templates(\n",
    "    \"webpages_glossary.html.jinja\"\n",
    "  , {}\n",
    "  , output_path / \"webpages_glossary.html\"\n",
    ")"
   ]
  }
 ],
 "metadata": {
  "kernelspec": {
   "display_name": "Python 3 (ipykernel)",
   "language": "python",
   "name": "python3"
  },
  "language_info": {
   "codemirror_mode": {
    "name": "ipython",
    "version": 3
   },
   "file_extension": ".py",
   "mimetype": "text/x-python",
   "name": "python",
   "nbconvert_exporter": "python",
   "pygments_lexer": "ipython3",
   "version": "3.11.8"
  }
 },
 "nbformat": 4,
 "nbformat_minor": 4
}
