{
 "cells": [
  {
   "cell_type": "markdown",
   "id": "c69ed99d",
   "metadata": {},
   "source": [
    "Completeness is defined as the percentage of all synapses that are connected to identified optic lobe neurons. \n",
    "\n",
    "See \"..\\queries\\completeness.py\" for the exact definition. "
   ]
  },
  {
   "cell_type": "code",
   "execution_count": null,
   "id": "41f4d655",
   "metadata": {
    "execution": {
     "iopub.execute_input": "2023-08-25T18:30:57.414456Z",
     "iopub.status.busy": "2023-08-25T18:30:57.413687Z",
     "iopub.status.idle": "2023-08-25T18:30:57.448797Z",
     "shell.execute_reply": "2023-08-25T18:30:57.447824Z"
    },
    "title": "Project setup"
   },
   "outputs": [],
   "source": [
    "\"\"\"\n",
    "This cell does the initial project setup.\n",
    "If you start a new script or notebook, make sure to copy & paste this part.\n",
    "\n",
    "A script with this code uses the location of the `.env` file as the anchor for\n",
    "the whole project (= PROJECT_ROOT). Afterwards, code inside the `src` directory\n",
    "are available for import.\n",
    "\"\"\"\n",
    "from pathlib import Path\n",
    "import sys\n",
    "from dotenv import load_dotenv, find_dotenv\n",
    "load_dotenv()\n",
    "PROJECT_ROOT = Path(find_dotenv()).parent\n",
    "sys.path.append(str(PROJECT_ROOT.joinpath('src')))\n",
    "print(f\"Project root directory: {PROJECT_ROOT}\")"
   ]
  },
  {
   "cell_type": "code",
   "execution_count": null,
   "id": "569b7363",
   "metadata": {
    "execution": {
     "iopub.execute_input": "2023-08-25T18:30:57.453257Z",
     "iopub.status.busy": "2023-08-25T18:30:57.453004Z",
     "iopub.status.idle": "2023-08-25T18:30:58.434667Z",
     "shell.execute_reply": "2023-08-25T18:30:58.432453Z"
    },
    "lines_to_next_cell": 2,
    "title": "Imports"
   },
   "outputs": [],
   "source": [
    "\n",
    "from utils import olc_client\n",
    "from utils.excel_exporter import ExcelExporter\n",
    "from queries.completeness import fetch_ol_stats"
   ]
  },
  {
   "cell_type": "code",
   "execution_count": null,
   "id": "61fff054",
   "metadata": {
    "execution": {
     "iopub.execute_input": "2023-08-25T18:30:58.443465Z",
     "iopub.status.busy": "2023-08-25T18:30:58.442513Z",
     "iopub.status.idle": "2023-08-25T18:30:58.578349Z",
     "shell.execute_reply": "2023-08-25T18:30:58.577504Z"
    },
    "title": "Create client and fetch list of comp"
   },
   "outputs": [],
   "source": [
    "c = olc_client.connect(verbose=True)"
   ]
  },
  {
   "cell_type": "code",
   "execution_count": null,
   "id": "cf3223cb",
   "metadata": {
    "execution": {
     "iopub.execute_input": "2023-08-25T18:30:58.582398Z",
     "iopub.status.busy": "2023-08-25T18:30:58.581590Z",
     "iopub.status.idle": "2023-08-25T18:33:09.849942Z",
     "shell.execute_reply": "2023-08-25T18:33:09.847598Z"
    },
    "title": "Get the aggregated statistics directly out of the database."
   },
   "outputs": [],
   "source": [
    "neuron_types_stats = fetch_ol_stats()"
   ]
  },
  {
   "cell_type": "code",
   "execution_count": null,
   "id": "0cd189dd",
   "metadata": {
    "execution": {
     "iopub.execute_input": "2023-08-25T18:33:09.877955Z",
     "iopub.status.busy": "2023-08-25T18:33:09.877207Z",
     "iopub.status.idle": "2023-08-25T18:33:09.998994Z",
     "shell.execute_reply": "2023-08-25T18:33:09.998459Z"
    },
    "title": "Generate output"
   },
   "outputs": [],
   "source": [
    "# Save statistics to Excel file using the ExcelExporter\n",
    "exporter = ExcelExporter(\n",
    "    output_path=Path(PROJECT_ROOT, 'results', 'completeness')\n",
    "  , output_basename=\"Output Connection Completeness\"\n",
    ")\n",
    "\n",
    "exporter.export(neuron_types_stats)"
   ]
  },
  {
   "cell_type": "code",
   "execution_count": null,
   "id": "8a883da5",
   "metadata": {},
   "outputs": [],
   "source": []
  }
 ],
 "metadata": {
  "kernelspec": {
   "display_name": "ol-connectome",
   "language": "python",
   "name": "python3"
  },
  "language_info": {
   "codemirror_mode": {
    "name": "ipython",
    "version": 3
   },
   "file_extension": ".py",
   "mimetype": "text/x-python",
   "name": "python",
   "nbconvert_exporter": "python",
   "pygments_lexer": "ipython3",
   "version": "3.11.6"
  },
  "vscode": {
   "interpreter": {
    "hash": "a784b976212e148af7ccf35fd5eae7d1ca185922ff1d3966d7683a1ca6703ecf"
   }
  }
 },
 "nbformat": 4,
 "nbformat_minor": 5
}
