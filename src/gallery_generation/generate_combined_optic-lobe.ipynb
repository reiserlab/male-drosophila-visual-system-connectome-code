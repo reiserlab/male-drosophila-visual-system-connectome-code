{
 "cells": [
  {
   "cell_type": "code",
   "execution_count": null,
   "metadata": {},
   "outputs": [],
   "source": [
    "\"\"\"\n",
    "This cell does the initial project setup.\n",
    "If you start a new script or notebook, make sure to copy & paste this part.\n",
    "\n",
    "A script with this code uses the location of the `.env` file as the anchor for\n",
    "the whole project (= PROJECT_ROOT). Afterwards, code inside the `src` directory\n",
    "are available for import.\n",
    "\"\"\"\n",
    "from pathlib import Path\n",
    "import sys\n",
    "import numpy as np\n",
    "\n",
    "from dotenv import load_dotenv, find_dotenv\n",
    "\n",
    "load_dotenv()\n",
    "PROJECT_ROOT = Path(find_dotenv()).parent\n",
    "sys.path.append(str(PROJECT_ROOT.joinpath(\"src\")))\n",
    "\n",
    "%load_ext autoreload\n",
    "%autoreload 2\n",
    "\n",
    "from utils.pdf_figure_functions import generate_gallery_pdf, check_for_imgs, check_for_jsons\n",
    "from utils.ol_types import OLTypes\n",
    "\n",
    "from utils import olc_client\n",
    "c = olc_client.connect(verbose=True)"
   ]
  },
  {
   "cell_type": "markdown",
   "metadata": {},
   "source": [
    "Generate combined PDFs of gallery plots for all neuron types "
   ]
  },
  {
   "cell_type": "code",
   "execution_count": null,
   "metadata": {},
   "outputs": [],
   "source": [
    "plot_type = 'gallery'\n",
    "check_for_imgs(plot_type=plot_type)\n",
    "check_for_jsons(plot_type=plot_type)"
   ]
  },
  {
   "cell_type": "code",
   "execution_count": null,
   "metadata": {},
   "outputs": [],
   "source": [
    "pdf_specs = {\n",
    "    \"pdf_w\": 216\n",
    "  , \"pdf_h\": 280\n",
    "  , \"pdf_res\": 96\n",
    "  , \"font_size\": 7\n",
    "  , \"pdf_margin\": [0, 3]\n",
    "}\n",
    "\n",
    "rows_cols = [6, 4]\n",
    "n_per_pdf = rows_cols[0] * rows_cols[1]"
   ]
  },
  {
   "cell_type": "code",
   "execution_count": null,
   "metadata": {},
   "outputs": [],
   "source": [
    "nudge_dict = { \n",
    "    'Cm1_R': -2, 'Cm3_R': 7, 'Cm5_R': 3, 'Cm7_R': 7, 'Cm8_R': 6, 'Cm18_R': -2, 'Dm8b_R': 9, 'Dm10_R': -2\n",
    "  , 'Dm11_R': 6, 'Dm14_R': 4, 'Dm18_R': -3, 'HBeyelet_R': -3, 'Mi10_R': -2, 'Mi15_R': -2, 'Mi16_R': 7\n",
    "  , 'Pm4_R': 4, 'MeTu3b_R': 7, 'T1_R': -2, 'TmY4_R': 3, 'TmY13_R': 7, 'TmY14_R': 7, 'TmY15_R': 7\n",
    "  , 'TmY16_R': 7, 'TmY36_R': 7, 'TmY37_R': -2, 'Tm6_R': -2, 'Tm12_R': 6, 'Tm1_R': -2, 'Tm2_R': -2\n",
    "  , 'Tm3_R': -2, 'Tm4_R': -2, 'Lawf1_R': 7, 'Lawf2_R': -4, 'Tm20_R': 7, 'Tm34_R': 7, 'Tm36_R':-2\n",
    "  , 'Tm37_R':-1, 'Tm38_R':6, 'Tm39_R':7, 'Tm40_R': 7, 'TmY3_R': 7, 'TmY10_R': 7\n",
    "}"
   ]
  },
  {
   "cell_type": "code",
   "execution_count": null,
   "metadata": {},
   "outputs": [],
   "source": [
    "olt = OLTypes()\n",
    "main_groups = [\"OL_connecting\", \"OL_intrinsic\", \"VCN\", \"VPN\", \"other\"]\n",
    "\n",
    "\n",
    "page_number = 0\n",
    "\n",
    "for main_group in main_groups:\n",
    "    df_type = olt.get_neuron_list(primary_classification=main_group, side=\"both\")\n",
    "    df_type[\"instance\"] = df_type['type'] + '_' + df_type['hemisphere']\n",
    "    inst_neurons = df_type[\"instance\"].to_list()\n",
    "\n",
    "    n_imgs = len(inst_neurons)\n",
    "    n_pdfs = int(np.ceil(n_imgs / n_per_pdf))\n",
    "\n",
    "    for idx, instances in enumerate(inst_neurons[i * n_per_pdf : (i + 1) * n_per_pdf] for i in range(n_pdfs)):\n",
    "        generate_gallery_pdf(\n",
    "            pdf_specs=pdf_specs\n",
    "          , page_idx=page_number\n",
    "          , instances=instances\n",
    "          , nudge_dict=nudge_dict\n",
    "          , rows_cols=rows_cols\n",
    "        )\n",
    "        page_number += 1"
   ]
  },
  {
   "cell_type": "code",
   "execution_count": null,
   "metadata": {},
   "outputs": [],
   "source": []
  }
 ],
 "metadata": {
  "kernelspec": {
   "display_name": ".venv",
   "language": "python",
   "name": "python3"
  },
  "language_info": {
   "codemirror_mode": {
    "name": "ipython",
    "version": 3
   },
   "file_extension": ".py",
   "mimetype": "text/x-python",
   "name": "python",
   "nbconvert_exporter": "python",
   "pygments_lexer": "ipython3",
   "version": "3.11.6"
  }
 },
 "nbformat": 4,
 "nbformat_minor": 2
}
