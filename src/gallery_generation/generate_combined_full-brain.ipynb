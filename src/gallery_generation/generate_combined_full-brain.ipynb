{
 "cells": [
  {
   "cell_type": "code",
   "execution_count": null,
   "metadata": {},
   "outputs": [],
   "source": [
    "\"\"\"\n",
    "This cell does the initial project setup.\n",
    "If you start a new script or notebook, make sure to copy & paste this part.\n",
    "\n",
    "A script with this code uses the location of the `.env` file as the anchor for\n",
    "the whole project (= PROJECT_ROOT). Afterwards, code inside the `src` directory\n",
    "are available for import.\n",
    "\"\"\"\n",
    "from pathlib import Path\n",
    "import sys\n",
    "\n",
    "from dotenv import load_dotenv, find_dotenv\n",
    "\n",
    "load_dotenv()\n",
    "PROJECT_ROOT = Path(find_dotenv()).parent\n",
    "sys.path.append(str(PROJECT_ROOT.joinpath(\"src\")))\n",
    "\n",
    "%load_ext autoreload\n",
    "%autoreload 2\n",
    "\n",
    "from utils.pdf_figure_functions import generate_group_pdf, check_for_imgs, check_for_jsons\n",
    "\n",
    "from utils import olc_client\n",
    "c = olc_client.connect(verbose=True)"
   ]
  },
  {
   "cell_type": "markdown",
   "metadata": {},
   "source": [
    "Generate combined PDFs of VCN / VPN group plots. "
   ]
  },
  {
   "cell_type": "code",
   "execution_count": null,
   "metadata": {},
   "outputs": [],
   "source": [
    "plot_type = 'group'\n",
    "check_for_imgs(plot_type=plot_type)\n",
    "check_for_jsons(plot_type=plot_type)"
   ]
  },
  {
   "cell_type": "code",
   "execution_count": null,
   "metadata": {},
   "outputs": [],
   "source": [
    "pdf_specs = {\n",
    "    \"pdf_w\": 216\n",
    "  , \"pdf_h\": 280\n",
    "  , \"pdf_res\": 96\n",
    "  , \"font_size\": 5\n",
    "  , \"pdf_margin\": [0, 0]\n",
    "}"
   ]
  },
  {
   "cell_type": "code",
   "execution_count": null,
   "metadata": {},
   "outputs": [],
   "source": [
    "for main_group in [\"VPN\", \"VCN\"]:\n",
    "    generate_group_pdf(plot_type=main_group, pdf_specs=pdf_specs)"
   ]
  }
 ],
 "metadata": {
  "kernelspec": {
   "display_name": ".venv",
   "language": "python",
   "name": "python3"
  },
  "language_info": {
   "codemirror_mode": {
    "name": "ipython",
    "version": 3
   },
   "file_extension": ".py",
   "mimetype": "text/x-python",
   "name": "python",
   "nbconvert_exporter": "python",
   "pygments_lexer": "ipython3",
   "version": "3.11.6"
  }
 },
 "nbformat": 4,
 "nbformat_minor": 2
}
