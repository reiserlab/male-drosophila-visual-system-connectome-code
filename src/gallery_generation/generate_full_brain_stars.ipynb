{
 "cells": [
  {
   "cell_type": "markdown",
   "metadata": {},
   "source": [
    "## Fill and save the template"
   ]
  },
  {
   "cell_type": "code",
   "execution_count": null,
   "metadata": {},
   "outputs": [],
   "source": [
    "import sys\n",
    "import os\n",
    "import math\n",
    "from pathlib import Path\n",
    "import pandas as pd\n",
    "\n",
    "from dotenv import load_dotenv, find_dotenv\n",
    "load_dotenv()\n",
    "PROJECT_ROOT = Path(find_dotenv()).parent\n",
    "sys.path.append(str(PROJECT_ROOT.joinpath('src')))\n",
    "print(f\"Project root directory: {PROJECT_ROOT}\")\n",
    "\n",
    "from utils.neuron_bag import NeuronBag\n",
    "from utils.gallery_filler import generate_gallery_json\n",
    "from utils.rend_params import get_rend_params\n",
    "from utils import olc_client\n",
    "from utils.ol_color import OL_COLOR\n",
    "from utils.ol_types import OLTypes\n",
    "\n",
    "c = olc_client.connect(verbose=True)"
   ]
  },
  {
   "cell_type": "code",
   "execution_count": null,
   "metadata": {},
   "outputs": [],
   "source": [
    "olt = OLTypes()\n",
    "oli_list = olt.get_neuron_list()"
   ]
  },
  {
   "cell_type": "code",
   "execution_count": null,
   "metadata": {},
   "outputs": [],
   "source": [
    "iter_counter = 0\n",
    "for idx, row in oli_list.reset_index().sample(frac=1).iterrows():\n",
    "    iter_counter += 1\n",
    "    all_cell_dict = {}\n",
    "    txt_pos = 0.92\n",
    "\n",
    "    body_id_dict = {}\n",
    "\n",
    "    a_bag = NeuronBag(cell_type=row['type'])\n",
    "    body_id = a_bag.get_body_ids(1)[0]\n",
    "    if isinstance(row['star_neuron'], int):\n",
    "       body_id = row['star_neuron']\n",
    "\n",
    "    camera_dict = get_rend_params('camera', 'whole_brain')\n",
    "    scalebar_dict = get_rend_params('scalebar','whole_brain')\n",
    "\n",
    "    group_dict = {}\n",
    "    body_id_dict = {\n",
    "        'type': row['type']\n",
    "      , 'body_ids': [body_id]\n",
    "      , 'body_color': [0,0,0,1]\n",
    "      , 'text_position': [0.03, txt_pos]\n",
    "      , 'text_align': 'l'\n",
    "      , 'number_of_cells': a_bag.size\n",
    "      , 'slice_width': 0 \n",
    "    }\n",
    "  \n",
    "    group_dict[row['type']] = body_id_dict   \n",
    "\n",
    "    generate_gallery_json(\n",
    "        type_of_plot=\"Full-Brain\"\n",
    "      , description=\"star_wb\"\n",
    "      , type_or_group=row['type']\n",
    "      , title=\"\"\n",
    "      , view='whole_brain'\n",
    "      , list_of_ids=group_dict\n",
    "      , neuropil_color=[]\n",
    "      , camera=camera_dict\n",
    "      , slicer={}\n",
    "      , scalebar=scalebar_dict\n",
    "      , n_vis={}\n",
    "      , directory='all_star_gallery'\n",
    "      , template=\"gallery-descriptions.json.jinja\"\n",
    "    )\n",
    "    print(f\"Json generation done for {row['type']}\")\n",
    "    \n",
    "    # Stop if number of iterations exceed the environment variable `GALLERY_EXAMPLES`\n",
    "    stop_after = os.environ.get('GALLERY_EXAMPLES')\n",
    "    if stop_after:\n",
    "        if stop_after := int(stop_after):\n",
    "            if stop_after <= iter_counter:\n",
    "                break\n",
    "        else:\n",
    "            break"
   ]
  },
  {
   "cell_type": "code",
   "execution_count": null,
   "metadata": {},
   "outputs": [],
   "source": []
  }
 ],
 "metadata": {
  "kernelspec": {
   "display_name": "Python 3 (ipykernel)",
   "language": "python",
   "name": "python3"
  },
  "language_info": {
   "codemirror_mode": {
    "name": "ipython",
    "version": 3
   },
   "file_extension": ".py",
   "mimetype": "text/x-python",
   "name": "python",
   "nbconvert_exporter": "python",
   "pygments_lexer": "ipython3",
   "version": "3.11.8"
  }
 },
 "nbformat": 4,
 "nbformat_minor": 4
}
