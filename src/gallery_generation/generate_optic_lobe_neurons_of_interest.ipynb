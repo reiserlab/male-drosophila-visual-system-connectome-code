{
 "cells": [
  {
   "cell_type": "markdown",
   "metadata": {},
   "source": [
    "## Fill and save the template"
   ]
  },
  {
   "cell_type": "code",
   "execution_count": null,
   "metadata": {},
   "outputs": [],
   "source": [
    "import sys\n",
    "import os\n",
    "import random\n",
    "from pathlib import Path\n",
    "\n",
    "from dotenv import load_dotenv, find_dotenv\n",
    "load_dotenv()\n",
    "PROJECT_ROOT = Path(find_dotenv()).parent\n",
    "sys.path.append(str(PROJECT_ROOT.joinpath('src')))\n",
    "print(f\"Project root directory: {PROJECT_ROOT}\")\n",
    "\n",
    "from utils import olc_client\n",
    "from utils.rend_params import get_one_off_params\n",
    "from utils.gallery_filler import generate_one_off\n",
    "from utils.ol_color import OL_COLOR\n",
    "from utils.neuron_bag import NeuronBag\n",
    "from utils.hex_hex import hex_to_bids\n",
    "from utils.ol_types import OLTypes\n",
    "\n",
    "\n",
    "c = olc_client.connect(verbose=True)"
   ]
  },
  {
   "cell_type": "code",
   "execution_count": null,
   "metadata": {},
   "outputs": [],
   "source": [
    "plots = get_one_off_params()"
   ]
  },
  {
   "cell_type": "code",
   "execution_count": null,
   "metadata": {},
   "outputs": [],
   "source": [
    "iter_counter = 0\n",
    "for name, values in random.sample(list(plots.items()), len(plots.items())):\n",
    "    iter_counter += 1\n",
    "    generate_one_off(\n",
    "        plot_name=name\n",
    "      , columnar_list=values['columnar_list']\n",
    "      , list_bids_to_plot=values['list_bids_to_plot']\n",
    "      , hex_assign=values['hex_assign']\n",
    "      , text_placement=values['text_placement']\n",
    "      , replace=values['replace']\n",
    "      , directory=values['directory']\n",
    "      , body_color_list=values['body_color_list']\n",
    "      , body_color_order=values['body_color_order']\n",
    "      , color_by=values['color_by']\n",
    "      , n_vis=values['n_vis']\n",
    "      , neuropil_color=OL_COLOR.OL_NEUROPIL_LAYERS.rgba\n",
    "      , the_view=values['view']\n",
    "    )\n",
    "    # Stop if number of iterations exceed the environment variable `GALLERY_EXAMPLES`\n",
    "    stop_after = os.environ.get('GALLERY_EXAMPLES')\n",
    "    if stop_after:\n",
    "        if stop_after := int(stop_after):\n",
    "            if stop_after <= iter_counter:\n",
    "                break\n",
    "        else:\n",
    "            break"
   ]
  },
  {
   "cell_type": "code",
   "execution_count": null,
   "metadata": {},
   "outputs": [],
   "source": []
  }
 ],
 "metadata": {
  "kernelspec": {
   "display_name": "Python 3 (ipykernel)",
   "language": "python",
   "name": "python3"
  },
  "language_info": {
   "codemirror_mode": {
    "name": "ipython",
    "version": 3
   },
   "file_extension": ".py",
   "mimetype": "text/x-python",
   "name": "python",
   "nbconvert_exporter": "python",
   "pygments_lexer": "ipython3",
   "version": "3.11.8"
  }
 },
 "nbformat": 4,
 "nbformat_minor": 4
}
