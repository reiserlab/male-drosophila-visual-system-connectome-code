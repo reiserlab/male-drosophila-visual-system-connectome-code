{
 "cells": [
  {
   "cell_type": "markdown",
   "metadata": {},
   "source": [
    "## Fill and save the template"
   ]
  },
  {
   "cell_type": "code",
   "execution_count": null,
   "metadata": {},
   "outputs": [],
   "source": [
    "import sys\n",
    "import os\n",
    "import math\n",
    "from pathlib import Path\n",
    "import pandas as pd\n",
    "\n",
    "from dotenv import load_dotenv, find_dotenv\n",
    "load_dotenv()\n",
    "PROJECT_ROOT = Path(find_dotenv()).parent\n",
    "sys.path.append(str(PROJECT_ROOT.joinpath('src')))\n",
    "print(f\"Project root directory: {PROJECT_ROOT}\")\n",
    "\n",
    "from utils.neuron_bag import NeuronBag\n",
    "from utils.gallery_filler import generate_gallery_json\n",
    "from utils.rend_params import get_rend_params\n",
    "from utils import olc_client\n",
    "from utils.ol_color import OL_COLOR\n",
    "from utils.ol_types import OLTypes\n",
    "\n",
    "c = olc_client.connect(verbose=True)"
   ]
  },
  {
   "cell_type": "code",
   "execution_count": null,
   "metadata": {},
   "outputs": [],
   "source": [
    "olt = OLTypes()\n",
    "oli_list = olt.get_neuron_list(primary_classification=['VPN', 'VCN', 'other'])"
   ]
  },
  {
   "cell_type": "code",
   "execution_count": null,
   "metadata": {},
   "outputs": [],
   "source": [
    "\"\"\"\n",
    "GROUPS OF ONE TYPE\n",
    "\n",
    "Only VPNs and VCNs are included in this type of plot because it is not a useful\n",
    "plot for optic lobe intrinsic neurons. For the most part, when optic lobe intrinsic neurons are \n",
    "plotted in this way, they simply fill one or more of the optic lobe neuropils completely. \n",
    "The primary purpose of this type of plot was so that people could see how individual neuron types project to the central brain.\n",
    "\n",
    "Generate JSON files for making Groups of all neurons by type\n",
    "\"\"\"\n",
    "\n",
    "iter_counter = 0\n",
    "for idx, row in oli_list.reset_index().sample(frac=1).iterrows():\n",
    "    iter_counter += 1\n",
    "    txt_pos = 0.92\n",
    "\n",
    "    body_id_dict = {}\n",
    "\n",
    "    a_bag = NeuronBag(cell_type=row['type'], side='R-dominant')\n",
    "\n",
    "    sorted_body_ids = a_bag.get_body_ids(a_bag.size)\n",
    "    body_id_list=sorted_body_ids.tolist()\n",
    "\n",
    "    camera_dict = get_rend_params('camera', 'whole_brain')\n",
    "    scalebar_dict = get_rend_params('scalebar', 'whole_brain')\n",
    "\n",
    "    group_dict = {}\n",
    "    body_id_dict = {\n",
    "        'type': row['type']\n",
    "      , 'body_ids': body_id_list\n",
    "      , 'body_color': [0,0,0,1]\n",
    "      , 'text_position': [0.03, txt_pos]\n",
    "      , 'text_align': 'l'\n",
    "      , 'number_of_cells': len(sorted_body_ids) \n",
    "      , 'slice_width': 0 \n",
    "    }\n",
    "  \n",
    "    group_dict[row['type']] = body_id_dict   \n",
    "\n",
    "    generate_gallery_json(\n",
    "        type_of_plot=\"Full-Brain\"\n",
    "      , description = \"type\"\n",
    "      , type_or_group=row['type']\n",
    "      , title=\"\"\n",
    "      , view='whole_brain'\n",
    "      , list_of_ids=group_dict\n",
    "      , neuropil_color=[]\n",
    "      , camera=camera_dict\n",
    "      , slicer={}\n",
    "      , scalebar=scalebar_dict\n",
    "      , n_vis={}\n",
    "      , directory='group-of-one'\n",
    "      , template=\"gallery-descriptions.json.jinja\"\n",
    "    )\n",
    "    print(f\"Json generation done for {row['type']}\")\n",
    "\n",
    "    # Stop if number of iterations exceed the environment variable `GALLERY_EXAMPLES`\n",
    "    stop_after = os.environ.get('GALLERY_EXAMPLES')\n",
    "    if stop_after:\n",
    "        if stop_after := int(stop_after):\n",
    "            if stop_after <= iter_counter:\n",
    "                break\n",
    "        else:\n",
    "            break"
   ]
  },
  {
   "cell_type": "code",
   "execution_count": null,
   "metadata": {},
   "outputs": [],
   "source": []
  }
 ],
 "metadata": {
  "kernelspec": {
   "display_name": "Python 3 (ipykernel)",
   "language": "python",
   "name": "python3"
  },
  "language_info": {
   "codemirror_mode": {
    "name": "ipython",
    "version": 3
   },
   "file_extension": ".py",
   "mimetype": "text/x-python",
   "name": "python",
   "nbconvert_exporter": "python",
   "pygments_lexer": "ipython3",
   "version": "3.11.8"
  }
 },
 "nbformat": 4,
 "nbformat_minor": 4
}
