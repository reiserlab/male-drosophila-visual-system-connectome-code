{
 "cells": [
  {
   "attachments": {},
   "cell_type": "markdown",
   "id": "df4f09ca",
   "metadata": {
    "tags": []
   },
   "source": [
    "# Plot 3D\n",
    "\n",
    "Questions to: Art\n",
    "\n",
    "For installation see also see [show_one_neuron.py](show_one_neuron.py).\n"
   ]
  },
  {
   "cell_type": "code",
   "execution_count": null,
   "metadata": {
    "lines_to_next_cell": 2,
    "tags": []
   },
   "outputs": [],
   "source": [
    "\"\"\"\n",
    "This cell does the initial project setup.\n",
    "If you start a new script or notebook, make sure to copy & paste this part.\n",
    "\n",
    "A script with this code uses the location of the `.env` file as the anchor for\n",
    "the whole project (= PROJECT_ROOT). Afterwards, code inside the `src` directory\n",
    "are available for import.\n",
    "\"\"\"\n",
    "from pathlib import Path\n",
    "import sys\n",
    "from dotenv import load_dotenv, find_dotenv\n",
    "load_dotenv()\n",
    "PROJECT_ROOT = Path(find_dotenv()).parent\n",
    "sys.path.append(str(PROJECT_ROOT.joinpath('src')))\n",
    "print(f\"Project root directory: {PROJECT_ROOT}\")"
   ]
  },
  {
   "cell_type": "code",
   "execution_count": null,
   "id": "e088eca6",
   "metadata": {
    "lines_to_next_cell": 2
   },
   "outputs": [],
   "source": [
    "\"\"\" Imports related to data loading and wrangling \"\"\"\n",
    "\n",
    "import pickle\n",
    "\n",
    "from neuprint import NeuronCriteria as NC\n",
    "\n",
    "# use shorthand suggested in \n",
    "# https://navis.readthedocs.io/en/latest/source/tutorials/neuprint.html\n",
    "import navis\n",
    "import navis.interfaces.neuprint as neu\n",
    "\n",
    "from utils.plotter import get_skeletons, get_meshes\n",
    "from utils import olc_client\n",
    "c = olc_client.connect(verbose=True)"
   ]
  },
  {
   "cell_type": "code",
   "execution_count": null,
   "id": "5f00104f",
   "metadata": {
    "lines_to_next_cell": 2
   },
   "outputs": [],
   "source": [
    "\"\"\" Imports related to plotting \"\"\"\n",
    "# plotly backend\n",
    "import plotly.express as px\n",
    "# use shorthand suggested in https://plotly.com/python/graph-objects/\n",
    "import plotly.graph_objects as go\n",
    "\n",
    "# K3D backend\n",
    "import k3d"
   ]
  },
  {
   "cell_type": "code",
   "execution_count": null,
   "id": "3a6b4b2c",
   "metadata": {},
   "outputs": [],
   "source": [
    "\"\"\" \n",
    "load medulla columns as a reference\n",
    "\n",
    "you'll need to get this file first \"results/eyemap/Mi1_to_T4_hex.pickle\"\n",
    "\"\"\"\n",
    "\n",
    "with open(Path(PROJECT_ROOT, 'results', 'eyemap', 'Mi1_to_T4_hex.pickle'), 'rb') as f:\n",
    "    xyzpq = pickle.load(f) # [p,q] are reversed wrt eyemap paper, ie [q,p]\n",
    "\n",
    "xyzpq.rename(columns={'hex1_id':'p', 'hex2_id':'q'}, inplace=True)\n",
    "xyzpq.reset_index(inplace=True, drop=True)"
   ]
  },
  {
   "cell_type": "code",
   "execution_count": null,
   "id": "1fb28942",
   "metadata": {
    "lines_to_next_cell": 2
   },
   "outputs": [],
   "source": [
    "\"\"\" load some neurons \"\"\"\n",
    "\n",
    "# Let's load all Dm4 cells, first get meta data\n",
    "neu_df, roi_df = neu.fetch_neurons(NC(type=\"Pm4\"))\n",
    "\n",
    "# use a helper to load skeletons and meshes\n",
    "neu_ske = get_skeletons(neu_df['bodyId'][0:3].to_list())\n",
    "neu_msh = get_meshes(neu_df['bodyId'][0:3].to_list())"
   ]
  },
  {
   "cell_type": "code",
   "execution_count": null,
   "id": "2ba5e9c8",
   "metadata": {
    "lines_to_next_cell": 2
   },
   "outputs": [],
   "source": [
    "\"\"\" load a neuropil mesh \"\"\"\n",
    "ME_R = neu.fetch_roi('ME(R)')\n",
    "LO_R = neu.fetch_roi('LO(R)')\n",
    "LOP_R = neu.fetch_roi('LOP(R)')"
   ]
  },
  {
   "cell_type": "code",
   "execution_count": null,
   "id": "9d2149f3",
   "metadata": {},
   "outputs": [],
   "source": [
    "\"\"\" plotting option 1, plotly \"\"\"\n",
    "\n",
    "fig_n = navis.plot3d(\n",
    "    neu_ske,\n",
    "    soma=False,\n",
    "    color='black', linewidth=2,\n",
    "    inline=False, backend='plotly')\n",
    "\n",
    "fig_col = px.scatter_3d(xyzpq,\n",
    "    x='x', y='y', z='z',\n",
    "    title=('med col'),\n",
    "    hover_name='bodyId',\n",
    "    hover_data=['p', 'q'])\n",
    "\n",
    "fig_col.update_traces(marker_size = 6, marker={\"color\":\"gray\"}, opacity=0.2)\n",
    "\n",
    "fig_mesh = navis.plot3d(\n",
    "    [ME_R, LO_R, LOP_R]\n",
    "    , color=['yellow','yellow','grey']\n",
    "    , alpha=0.2\n",
    "    , inline=False\n",
    "    , backend='plotly')\n",
    "\n",
    "fig = go.Figure(data= fig_col.data + fig_n.data + fig_mesh.data)\n",
    "\n",
    "fig.update_layout(autosize=False, width=900, height=600)\n",
    "fig.update_layout(margin={\"l\":0, \"r\":0, \"b\":0, \"t\":0})\n",
    "\n",
    "fig.show()"
   ]
  },
  {
   "cell_type": "code",
   "execution_count": null,
   "id": "c99399d4",
   "metadata": {},
   "outputs": [],
   "source": [
    "\"\"\" plot option 2, k3d \"\"\"\n",
    "# This options seems to be broken on different machines.\n",
    "# This is deprecated for out code basis, we decided to use \n",
    "# plotly (either directly or through navis) everywhere\n",
    "\n",
    "fig = k3d.plot(grid_visible=False)\n",
    "fig += k3d.points(\n",
    "    positions= xyzpq[['x','y','z']]\n",
    "  , point_size=200\n",
    "  , shader='3d'\n",
    "  , color=0x3f6bc5\n",
    ")\n",
    "\n",
    "# FL: Adding the labels in one go instead of loop (faster)\n",
    "position = xyzpq.loc[:,['x','y','z']]\n",
    "label = xyzpq.apply(lambda row:  f\"[{row.p:.0f},{row.q:.0f}]\", axis=1)\n",
    "textpq = k3d.text(text=label.tolist(), position=position, size= 0.5, label_box=False)\n",
    "fig += textpq\n",
    "\n",
    "\n",
    "# FL: Adding skeletons by plotting them in navis and then extracting the k3d objects\n",
    "skel_plot = navis.plot3d(\n",
    "    neu_ske\n",
    "  , soma=False\n",
    "  , color='black', linewidth=2\n",
    "  , inline=False, backend='k3d'\n",
    ")\n",
    "\n",
    "for k3d_o in skel_plot.objects:\n",
    "    fig += k3d_o\n",
    "\n",
    "# FL: Adding neuropil by plotting it in navis and then extracting the k3d objects\n",
    "np_plots = navis.plot3d(ME_R, color='yellow', inline=False, backend='k3d')\n",
    "\n",
    "for k3d_o in np_plots.objects:\n",
    "    fig += k3d_o\n",
    "\n",
    "fig.display()"
   ]
  },
  {
   "cell_type": "code",
   "execution_count": null,
   "metadata": {},
   "outputs": [],
   "source": [
    "\"\"\" plot option 3, pure navis \"\"\"\n",
    "\n",
    "ME_R.color=(255, 255, 0, 0.2)\n",
    "navis.plot3d([xyzpq, neu_ske, ME_R, LO_R, LOP_R], color = 'k', scatter_kws={\"color\":\"b\"})"
   ]
  },
  {
   "cell_type": "code",
   "execution_count": null,
   "metadata": {},
   "outputs": [],
   "source": []
  }
 ],
 "metadata": {
  "kernelspec": {
   "display_name": ".venv",
   "language": "python",
   "name": "python3"
  },
  "language_info": {
   "codemirror_mode": {
    "name": "ipython",
    "version": 3
   },
   "file_extension": ".py",
   "mimetype": "text/x-python",
   "name": "python",
   "nbconvert_exporter": "python",
   "pygments_lexer": "ipython3",
   "version": "3.11.6"
  }
 },
 "nbformat": 4,
 "nbformat_minor": 2
}
