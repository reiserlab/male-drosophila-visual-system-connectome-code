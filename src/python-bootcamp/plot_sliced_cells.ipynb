{
 "cells": [
  {
   "cell_type": "markdown",
   "metadata": {},
   "source": [
    "# Cell slicing\n",
    "\n",
    "This is a demo file for how to create galleries of cells."
   ]
  },
  {
   "cell_type": "code",
   "execution_count": null,
   "metadata": {},
   "outputs": [],
   "source": [
    "%load_ext autoreload\n",
    "\"\"\"\n",
    "This cell does the initial project setup.\n",
    "\"\"\"\n",
    "from pathlib import Path\n",
    "import sys\n",
    "from dotenv import load_dotenv, find_dotenv\n",
    "load_dotenv()\n",
    "PROJECT_ROOT = Path(find_dotenv()).parent\n",
    "sys.path.append(str(PROJECT_ROOT.joinpath('src')))\n",
    "print(f\"Project root directory: {PROJECT_ROOT}\")"
   ]
  },
  {
   "cell_type": "code",
   "execution_count": null,
   "metadata": {},
   "outputs": [],
   "source": [
    "\"\"\" Imports related to data loading \"\"\"\n",
    "from neuprint import NeuronCriteria as NC\n",
    "\n",
    "import navis\n",
    "import navis.interfaces.neuprint as neu\n",
    "\n",
    "from utils import olc_client\n",
    "c = olc_client.connect(verbose=True)"
   ]
  },
  {
   "cell_type": "code",
   "execution_count": null,
   "metadata": {},
   "outputs": [],
   "source": [
    "%autoreload 2\n",
    "\"\"\"\n",
    "imports related cell selection and plotting\n",
    "\n",
    "if you modify any of the libraries, you will only need to rerun this cell, `autoreload` will\n",
    "reload your newest version of the code.\n",
    "\n",
    "\"\"\"\n",
    "from utils.hex_hex import hex_to_bids\n",
    "from utils.plotter import group_plotter, show_figure, save_figure\n",
    "from utils.ng_view import NG_View\n",
    "from utils.helper import slugify\n",
    "from utils.neuron_bag import NeuronBag"
   ]
  },
  {
   "cell_type": "markdown",
   "metadata": {},
   "source": [
    "## Plot L1 and Mi1 from the center\n",
    "\n",
    "The next cell plots L1 (black) and Mi1 (magenta) from the location 18,18.\n",
    "\n",
    "The plot will be dynamic, you can rotate it."
   ]
  },
  {
   "cell_type": "code",
   "execution_count": null,
   "metadata": {},
   "outputs": [],
   "source": [
    "# define which column you want cells from\n",
    "hex_1_2_column = (18,18)\n",
    "\n",
    "# pull the body ids of columnar cells from the previously defined column\n",
    "ids_1818 = hex_to_bids(\n",
    "    hex_1_2_column\n",
    "  , n_types=['L1', 'Mi1']   # only get L1 and Mi1\n",
    "  , return_type='list'     # get the body ids as a simple list\n",
    ")\n"
   ]
  },
  {
   "cell_type": "code",
   "execution_count": null,
   "metadata": {},
   "outputs": [],
   "source": [
    "lc6_bag = NeuronBag(cell_type='LC6')\n",
    "ids_lc6 = lc6_bag.get_body_ids()"
   ]
  },
  {
   "cell_type": "code",
   "execution_count": null,
   "metadata": {},
   "outputs": [],
   "source": [
    "lc4_bag = NeuronBag(cell_type='LC4')\n",
    "lc4_bag.sort_by_distance_to_hex('LO(R)', 18, 18)\n",
    "ids_lc4 = lc4_bag.get_body_ids()"
   ]
  },
  {
   "cell_type": "code",
   "execution_count": null,
   "metadata": {},
   "outputs": [],
   "source": [
    "## See src/utils/plotter.py#group_plotter for all available options\n",
    "\n",
    "fig1 = group_plotter(\n",
    "    ids_1818                                    # list of body ids\n",
    "\n",
    "  , colors=[(0.,0.,0.,1.), (1., 0., 1., 1.)]    # list of colors (optional, if none given\n",
    "                                                #   a colorful pallette will be chose, first cell\n",
    "                                                #   in red)\n",
    "\n",
    "  , shadow_rois=['ME(R)', 'LO(R)', 'LOP(R)']    # This defines, for which ROIs you want to see\n",
    "                                                #   the backdrop.\n",
    "  \n",
    "  , prune_roi='slice'                           # say that you want your neuron pruned into a slice\n",
    "\n",
    "  , plot_synapses=False                         # The standard behavior of group_plotter is to \n",
    "                                                #   plot the synapses, but that might get a bit\n",
    "                                                #   crowded for this type of plots.\n",
    "\n",
    "  , plot_mesh=True                              # The standard behavior of group_plotter only shows\n",
    "                                                #   skeletons, no meshes.\n",
    "\n",
    "  , view=NG_View.GALLERY1                       # This defines the viewing direction. Gallery1 is\n",
    "                                                #   the one Art used in his initial prototype.\n",
    ")\n",
    "\n",
    "show_figure(\n",
    "    fig1\n",
    "  , width=1000, height=1000                     # Define the size of your plot (in px). 1000×10000 might be\n",
    "                                                #   a good size for preview and making decisions.\n",
    "  , showlegend=False                            # Disable the legend\n",
    ")\n",
    "\n",
    "## Expected runtime: about 15s"
   ]
  },
  {
   "cell_type": "markdown",
   "metadata": {},
   "source": [
    "If you like what you see, you can save it."
   ]
  },
  {
   "cell_type": "code",
   "execution_count": null,
   "metadata": {},
   "outputs": [],
   "source": [
    "save_figure(\n",
    "    fig1\n",
    "  , name=\"L1-Mi1_ME-LO-LOP_18x18\"                   # This will save the file to \n",
    "                                                    #   results/cell_gallery/L1-Mi1_ME-LO-LOP_18x18.png\n",
    "                                                    #   If that file already exists, it will add a timestamp\n",
    "                                                    #   to the filename.\n",
    "  \n",
    "  , width=1000, height=1000                         # same parameters as for `show_figure`\n",
    "  , showlegend=False\n",
    ")\n",
    "\n",
    "## Expected runtime: about 3s"
   ]
  },
  {
   "cell_type": "markdown",
   "metadata": {},
   "source": [
    "## Example automation\n",
    "\n"
   ]
  },
  {
   "cell_type": "code",
   "execution_count": null,
   "metadata": {},
   "outputs": [],
   "source": [
    "%%script false --no-raise-error\n",
    "# Remove the line above if you want to run the 2hr example.\n",
    "\n",
    "for c_t in ['L1', 'L2', 'L3', 'Mi1', 'Mi4', 'Mi9', 'C2', 'C3', 'Tm1', 'Tm2', 'Tm4', 'Tm9', 'Tm20', 'T1']:\n",
    "    for hex1 in range(15, 22):\n",
    "        for hex2 in range(15, 22):\n",
    "            body_id = hex_to_bids( (hex1, hex2), n_types=[c_t], return_type='list')\n",
    "            fig2 = group_plotter(body_id\n",
    "              , colors=[(0.,0.,0.,1.)]\n",
    "              , shadow_rois=['ME(R)', 'LO(R)', 'LOP(R)']\n",
    "              , prune_roi='slice'\n",
    "              , plot_synapses=False\n",
    "              , view=NG_View.GALLERY1)\n",
    "            filename = slugify(f\"{c_t}_{body_id}_{hex1}x{hex2}\", to_lower=False)\n",
    "            save_figure(fig2, name=filename, showlegend=False)\n",
    "\n",
    "## Expected runtime: >2hr"
   ]
  },
  {
   "cell_type": "code",
   "execution_count": null,
   "metadata": {},
   "outputs": [],
   "source": []
  }
 ],
 "metadata": {
  "kernelspec": {
   "display_name": ".venv",
   "language": "python",
   "name": "python3"
  },
  "language_info": {
   "codemirror_mode": {
    "name": "ipython",
    "version": 3
   },
   "file_extension": ".py",
   "mimetype": "text/x-python",
   "name": "python",
   "nbconvert_exporter": "python",
   "pygments_lexer": "ipython3",
   "version": "3.11.6"
  }
 },
 "nbformat": 4,
 "nbformat_minor": 2
}
