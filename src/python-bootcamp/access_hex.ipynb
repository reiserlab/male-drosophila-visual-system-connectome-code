{
 "cells": [
  {
   "cell_type": "code",
   "execution_count": null,
   "metadata": {},
   "outputs": [],
   "source": [
    "from pathlib import Path\n",
    "import sys\n",
    "from IPython.display import display\n",
    "\n",
    "import navis.interfaces.neuprint as navnp\n",
    "\n",
    "from dotenv import load_dotenv, find_dotenv\n",
    "load_dotenv()\n",
    "PROJECT_ROOT = Path(find_dotenv()).parent\n",
    "sys.path.append(str(PROJECT_ROOT.joinpath('src')))\n",
    "print(f\"Project root directory: {PROJECT_ROOT}\")\n",
    "\n",
    "from utils.plotter import group_plotter, show_figure\n",
    "from utils import olc_client\n",
    "c = olc_client.connect()\n",
    "\n",
    "# load some helper functions\n",
    "from utils.hex_hex import \\\n",
    "    hex_to_bids\\\n",
    "  , bid_to_hex\\\n",
    "  , get_hex_df\\\n",
    "  , get_incomplete_hex\\\n",
    "  , get_overfull_hex"
   ]
  },
  {
   "attachments": {},
   "cell_type": "markdown",
   "metadata": {},
   "source": [
    "# Conversions between hex and body IDs\n",
    "\n",
    "The `hex_hex.py` file has some helper functions to access the data frame provided by @kitlongden.\n",
    "Since the underlying data frame might change over time, please use the functions to access the data\n",
    "frame, don't load the file directly.\n",
    "\n",
    "## Find hex coordinates for body ID\n",
    "\n",
    "`bid_to_hex()` finds the Medulla hex coordinates for a single body ID."
   ]
  },
  {
   "cell_type": "code",
   "execution_count": null,
   "metadata": {},
   "outputs": [],
   "source": [
    "hex_for_nonexisting_body_id = bid_to_hex(23)\n",
    "display(f\"If the cell with body_id doesn't exist, the function returns \"\n",
    "        f\"'{hex_for_nonexisting_body_id}'\")\n",
    "\n",
    "hex_for_body_id = bid_to_hex(26973)\n",
    "display(f\"If the cell exists within the columnar structure, the function returns \"\n",
    "    f\"the (hex1, hex2) coordinates as a tuple: {hex_for_body_id}\")\n",
    "\n",
    "bid_to_hex(54865)\n"
   ]
  },
  {
   "attachments": {},
   "cell_type": "markdown",
   "metadata": {},
   "source": [
    "## Find bodyIDs for a hex\n",
    "\n",
    "`hex_to_bids()` gets all the cells that are assigned to a specific column. Define the column using\n",
    "a tuple. By default the function returns the body ids for all 12 cell types, but `n_types` can\n",
    "provide a list of cell types that the function should return.\n",
    "\n",
    "The function returns a dictionary with the cell types as keys and the body ids as a list of values.\n",
    "In most cases each key will have a list with a single item.\n",
    "\n",
    "The dictionary will not contain keys for cell types that are note represented in the column."
   ]
  },
  {
   "cell_type": "code",
   "execution_count": null,
   "metadata": {},
   "outputs": [],
   "source": [
    "hex_to_bids((30,17), n_types=['L1', 'Mi1'])\n"
   ]
  },
  {
   "attachments": {},
   "cell_type": "markdown",
   "metadata": {},
   "source": [
    "…or just get a flat list of body ids"
   ]
  },
  {
   "cell_type": "code",
   "execution_count": null,
   "metadata": {},
   "outputs": [],
   "source": [
    "hex_to_bids((30,17), n_types=['L1', 'Mi1'], return_type='list')\n"
   ]
  },
  {
   "attachments": {},
   "cell_type": "markdown",
   "metadata": {},
   "source": [
    "## Get the whole DataFrame\n",
    "\n",
    "This function gives you the whole DataFrame in the raw format. You will need to ask @kitlongden about\n",
    "the exact definition, what duplicate hex IDs and `NaN` means, and why the data frame has more rows\n",
    "than we have columns in the eye. So use at your own risk."
   ]
  },
  {
   "cell_type": "code",
   "execution_count": null,
   "metadata": {},
   "outputs": [],
   "source": [
    "get_hex_df()"
   ]
  },
  {
   "attachments": {},
   "cell_type": "markdown",
   "metadata": {},
   "source": [
    "## List of columns that are missing cell types\n",
    "\n",
    "This function returns a list of hex ID tuples where at least one of the 12 cell types is not\n",
    "present."
   ]
  },
  {
   "cell_type": "code",
   "execution_count": null,
   "metadata": {},
   "outputs": [],
   "source": [
    "get_incomplete_hex()"
   ]
  },
  {
   "attachments": {},
   "cell_type": "markdown",
   "metadata": {},
   "source": [
    "## List columns with duplicates\n",
    "\n",
    "This function returns a list of tuples with hex IDs for columns where more at least one cell type\n",
    "is present more than once."
   ]
  },
  {
   "cell_type": "code",
   "execution_count": null,
   "metadata": {},
   "outputs": [],
   "source": [
    "get_overfull_hex()"
   ]
  },
  {
   "cell_type": "code",
   "execution_count": null,
   "metadata": {},
   "outputs": [],
   "source": [
    "hex_to_bids((34,30), return_type='list')\n"
   ]
  },
  {
   "cell_type": "markdown",
   "metadata": {},
   "source": [
    "# Test some weird observation"
   ]
  },
  {
   "cell_type": "code",
   "execution_count": null,
   "metadata": {},
   "outputs": [],
   "source": [
    "# This used to have 2 different columns\n",
    "bid_to_hex(104527)"
   ]
  },
  {
   "attachments": {},
   "cell_type": "markdown",
   "metadata": {},
   "source": [
    "## combine functions\n",
    "\n",
    "You can combine these functions, for example iterate over the list of columns with more than one\n",
    "cell type and then get the list of body IDs for that column. You can, for example, see that\n",
    "hex (6,9) has two Mi9 cell with body IDs 138465 and 138015."
   ]
  },
  {
   "cell_type": "code",
   "execution_count": null,
   "metadata": {},
   "outputs": [],
   "source": [
    "for of in get_overfull_hex():\n",
    "    display(f\"hex {of} has the following 'type': [body_ids] {hex_to_bids(of)}\")"
   ]
  },
  {
   "attachments": {},
   "cell_type": "markdown",
   "metadata": {},
   "source": [
    "A list of columns that is missing at least one of the 12 cell types and count how many different\n",
    "types there are."
   ]
  },
  {
   "cell_type": "code",
   "execution_count": null,
   "metadata": {},
   "outputs": [],
   "source": [
    "for of in get_incomplete_hex():\n",
    "    display(f\"hex {of} has {len(hex_to_bids(of))} different neuron types\")"
   ]
  },
  {
   "cell_type": "code",
   "execution_count": null,
   "metadata": {},
   "outputs": [],
   "source": [
    "me_r = navnp.fetch_roi('ME_R_col_34_30')\n",
    "\n",
    "col_34_30 = group_plotter(\n",
    "      body_ids=hex_to_bids((34,30), return_type='list')\n",
    "    , camera_distance=1.4\n",
    "    #, ignore_cache=True\n",
    "  )\n",
    "show_figure(col_34_30)"
   ]
  },
  {
   "cell_type": "code",
   "execution_count": null,
   "metadata": {},
   "outputs": [],
   "source": []
  }
 ],
 "metadata": {
  "kernelspec": {
   "display_name": ".venv",
   "language": "python",
   "name": "python3"
  },
  "language_info": {
   "codemirror_mode": {
    "name": "ipython",
    "version": 3
   },
   "file_extension": ".py",
   "mimetype": "text/x-python",
   "name": "python",
   "nbconvert_exporter": "python",
   "pygments_lexer": "ipython3",
   "version": "3.11.6"
  }
 },
 "nbformat": 4,
 "nbformat_minor": 2
}
