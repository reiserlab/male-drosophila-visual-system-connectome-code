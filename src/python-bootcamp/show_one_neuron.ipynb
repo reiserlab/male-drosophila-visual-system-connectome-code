{
 "cells": [
  {
   "attachments": {},
   "cell_type": "markdown",
   "id": "67ac7b30-9bc0-47ea-9246-0a89a940fac4",
   "metadata": {},
   "source": [
    "# Show one Neuron\n",
    "\n",
    "Questions to: Frank\n",
    "\n",
    "Additional libraries and an update to your configuration are required to run notebooks that access the [neuprint](https://neuprint.janelia.org) database and plot outputs using [navis](https://navis.readthedocs.io/). Refer to the [starter guide](../../docs/python-getting-started.md) on how to [update your configuration](../../docs/python-getting-started.md#project-configuration) and [install libraries](../../docs/python-getting-started.md#dependency-management)."
   ]
  },
  {
   "cell_type": "code",
   "execution_count": null,
   "id": "fabd3f87-cf11-428d-8d39-fe818331767b",
   "metadata": {},
   "outputs": [],
   "source": [
    "\"\"\"\n",
    "This cell does the initial project setup.\n",
    "If you start a new script or notebook, make sure to copy & paste this part.\n",
    "\n",
    "A script with this code uses the location of the `.env` file as the anchor for\n",
    "the whole project (= PROJECT_ROOT). Afterwards, code inside the `src` directory\n",
    "are available for import.\n",
    "\"\"\"\n",
    "from pathlib import Path\n",
    "import sys\n",
    "from dotenv import load_dotenv, find_dotenv\n",
    "load_dotenv()\n",
    "PROJECT_ROOT = Path(find_dotenv()).parent\n",
    "sys.path.append(str(PROJECT_ROOT.joinpath(\"src\")))\n",
    "print(f\"Project root directory: {PROJECT_ROOT}\")"
   ]
  },
  {
   "cell_type": "code",
   "execution_count": null,
   "id": "4a1d8f5e-f1c0-420a-99f8-ae54c7e6cb1b",
   "metadata": {
    "lines_to_next_cell": 2,
    "title": "Import libraries"
   },
   "outputs": [],
   "source": [
    "from neuprint import NeuronCriteria as NC\n",
    "\n",
    "import navis\n",
    "import navis.interfaces.neuprint as neu\n",
    "\n",
    "from utils import olc_client"
   ]
  },
  {
   "cell_type": "code",
   "execution_count": null,
   "id": "0c5a9b4e-2507-40e7-af87-61ca6864ae42",
   "metadata": {
    "title": "connect to the client and set up search criteria"
   },
   "outputs": [],
   "source": [
    "\n",
    "c = olc_client.connect(verbose=True)\n",
    "\n",
    "example_neuron_criteria = NC(bodyId=37117)  # This is just a randomly selected L1\n",
    "\n",
    "# Alternatively you can search for all neurons of a type etc.\n",
    "# example_neuron_criteria = NC(type=\"L3\")"
   ]
  },
  {
   "cell_type": "code",
   "execution_count": null,
   "id": "26f8cbb9-c87f-4a25-8cc8-9d470fd2c811",
   "metadata": {
    "title": "get a ROI"
   },
   "outputs": [],
   "source": [
    "me_r = neu.fetch_roi(\"ME(R)\")"
   ]
  },
  {
   "cell_type": "code",
   "execution_count": null,
   "id": "429110c1",
   "metadata": {
    "title": "Pull the skeleton for one (or many) neurons"
   },
   "outputs": [],
   "source": [
    "example_skel = neu.fetch_skeletons(example_neuron_criteria)\n",
    "\n",
    "# If you wanted to pull more information about a neuron:\n",
    "# neuron_df, roi_df = neu.fetch_neurons(example_neuron_criteria)"
   ]
  },
  {
   "cell_type": "code",
   "execution_count": null,
   "id": "23a5a3b9",
   "metadata": {
    "title": "Plot the ROI and the cell(s)"
   },
   "outputs": [],
   "source": [
    "fig = navis.plot3d([example_skel, me_r])"
   ]
  },
  {
   "cell_type": "code",
   "execution_count": null,
   "id": "413b6a29",
   "metadata": {},
   "outputs": [],
   "source": []
  }
 ],
 "metadata": {
  "kernelspec": {
   "display_name": "ol-connectome",
   "language": "python",
   "name": "python3"
  },
  "language_info": {
   "codemirror_mode": {
    "name": "ipython",
    "version": 3
   },
   "file_extension": ".py",
   "mimetype": "text/x-python",
   "name": "python",
   "nbconvert_exporter": "python",
   "pygments_lexer": "ipython3",
   "version": "3.11.6"
  },
  "vscode": {
   "interpreter": {
    "hash": "a784b976212e148af7ccf35fd5eae7d1ca185922ff1d3966d7683a1ca6703ecf"
   }
  }
 },
 "nbformat": 4,
 "nbformat_minor": 5
}
