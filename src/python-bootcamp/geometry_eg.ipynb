{
 "cells": [
  {
   "cell_type": "code",
   "execution_count": null,
   "metadata": {
    "title": "Project setup"
   },
   "outputs": [],
   "source": [
    "\"\"\"\n",
    "This cell does the initial project setup.\n",
    "If you start a new script or notebook, make sure to copy & paste this part.\n",
    "\n",
    "A script with this code uses the location of the `.env` file as the anchor for\n",
    "the whole project (= PROJECT_ROOT). Afterwards, code inside the `src` directory\n",
    "are available for import.\n",
    "\"\"\"\n",
    "from pathlib import Path\n",
    "import sys\n",
    "from dotenv import load_dotenv, find_dotenv\n",
    "load_dotenv()\n",
    "PROJECT_ROOT = Path(find_dotenv()).parent\n",
    "sys.path.append(str(PROJECT_ROOT.joinpath('src')))\n",
    "print(f\"Project root directory: {PROJECT_ROOT}\")"
   ]
  },
  {
   "cell_type": "code",
   "execution_count": null,
   "id": "dc0c4876",
   "metadata": {},
   "outputs": [],
   "source": [
    "# plotting setup\n",
    "import plotly.graph_objects as go"
   ]
  },
  {
   "cell_type": "code",
   "execution_count": null,
   "id": "5b414165",
   "metadata": {},
   "outputs": [],
   "source": [
    "import numpy as np\n",
    "from cmath import pi\n",
    "\n",
    "from utils.geometry import cart2sph, sph2cart\n",
    "from utils.geometry import sph2Mercator"
   ]
  },
  {
   "cell_type": "markdown",
   "metadata": {},
   "source": [
    "### Transformation between Cartesian <-> spherical coordinates "
   ]
  },
  {
   "cell_type": "code",
   "execution_count": null,
   "id": "62c693e6",
   "metadata": {},
   "outputs": [],
   "source": [
    "# define a few points in [theta, phi] in degree\n",
    "pts = np.array([[45,0], [90,0], [45,45], [90,45], [135,-135], [135,-45]])\n",
    "# convert to spherical coordinate in [r=1, theta, phi] in radian\n",
    "rtp = np.insert(pts/180*pi, 0, np.repeat(1, pts.shape[0]), axis=1)\n",
    "\n",
    "# convert to Cartesian\n",
    "xyz = sph2cart(rtp)\n",
    "# convert to spherical\n",
    "rtp = cart2sph(xyz)"
   ]
  },
  {
   "cell_type": "markdown",
   "metadata": {},
   "source": [
    "### Mollweide projections\n",
    "https://mathworld.wolfram.com/MollweideProjection.html"
   ]
  },
  {
   "cell_type": "code",
   "execution_count": null,
   "id": "151e94ff",
   "metadata": {
    "lines_to_next_cell": 2
   },
   "outputs": [],
   "source": [
    "from utils.geometry import sph2Mollweide\n",
    "\n",
    "# define a few points in [theta, phi] in degree\n",
    "pts = np.array([[45,0], [90,0], [45,45], [90,45], [135,-135], [135,-45]])\n",
    "# convert to spherical coordinate in [r=1, theta, phi] in radian\n",
    "rtp = np.insert(pts/180*pi, 0, np.repeat(1, pts.shape[0]), axis=1)\n",
    "\n",
    "# Mollweide projection, only use theta and phi\n",
    "xy = sph2Mollweide(rtp[:,1:3])\n",
    "\n",
    "# Plot\n",
    "# define Mollweide guidelines\n",
    "ww = np.stack((np.linspace(0,180,19), np.repeat(-180,19)), axis=1) # west \\ left boundary\n",
    "w = np.stack((np.linspace(180,0,19), np.repeat(-90,19)), axis=1)\n",
    "m = np.stack((np.linspace(0,180,19), np.repeat(0,19)), axis=1) # central meridian\n",
    "e = np.stack((np.linspace(180,0,19), np.repeat(90,19)), axis=1)\n",
    "ee = np.stack((np.linspace(0,180,19), np.repeat(180,19)), axis=1) # east \\ right boundary\n",
    "pts = np.vstack((ww,w,m,e,ee))\n",
    "rtp = np.insert(pts/180*pi, 0, np.repeat(1, pts.shape[0]), axis=1) # add unit radius if to make 3d plot\n",
    "meridians_xy = sph2Mollweide(rtp[:,1:3])\n",
    "\n",
    "pts = np.stack((np.repeat(45,37), np.linspace(-180,180,37)), axis=1) # 37 points on 45 degree north latitude\n",
    "rtp = np.insert(pts/180*pi, 0, np.repeat(1, pts.shape[0]), axis=1)\n",
    "n45_xy = sph2Mollweide(rtp[:,1:3])\n",
    "pts = np.stack((np.repeat(90,37), np.linspace(-180,180,37)), axis=1) # 37 points on equator\n",
    "rtp = np.insert(pts/180*pi, 0, np.repeat(1, pts.shape[0]), axis=1)\n",
    "eq_xy = sph2Mollweide(rtp[:,1:3])\n",
    "pts = np.stack((np.repeat(135,37), np.linspace(-180,180,37)), axis=1) # 37 points on 45 degree south latitude\n",
    "rtp = np.insert(pts/180*pi, 0, np.repeat(1, pts.shape[0]), axis=1)\n",
    "s45_xy = sph2Mollweide(rtp[:,1:3])\n",
    "\n",
    "\n",
    "# plotly plot\n",
    "fig = go.Figure()\n",
    "\n",
    "fig.add_trace(\n",
    "    go.Scatter(\n",
    "        x=meridians_xy[:,0], y=meridians_xy[:,1]\n",
    "      , mode='lines', name=''\n",
    "      , line={'color':'black', 'width':1}\n",
    "    )\n",
    ")\n",
    "fig.add_trace(\n",
    "    go.Scatter(\n",
    "        x=eq_xy[:,0], y=eq_xy[:,1]\n",
    "      , mode='lines', name=''\n",
    "      , line={'color':'black', 'width':1}\n",
    "    )\n",
    ")\n",
    "fig.add_trace(\n",
    "    go.Scatter(\n",
    "        x=s45_xy[:,0], y = s45_xy[:,1]\n",
    "      , mode='lines', name=''\n",
    "      , line={'color': 'black', 'width': 1}\n",
    "    )\n",
    ")\n",
    "fig.add_trace(\n",
    "    go.Scatter(\n",
    "        x=n45_xy[:,0], y = n45_xy[:,1]\n",
    "      , mode='lines', name=''\n",
    "      , line={'color': 'black', 'width': 1}\n",
    "    )\n",
    ")\n",
    "\n",
    "fig.add_trace(\n",
    "    go.Scatter(\n",
    "        x=xy[:,0], y=xy[:,1]\n",
    "      , mode='markers', name=''\n",
    "      , marker={'color': 'blue', 'size': 10}\n",
    "    )\n",
    ")\n",
    "\n",
    "fig.update_layout(showlegend=False)\n",
    "fig.update_xaxes(title_text='azimuth')\n",
    "fig.update_yaxes(title_text='elevation')\n",
    "\n",
    "fig.show()"
   ]
  },
  {
   "cell_type": "markdown",
   "metadata": {},
   "source": [
    "### Mercator projections"
   ]
  },
  {
   "cell_type": "code",
   "execution_count": null,
   "id": "0501e536",
   "metadata": {},
   "outputs": [],
   "source": [
    "\n",
    "\n",
    "# define a few points in [theta, phi] in degree\n",
    "pts = np.array([[45,0], [90,0], [45,45], [90,45], [135,-135], [135,-45]])\n",
    "# convert to spherical coordinate in [r=1, theta, phi] in radian\n",
    "rtp = np.insert(pts/180*pi, 0, np.repeat(1, pts.shape[0]), axis=1)\n",
    "xy = sph2Mercator(rtp[:,1:3])\n",
    "\n",
    "\n",
    "# plotly plot\n",
    "fig = go.Figure()\n",
    "\n",
    "fig.add_trace(\n",
    "    go.Scatter(\n",
    "        x=xy[:,0], y=xy[:,1]\n",
    "      , mode='markers', name=''\n",
    "      , marker={'color':'blue', 'size':10}\n",
    "    )\n",
    ")\n",
    "\n",
    "# set x lim\n",
    "fig.update_xaxes(range=[-np.pi, np.pi])\n",
    "fig.update_xaxes(\n",
    "    tickvals= np.arange(-180, 180, step=45)/180*np.pi\n",
    "  , ticktext= np.arange(-180, 180, step=45) \n",
    ")\n",
    "fig.update_xaxes(title_text='azimuth')\n",
    "# set y lim\n",
    "fig.update_yaxes(\n",
    "    range=[\n",
    "        np.log(np.tan(np.pi/4 -75/180*np.pi/2))\n",
    "      , np.log(np.tan(np.pi/4 +75/180*np.pi/2))\n",
    "    ]\n",
    ")\n",
    "fig.update_yaxes(\n",
    "    tickvals=np.log(np.tan(np.pi/4 - np.arange(-75, 75, step=15)/180*np.pi/2))\n",
    "  , ticktext=-np.arange(-75, 75, step=15) )\n",
    "fig.update_yaxes(title_text='elevation')\n",
    "\n",
    "fig.update_layout(showlegend=False)\n",
    "fig.show()"
   ]
  }
 ],
 "metadata": {
  "kernelspec": {
   "display_name": ".venv",
   "language": "python",
   "name": "python3"
  },
  "language_info": {
   "codemirror_mode": {
    "name": "ipython",
    "version": 3
   },
   "file_extension": ".py",
   "mimetype": "text/x-python",
   "name": "python",
   "nbconvert_exporter": "python",
   "pygments_lexer": "ipython3",
   "version": "3.11.6"
  }
 },
 "nbformat": 4,
 "nbformat_minor": 2
}
