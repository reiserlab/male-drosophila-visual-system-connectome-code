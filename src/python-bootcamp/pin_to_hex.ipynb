{
 "cells": [
  {
   "cell_type": "code",
   "execution_count": null,
   "metadata": {},
   "outputs": [],
   "source": [
    "from pathlib import Path\n",
    "import pandas as pd\n",
    "\n",
    "from dotenv import find_dotenv\n",
    "\n",
    "\n",
    "def convert_pin_pickle_to_csv(roi_str:str, remove_empty:bool=False):\n",
    "    \"\"\"\n",
    "    Convert data from the existing pickle files (wide data format) to a CSV (long data format).\n",
    "\n",
    "    Parameter\n",
    "    ---------\n",
    "    roi_str : str\n",
    "        either 'ME(R)', 'LO(R)', or 'LOP(R)'\n",
    "\n",
    "    Returns\n",
    "    -------\n",
    "    col_long : pd.DataFrame\n",
    "        hex1_id : int\n",
    "            Hex 1 coordinate\n",
    "        hex2_it : int\n",
    "            Hex 2 coordinate\n",
    "        bin_depth : int\n",
    "            The depth of the pins is divided into bins, this represents the bin it is in.\n",
    "            \n",
    "        x,y,z : float\n",
    "            location of the pin point\n",
    "        roi : str\n",
    "            'ME_R', 'LO_R', or 'LOP_R'\n",
    "    \"\"\"\n",
    "    \n",
    "    assert roi_str in ['ME(R)', 'LO(R)', 'LOP(R)'],\\\n",
    "        f\"ROI must be one of 'ME(R)', 'LO(R)', 'LOP(R)', but is actually '{roi_str}'\"\n",
    "\n",
    "    coords = ['x', 'y', 'z']\n",
    "    data_path = Path(find_dotenv()).parent / 'cache' / 'eyemap'\n",
    "    col_df = pd.read_pickle(\n",
    "        data_path / f\"{roi_str[:-3]}_col_center_pins.pickle\"\n",
    "    )\n",
    "\n",
    "    col_tmp = col_df\\\n",
    "        .drop(['N_syn', 'col_id', 'n_syn'], errors='ignore', axis=1)\\\n",
    "        .reset_index(drop=True)\\\n",
    "        .set_index(['hex1_id', 'hex2_id'])\\\n",
    "        .melt(ignore_index=False)\n",
    "\n",
    "\n",
    "    col_tmp['coordinate'] = col_tmp.apply(lambda x: coords[x['variable']%3], axis=1)\n",
    "    col_tmp['bin_depth'] = max(col_tmp['variable']//3) - col_tmp['variable']//3\n",
    "    col_long = col_tmp\\\n",
    "        .reset_index()\\\n",
    "        .set_index(['hex1_id', 'hex2_id', 'bin_depth'])\\\n",
    "        .pivot(columns=['coordinate'], values=['value'])\\\n",
    "        .reset_index(col_level=1)\\\n",
    "        .droplevel(0, axis=1)\n",
    "    col_long[\"roi\"] = f\"{roi_str[:-3]}_R\"\n",
    "    if remove_empty:\n",
    "        col_long = col_long[col_long['x'].notna() & col_long['y'].notna() & col_long['z'].notna()]\n",
    "    return col_long"
   ]
  },
  {
   "cell_type": "code",
   "execution_count": null,
   "metadata": {},
   "outputs": [],
   "source": [
    "result_path = Path(find_dotenv()).parent / 'results' / 'eyemap'\n",
    "\n",
    "for roi in ['LO(R)', 'LOP(R)', 'ME(R)']:\n",
    "    print(roi)\n",
    "    roi_cols = convert_pin_pickle_to_csv(roi, remove_empty=True)\n",
    "    roi_cols.to_csv(result_path / f\"{roi[:-3]}_pindata.csv\")"
   ]
  },
  {
   "cell_type": "markdown",
   "metadata": {},
   "source": [
    "\n",
    "Pseudo-code as an idea how to define the PinPoint data type in neuprint\n",
    "\n",
    "```cypher\n",
    "PinPoint {\n",
    "    location: Point([row.x, row.y, row.z]),\n",
    "    f\"{row.roi}_col_{row.hex1_id:02d}_{row.hex2_id:02d}\": True,\n",
    "    depth: roi.depth\n",
    "}\n",
    "```\n",
    "\n",
    "Alternatively to the `ME_R_col_H1_H2`, indexed properties for the \"primary ROI\", hex1, and hex2 would even be better.\n",
    "\n",
    "Please have an index on the location\n",
    "\n",
    "\n",
    "Note: With the current data, the bin for ME(R) ranges from 0…120, for LO(R) from 0…75, and for LOP(R) from 0…50."
   ]
  }
 ],
 "metadata": {
  "kernelspec": {
   "display_name": "Python 3 (ipykernel)",
   "language": "python",
   "name": "python3"
  },
  "language_info": {
   "codemirror_mode": {
    "name": "ipython",
    "version": 3
   },
   "file_extension": ".py",
   "mimetype": "text/x-python",
   "name": "python",
   "nbconvert_exporter": "python",
   "pygments_lexer": "ipython3",
   "version": "3.10.0"
  }
 },
 "nbformat": 4,
 "nbformat_minor": 4
}
