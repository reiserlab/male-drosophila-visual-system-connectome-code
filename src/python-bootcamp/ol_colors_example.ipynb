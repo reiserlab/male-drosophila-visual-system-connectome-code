{
 "cells": [
  {
   "cell_type": "markdown",
   "metadata": {},
   "source": [
    "## notebook explaining how to use the ol_color.py "
   ]
  },
  {
   "cell_type": "code",
   "execution_count": null,
   "metadata": {},
   "outputs": [],
   "source": [
    "%load_ext autoreload\n",
    "\"\"\"\n",
    "This cell does the initial project setup.\n",
    "\"\"\"\n",
    "from pathlib import Path\n",
    "import sys\n",
    "import pandas as pd\n",
    "\n",
    "import plotly.graph_objects as go\n",
    "\n",
    "from dotenv import load_dotenv, find_dotenv\n",
    "load_dotenv()\n",
    "PROJECT_ROOT = Path(find_dotenv()).parent\n",
    "sys.path.append(str(PROJECT_ROOT.joinpath('src')))\n",
    "print(f\"Project root directory: {PROJECT_ROOT}\")\n",
    "\n",
    "from neuprint import fetch_neurons, NeuronCriteria as NC\n",
    "\n",
    "from utils import olc_client\n",
    "c = olc_client.connect(verbose=True)"
   ]
  },
  {
   "cell_type": "markdown",
   "metadata": {},
   "source": [
    "### accessing colors from `ol_color.py`"
   ]
  },
  {
   "cell_type": "code",
   "execution_count": null,
   "metadata": {},
   "outputs": [],
   "source": [
    "# import this to get our optic lobe color palette\n",
    "from utils.ol_color import OL_COLOR "
   ]
  },
  {
   "cell_type": "code",
   "execution_count": null,
   "metadata": {},
   "outputs": [],
   "source": [
    "\"\"\"\n",
    "'OL_COLOR.OL_TYPES' retrieves the color palette corresponding to the 5 groupings of cell-types ('OL_intrinsic', 'OL_connecting','VPN','VCN','other (central)')\n",
    "Similarly, if you wanted to color by neuropil instead of groups, you would use 'OL_COLOR.OL_NEUROPIL'. Depending on whether you need a hex or rgb, that can be\n",
    "retrieved by simply saying 'OL_COLOR.OL_TYPES.rgb' or 'OL_COLOR.OL_TYPES.hex'\n",
    "\n",
    "Plotly uses the rgb format.\n",
    "\"\"\"\n",
    "print(f\"colors in hex :{OL_COLOR.OL_TYPES.hex}\")\n",
    "print(f\"3rd color in hex: {OL_COLOR.OL_TYPES.hex[2]}\")\n",
    "\n",
    "print(f\"colors in plotly format : {OL_COLOR.OL_TYPES.rgb}\")\n",
    "print(f\"3rd color in plotly format: {OL_COLOR.OL_TYPES.rgb[2]}\")\n",
    "\n",
    "print(f\"3rd color only as rgb: {OL_COLOR.OL_TYPES.rgb[2][1]}\")\n",
    "\n",
    "print(f\"3rd color only as rgba: {OL_COLOR.OL_TYPES.rgba[2]}\")"
   ]
  },
  {
   "cell_type": "code",
   "execution_count": null,
   "metadata": {},
   "outputs": [],
   "source": [
    "\"\"\"\n",
    "To also look at the color palette, simply use 'OL_COLOR.OL_TYPES.cmap'\n",
    "\n",
    "(quick preview, yet still not fixing the problem from https://github.com/reiserlab/optic-lobe-connectome/pull/273#issuecomment-1846128791)\n",
    "\"\"\"\n",
    "OL_COLOR.OL_TYPES.cmap"
   ]
  },
  {
   "cell_type": "code",
   "execution_count": null,
   "metadata": {},
   "outputs": [],
   "source": [
    "OL_COLOR.OL_TYPES"
   ]
  },
  {
   "cell_type": "code",
   "execution_count": null,
   "metadata": {},
   "outputs": [],
   "source": [
    "color_mapping = {\n",
    "            'OL intrinsic': OL_COLOR.OL_TYPES.hex[0], \n",
    "            'OL connecting': OL_COLOR.OL_TYPES.hex[1],  \n",
    "            'VPN': OL_COLOR.OL_TYPES.hex[2],  \n",
    "            'VCN': OL_COLOR.OL_TYPES.hex[3],  \n",
    "            'other': OL_COLOR.OL_TYPES.hex[4],  \n",
    "            }"
   ]
  },
  {
   "cell_type": "code",
   "execution_count": null,
   "metadata": {},
   "outputs": [],
   "source": [
    "color_mapping_2 = {\n",
    "            'ME': OL_COLOR.OL_NEUROPIL.hex[0], \n",
    "            'LO': OL_COLOR.OL_NEUROPIL.hex[1],  \n",
    "            'LOP': OL_COLOR.OL_NEUROPIL.hex[2],  \n",
    "            }\n",
    "color_mapping_2\n"
   ]
  },
  {
   "cell_type": "code",
   "execution_count": null,
   "metadata": {},
   "outputs": [],
   "source": [
    "OL_COLOR.OL_TYPES.hex[0]"
   ]
  },
  {
   "cell_type": "code",
   "execution_count": null,
   "metadata": {},
   "outputs": [],
   "source": [
    "color_mapping = {\n",
    "            'ME': OL_COLOR.OL_NEUROPIL.hex[0], \n",
    "            'LO': OL_COLOR.OL_NEUROPIL.hex[1],  \n",
    "            'LOP': OL_COLOR.OL_NEUROPIL.hex[2],  \n",
    "            'LA': '#CBE5C3',\n",
    "            'AME': '#AECAEC',\n",
    "            'CB': '#EEEEE'\n",
    "            }\n",
    "# Get the background color for the current neuropil\n",
    "bg_color = color_mapping.get('ME', '#EEEEE')  # Default to white if neuropil not found\n",
    "bg_color"
   ]
  },
  {
   "cell_type": "code",
   "execution_count": null,
   "metadata": {},
   "outputs": [],
   "source": [
    "\"\"\"\n",
    "    To also look at the dictionary of color assignments, simply use 'OL_COLOR.OL_TYPES.map'\n",
    "\"\"\"\n",
    "print(f\"Dictionary of colors: {OL_COLOR.OL_TYPES.map}\")\n",
    "print(f\"Color with name 'intrinsic': {OL_COLOR.OL_TYPES.map['intrinsic']}\")"
   ]
  },
  {
   "cell_type": "markdown",
   "metadata": {},
   "source": [
    "### example code to plot number of cells per cell-type (from the new master list) grouped by OL cell-type groupings"
   ]
  },
  {
   "cell_type": "code",
   "execution_count": null,
   "metadata": {},
   "outputs": [],
   "source": [
    "data_dir = PROJECT_ROOT / 'params' \n",
    "ol_df = pd.read_excel(data_dir / 'Primary_cell_type_table.xlsx')\n",
    "# subset of dataframe only belonging to 5 groups\n",
    "df = ol_df.loc[((ol_df['main_groups'].eq('OL_intrinsic')) | (ol_df['main_groups'].eq('OL_connecting')) | (ol_df['main_groups'].eq('VPN')) | (ol_df['main_groups'].eq('VCN')) | (ol_df['main_groups'].eq('other (central)')))]\n",
    "\n",
    "ol_types = df['type'].values "
   ]
  },
  {
   "cell_type": "code",
   "execution_count": null,
   "metadata": {},
   "outputs": [],
   "source": [
    "# fetch neurons belong to the cell-types\n",
    "neurons_df,roi_counts_df = fetch_neurons(NC(type=ol_types))"
   ]
  },
  {
   "cell_type": "code",
   "execution_count": null,
   "metadata": {},
   "outputs": [],
   "source": [
    "# getting number of cells per cell-type\n",
    "ncells_df = neurons_df.groupby('type')['bodyId'].nunique().reset_index(name='n_cells')\n",
    "ncells_sorted_df = ncells_df.sort_values(by='n_cells',ascending=False)\n",
    "ncells_sorted_df.columns = ['type','n_cells']\n",
    "ncells_sorted_df = ncells_sorted_df.reset_index(drop=True)"
   ]
  },
  {
   "cell_type": "code",
   "execution_count": null,
   "metadata": {},
   "outputs": [],
   "source": [
    "# merging to get the group information for every cell-type\n",
    "ncells_sorted_grouped_df = pd.merge(ncells_sorted_df,df[['type','main_groups']],left_on='type',right_on='type')\n",
    "# getting all the groups\n",
    "main_groups = ncells_sorted_grouped_df['main_groups'].unique()\n",
    "main_groups = main_groups.tolist()"
   ]
  },
  {
   "cell_type": "markdown",
   "metadata": {},
   "source": [
    "### Adding colors to the dataframe to color by group (in this case, color by OL cell-type groupings)"
   ]
  },
  {
   "cell_type": "code",
   "execution_count": null,
   "metadata": {},
   "outputs": [],
   "source": [
    "# function to add the color column to the dataframe\n",
    "def add_color_group(df:pd.DataFrame, main_groups:list, colors:list): \n",
    "\n",
    "    for index, row in df.iterrows():\n",
    "        group = row['main_groups']\n",
    "        if group in main_groups[0]: \n",
    "            grp = 1\n",
    "            col = colors[0]\n",
    "        elif group in main_groups[1]:\n",
    "            grp = 2\n",
    "            col = colors[1]\n",
    "        elif group in main_groups[2]:\n",
    "            grp = 3\n",
    "            col = colors[2]\n",
    "        elif group in main_groups[3]:\n",
    "            grp = 4\n",
    "            col = colors[3]\n",
    "        elif group in main_groups[4]:\n",
    "            grp = 5\n",
    "            col = colors[4]\n",
    "        else:\n",
    "            grp = 0\n",
    "            col = colors[5]\n",
    "\n",
    "        row['color'] = col\n",
    "        df.loc[index, 'color']= col\n",
    "        row['group'] = grp\n",
    "        df.loc[index, 'group']= grp\n",
    "\n",
    "    df['color'].astype(dtype='object') \n",
    "    df['group'].astype(dtype='object') \n",
    "\n",
    "    return df\n"
   ]
  },
  {
   "cell_type": "code",
   "execution_count": null,
   "metadata": {},
   "outputs": [],
   "source": [
    "ncells_sorted_grouped_df"
   ]
  },
  {
   "cell_type": "code",
   "execution_count": null,
   "metadata": {},
   "outputs": [],
   "source": [
    "# inserting the color column into your dataframe\n",
    "df_colored = add_color_group(\n",
    "    ncells_sorted_grouped_df\n",
    "  , main_groups\n",
    "  , OL_COLOR.OL_TYPES.hex\n",
    ")\n",
    "df_colored"
   ]
  },
  {
   "cell_type": "markdown",
   "metadata": {},
   "source": [
    "# plotting\n",
    "\n",
    "To plot all the data points in one color from `ol_color.py`"
   ]
  },
  {
   "cell_type": "code",
   "execution_count": null,
   "metadata": {},
   "outputs": [],
   "source": [
    "layout = go.Layout(\n",
    "    paper_bgcolor='rgba(255,255,255,1)'\n",
    "  , plot_bgcolor='rgba(255,255,255,1)'\n",
    ")\n",
    "\n",
    "fig = go.Figure(layout = layout)\n",
    "\n",
    "fig.add_trace(\n",
    "    go.Scatter(\n",
    "        x = df_colored['type']\n",
    "      , y = df_colored['n_cells']\n",
    "      , hovertext = df_colored['type']\n",
    "      , hoverinfo = 'text'\n",
    "    #   , opacity = 0.3\n",
    "      , mode='markers'\n",
    "      , marker={\n",
    "            'size':10\n",
    "          , 'color': OL_COLOR.OL_TYPES.rgb[1][1]\n",
    "          , 'line': {\n",
    "                'width':1\n",
    "              , 'color': OL_COLOR.OL_TYPES.rgb[1][1]\n",
    "            }\n",
    "        }\n",
    "    )\n",
    ")\n",
    "fig.show()"
   ]
  },
  {
   "cell_type": "markdown",
   "metadata": {},
   "source": [
    "To plot all the data points in colors grouped by OL cell-type groupings (colors from `ol_color.py`)"
   ]
  },
  {
   "cell_type": "code",
   "execution_count": null,
   "metadata": {},
   "outputs": [],
   "source": [
    "fig2 = go.Figure(layout = layout)\n",
    "\n",
    "fig2.add_trace(\n",
    "    go.Scatter(\n",
    "        x = df_colored['type']\n",
    "      , y = df_colored['n_cells']\n",
    "      , hovertext = df_colored['type']\n",
    "      , hoverinfo = 'text'\n",
    "      # , opacity = 0.3\n",
    "      , mode='markers'\n",
    "      , marker={'size':10\n",
    "          ,'color': df_colored['group']\n",
    "          , 'colorscale': OL_COLOR.OL_TYPES.rgb\n",
    "          ,'line': {\n",
    "                'width':1\n",
    "              , 'color': df_colored['group']\n",
    "              , 'colorscale': OL_COLOR.OL_TYPES.rgb\n",
    "            }\n",
    "        }\n",
    "    )\n",
    ")\n",
    "fig2.show()"
   ]
  },
  {
   "cell_type": "markdown",
   "metadata": {},
   "source": [
    "Same plot, but in a ligher color scheme:"
   ]
  },
  {
   "cell_type": "code",
   "execution_count": null,
   "metadata": {},
   "outputs": [],
   "source": [
    "fig2['data'][0]['marker']['colorscale'] = OL_COLOR.OL_LIGHT_TYPES.rgb\n",
    "fig2.show()"
   ]
  },
  {
   "cell_type": "markdown",
   "metadata": {},
   "source": [
    "… or in VPN colors :-)"
   ]
  },
  {
   "cell_type": "code",
   "execution_count": null,
   "metadata": {},
   "outputs": [],
   "source": [
    "fig2['data'][0]['marker']['colorscale'] = OL_COLOR.OL_VPN_SEQ.rgb\n",
    "fig2.show()"
   ]
  },
  {
   "cell_type": "code",
   "execution_count": null,
   "metadata": {},
   "outputs": [],
   "source": []
  }
 ],
 "metadata": {
  "kernelspec": {
   "display_name": "Python 3.11.5 ('ol-connectome')",
   "language": "python",
   "name": "python3"
  },
  "language_info": {
   "codemirror_mode": {
    "name": "ipython",
    "version": 3
   },
   "file_extension": ".py",
   "mimetype": "text/x-python",
   "name": "python",
   "nbconvert_exporter": "python",
   "pygments_lexer": "ipython3",
   "version": "3.11.7"
  },
  "vscode": {
   "interpreter": {
    "hash": "7b5033e8f07b9ebfe9078112702188de0a24666053206552b7ad775d34890b8e"
   }
  }
 },
 "nbformat": 4,
 "nbformat_minor": 2
}
