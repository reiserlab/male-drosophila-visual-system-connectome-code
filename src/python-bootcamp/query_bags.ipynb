{
 "cells": [
  {
   "cell_type": "code",
   "execution_count": null,
   "metadata": {},
   "outputs": [],
   "source": [
    "%load_ext autoreload\n",
    "\"\"\"\n",
    "This cell does the initial project setup.\n",
    "If you start a new script or notebook, make sure to copy & paste this part.\n",
    "\n",
    "A script with this code uses the location of the `.env` file as the anchor for\n",
    "the whole project (= PROJECT_ROOT). Afterwards, code inside the `src` directory\n",
    "are available for import.\n",
    "\"\"\"\n",
    "from pathlib import Path\n",
    "import sys\n",
    "from dotenv import load_dotenv, find_dotenv\n",
    "load_dotenv()\n",
    "PROJECT_ROOT = Path(find_dotenv()).parent\n",
    "sys.path.append(str(PROJECT_ROOT.joinpath(\"src\")))\n",
    "print(f\"Project root directory: {PROJECT_ROOT}\")\n",
    "\n",
    "from utils import olc_client\n",
    "c = olc_client.connect(verbose=True)\n"
   ]
  },
  {
   "cell_type": "markdown",
   "metadata": {},
   "source": [
    "# Neuron Bag\n",
    "\n",
    "Neuron Bag is a collection of neurons. Currently they can be found by providing a cell type (as shown below)."
   ]
  },
  {
   "cell_type": "code",
   "execution_count": null,
   "metadata": {},
   "outputs": [],
   "source": [
    "%autoreload 2\n",
    "from utils.neuron_bag import NeuronBag\n",
    "from utils.ng_view import NG_View\n",
    "\n",
    "a_bag = NeuronBag(cell_type='LC6')\n",
    "\n",
    "a_bag.get_body_ids()"
   ]
  },
  {
   "cell_type": "markdown",
   "metadata": {},
   "source": [
    "So if you wanted to plot the first 3 LC6, you could do this:"
   ]
  },
  {
   "cell_type": "code",
   "execution_count": null,
   "metadata": {},
   "outputs": [],
   "source": [
    "from utils.plotter import group_plotter, save_figure\n",
    "\n",
    "group_plotter(\n",
    "    a_bag.get_body_ids(3)\n",
    "  , shadow_rois=['ME(R)'])"
   ]
  },
  {
   "cell_type": "markdown",
   "metadata": {},
   "source": [
    "or just copy&paste the output"
   ]
  },
  {
   "cell_type": "code",
   "execution_count": null,
   "metadata": {},
   "outputs": [],
   "source": [
    "group_plotter(\n",
    "    [35321, 35534, 35598, 35825]\n",
    "  , shadow_rois=['ME(R)']\n",
    "  , plot_roi='ME(R)'\n",
    ")"
   ]
  },
  {
   "cell_type": "code",
   "execution_count": null,
   "metadata": {},
   "outputs": [],
   "source": [
    "another_bag = NeuronBag(cell_type='LC4')\n",
    "\n",
    "print(f\"Is 'another bag' (of length {another_bag.size}) sorted? {another_bag.is_sorted}\")\n"
   ]
  },
  {
   "cell_type": "code",
   "execution_count": null,
   "metadata": {},
   "outputs": [],
   "source": [
    "another_bag.get_body_ids(another_bag.size)"
   ]
  },
  {
   "cell_type": "code",
   "execution_count": null,
   "metadata": {},
   "outputs": [],
   "source": [
    "another_bag.sort_by_distance_to_hex(\n",
    "   neuropil=\"ME(R)\", hex1_id=18, hex2_id=18\n",
    ")\n",
    "\n",
    "another_bag.get_body_ids(another_bag.size)"
   ]
  },
  {
   "cell_type": "code",
   "execution_count": null,
   "metadata": {},
   "outputs": [],
   "source": [
    "print(f\"Is 'another bag' (of length {another_bag.size}) sorted? {another_bag.is_sorted}\")\n",
    "\n",
    "# Get top 10 LC4 closest to 18/18\n",
    "print(f\"LC4 top 10: {another_bag.get_body_ids()}\")\n",
    "\n"
   ]
  },
  {
   "cell_type": "code",
   "execution_count": null,
   "metadata": {},
   "outputs": [],
   "source": [
    "# save plots of top 3 LC4 closest to ME 18/18\n",
    "\n",
    "for body_id in another_bag.get_body_ids(3):\n",
    "\n",
    "    fig = group_plotter(\n",
    "        [body_id]  \n",
    "      , shadow_rois=['ME(R)', 'LO(R)', 'LOP(R)']\n",
    "      , view=NG_View.GALLERY1\n",
    "    )\n",
    "\n",
    "    save_figure(fig, f\"LC4_{body_id}\")\n"
   ]
  },
  {
   "cell_type": "code",
   "execution_count": null,
   "metadata": {},
   "outputs": [],
   "source": []
  }
 ],
 "metadata": {
  "kernelspec": {
   "display_name": ".venv",
   "language": "python",
   "name": "python3"
  },
  "language_info": {
   "codemirror_mode": {
    "name": "ipython",
    "version": 3
   },
   "file_extension": ".py",
   "mimetype": "text/x-python",
   "name": "python",
   "nbconvert_exporter": "python",
   "pygments_lexer": "ipython3",
   "version": "3.11.6"
  }
 },
 "nbformat": 4,
 "nbformat_minor": 2
}
