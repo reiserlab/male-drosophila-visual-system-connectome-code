{
 "cells": [
  {
   "cell_type": "code",
   "execution_count": null,
   "id": "bfb8419a",
   "metadata": {},
   "outputs": [],
   "source": [
    "%load_ext autoreload\n",
    "%autoreload 2"
   ]
  },
  {
   "cell_type": "code",
   "execution_count": null,
   "id": "270bf1ee",
   "metadata": {},
   "outputs": [],
   "source": [
    "\"\"\"\n",
    "This cell does the initial project setup.\n",
    "If you start a new script or notebook, make sure to copy & paste this part.\n",
    "\n",
    "A script with this code uses the location of the `.env` file as the anchor for\n",
    "the whole project (= PROJECT_ROOT). Afterwards, code inside the `src` directory\n",
    "are available for import.\n",
    "\"\"\"\n",
    "from pathlib import Path\n",
    "import sys\n",
    "from dotenv import load_dotenv, find_dotenv\n",
    "import pandas as pd\n",
    "import numpy as np\n",
    "\n",
    "load_dotenv()\n",
    "PROJECT_ROOT = Path(find_dotenv()).parent\n",
    "sys.path.append(str(PROJECT_ROOT.joinpath('src')))\n",
    "print(f\"Project root directory: {PROJECT_ROOT}\")\n",
    "\n",
    "from utils.plotting_functions import plot_heatmap\n",
    "# # %%\n",
    "# from utils import olc_client\n",
    "# c = olc_client.connect(verbose=True)"
   ]
  },
  {
   "cell_type": "code",
   "execution_count": null,
   "id": "2e806437",
   "metadata": {},
   "outputs": [],
   "source": [
    "# make up some data\n",
    "heatmap = pd.DataFrame(\n",
    "    np.random.randint(0, 100, size=(10, 10))\n",
    "  , columns=list('ABCDEFGHIJ')\n",
    ")\n",
    "heatmap.index = list('ABCDEFGHIJ')"
   ]
  },
  {
   "cell_type": "code",
   "execution_count": null,
   "id": "292ce7ff",
   "metadata": {
    "lines_to_next_cell": 2
   },
   "outputs": [],
   "source": [
    "# annotation, show values greater than 0.5\n",
    "anno = heatmap\\\n",
    "    .where(heatmap > 50)\\\n",
    "    .replace({np.nan: ''})"
   ]
  },
  {
   "cell_type": "code",
   "execution_count": null,
   "id": "083adeef",
   "metadata": {
    "title": "plot binned heatmap with pre-defined anno, optinally provide bins, bvals is automatically computed"
   },
   "outputs": [],
   "source": [
    "# binned heatmap. \n",
    "# Two unresolved problems:\n",
    "# 1.to have aspect ratio = 1, the axis ticks are positioned away from the axis.\n",
    "# 2.the color bar is missing the lowest tick, and the rest ticks are shifted. \n",
    "\n",
    "# optionally, one can normalize the heatmap first\n",
    "# heatmap = heatmap / heatmap.values.max()\n",
    "\n",
    "fig = plot_heatmap(\n",
    "    heatmap=heatmap\n",
    "  , anno=anno\n",
    "  , binned=True\n",
    "  , anno_text_size=6\n",
    "  , show_colorbar=True\n",
    "  , equal_aspect_ratio=True\n",
    "  , manual_margin=True\n",
    ")\n",
    "\n",
    "# further change the layout\n",
    "fig.update_layout(title='binned heatmap', width=350, height=350)\n",
    "\n",
    "fig.show()"
   ]
  },
  {
   "cell_type": "code",
   "execution_count": null,
   "id": "2bd66a5e",
   "metadata": {
    "title": "plot continuous heatmap, bins sets the color scale range with bins[-1] being the max"
   },
   "outputs": [],
   "source": [
    "# continuous heatmap\n",
    "\n",
    "fig = plot_heatmap(\n",
    "    heatmap=heatmap\n",
    "  , anno=anno\n",
    "  , binned=False\n",
    "  , bins=[0, 25, 50, 75, 100]\n",
    "  , anno_text_size=6\n",
    "  , show_colorbar=True\n",
    "  , equal_aspect_ratio=True\n",
    "  , manual_margin=True\n",
    ")\n",
    "# fig.update_layout(margin={'l':80, 'r':80, 'pad':0})\n",
    "\n",
    "fig.show()"
   ]
  },
  {
   "cell_type": "code",
   "execution_count": null,
   "id": "058684c1",
   "metadata": {
    "title": "save plot"
   },
   "outputs": [],
   "source": [
    "# fig.write_image(Path(result_dir, 'heatmap_name' + '.svg'))\n",
    "\n",
    "# or\n",
    "# import plotly.io as pio\n",
    "# pio.write_image(fig, file= Path(result_dir, 'heatmap_name.svg')   )"
   ]
  }
 ],
 "metadata": {
  "jupytext": {
   "cell_metadata_filter": "title,-all",
   "main_language": "python",
   "notebook_metadata_filter": "-all"
  },
  "kernelspec": {
   "display_name": "ol-connectome",
   "language": "python",
   "name": "python3"
  },
  "language_info": {
   "codemirror_mode": {
    "name": "ipython",
    "version": 3
   },
   "file_extension": ".py",
   "mimetype": "text/x-python",
   "name": "python",
   "nbconvert_exporter": "python",
   "pygments_lexer": "ipython3",
   "version": "3.11.8"
  }
 },
 "nbformat": 4,
 "nbformat_minor": 5
}
