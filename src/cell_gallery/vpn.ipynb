{
 "cells": [
  {
   "cell_type": "code",
   "execution_count": null,
   "metadata": {},
   "outputs": [],
   "source": [
    "%load_ext autoreload\n",
    "from pathlib import Path\n",
    "import sys\n",
    "from dotenv import load_dotenv, find_dotenv\n",
    "load_dotenv()\n",
    "PROJECT_ROOT = Path(find_dotenv()).parent\n",
    "sys.path.append(str(PROJECT_ROOT.joinpath('src')))\n",
    "print(f\"Project root directory: {PROJECT_ROOT}\")\n",
    "\n",
    "# data import & manipulation\n",
    "import pandas as pd"
   ]
  },
  {
   "cell_type": "code",
   "execution_count": null,
   "metadata": {},
   "outputs": [],
   "source": [
    "%autoreload 2\n",
    "import cmap\n",
    "# Optic Lobe libraries\n",
    "from utils import olc_client\n",
    "c = olc_client.connect(verbose=True)\n",
    "\n",
    "from utils.plotter import plot_cns, save_figure\n",
    "from utils.helper import slugify\n",
    "from utils.neuron_bag import NeuronBag"
   ]
  },
  {
   "cell_type": "markdown",
   "metadata": {},
   "source": [
    "## Gallery for grouped VPN with cns background\n",
    "\n",
    "For each subgroup, pick one cell from each type and plot the frontal view with cns outline as the background"
   ]
  },
  {
   "cell_type": "code",
   "execution_count": null,
   "metadata": {},
   "outputs": [],
   "source": [
    "# result path\n",
    "result_dir = PROJECT_ROOT / 'results' / 'cell_gallery'\n",
    "result_dir.mkdir(parents=True, exist_ok=True)\n",
    "\n",
    "param_dir = PROJECT_ROOT / 'params'\n"
   ]
  },
  {
   "cell_type": "code",
   "execution_count": null,
   "metadata": {},
   "outputs": [],
   "source": [
    "# load csv file\n",
    "file_path = Path(param_dir, \"Medulla_VPN_groups_092023_1.csv\")\n",
    "df = pd.read_csv(file_path)"
   ]
  },
  {
   "cell_type": "code",
   "execution_count": null,
   "metadata": {},
   "outputs": [],
   "source": [
    "# unique Subgroups,\n",
    "print(df['Subgroup'].unique())"
   ]
  },
  {
   "cell_type": "code",
   "execution_count": null,
   "metadata": {},
   "outputs": [],
   "source": [
    "# loop all the subgroups\n",
    "# however, the grouping should be checked and optimized\n",
    "\n",
    "result_dir_skel = result_dir / 'skeletons'\n",
    "result_dir_skel.mkdir(parents=True, exist_ok=True)\n",
    "\n",
    "for i in df['Subgroup'].unique()[0:1]:\n",
    "    # get the df['type'] whose \"Subgroup\" == i\n",
    "    types = df[df['Subgroup'] == i]['type'].values # get the types in this subgroup\n",
    "    n_types = len(types) # get the number of types\n",
    "    print(n_types)\n",
    "\n",
    "    # get one cell from each type in one subgroup\n",
    "    bid = []\n",
    "    for t in types:\n",
    "        bag = NeuronBag(cell_type=t)\n",
    "        # sort the ids by distance to the center of the medulla\n",
    "        bag.sort_by_distance_to_hex(\"ME(R)\", 18, 18)\n",
    "        bid.append(bag.first_item) # get the first\n",
    "    print(bid)\n",
    "\n",
    "    fig = plot_cns(\n",
    "        bodyid=bid,\n",
    "        celltype=types,\n",
    "        show_skeletons=True, #choose skeleton or mesh\n",
    "        # show_meshes=True,\n",
    "        show_outline=True, # the first time to load the outline will take a while\n",
    "        zoom=4,\n",
    "        palette='tab20'\n",
    "        )\n",
    "    fn = slugify(f\"subgroup_{i}\", to_lower=False)\n",
    "    save_figure(fig\n",
    "      , name=fn\n",
    "      , width=1000\n",
    "      , height=600\n",
    "      , path=result_dir_skel\n",
    "      , showlegend=False\n",
    "    ) # adjust size and path"
   ]
  },
  {
   "cell_type": "code",
   "execution_count": null,
   "metadata": {},
   "outputs": [],
   "source": [
    "# # DEBUG\n",
    "\n",
    "# # get the df['type'] whose \"Subgroup\" == 2\n",
    "# types = df[df['Subgroup'] == 2]['type'].values # get the types in this subgroup\n",
    "# n_types = len(types) # get the number of types\n",
    "# print(n_types)\n",
    "\n",
    "# # get one cell from each type in one subgroup\n",
    "# bid = []\n",
    "# for t in types:\n",
    "#     bag = NeuronBag(cell_type=t)\n",
    "#     # bag.sort_by_distance_to_hex(18,18) # sort the ids by distance to the center of the medulla\n",
    "#     bid.append(bag.get_body_ids()[0]) # get the first\n",
    "# print(bid)\n",
    "\n",
    "# # choose a view and define the plotter\n",
    "# gp = GalleryPlotter(\n",
    "#       body_id=bid\n",
    "#     , view= Gallery_View_cns.GALLERY_cns\n",
    "# ) # use GALLERY_cns for the CNS view"
   ]
  }
 ],
 "metadata": {
  "kernelspec": {
   "display_name": ".venv",
   "language": "python",
   "name": "python3"
  },
  "language_info": {
   "codemirror_mode": {
    "name": "ipython",
    "version": 3
   },
   "file_extension": ".py",
   "mimetype": "text/x-python",
   "name": "python",
   "nbconvert_exporter": "python",
   "pygments_lexer": "ipython3",
   "version": "3.11.6"
  }
 },
 "nbformat": 4,
 "nbformat_minor": 2
}
