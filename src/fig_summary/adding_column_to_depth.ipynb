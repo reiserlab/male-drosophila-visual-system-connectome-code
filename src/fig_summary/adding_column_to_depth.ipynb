{
 "cells": [
  {
   "cell_type": "code",
   "execution_count": null,
   "metadata": {},
   "outputs": [],
   "source": [
    "from pathlib import Path\n",
    "import sys\n",
    "\n",
    "from dotenv import load_dotenv, find_dotenv\n",
    "load_dotenv()\n",
    "PROJECT_ROOT = Path(find_dotenv()).parent\n",
    "sys.path.append(str(PROJECT_ROOT.joinpath('src')))\n",
    "print(f\"Project root directory: {PROJECT_ROOT}\")\n",
    "import numpy as np\n",
    "\n",
    "import plotly.graph_objects as go\n",
    "import pandas as pd"
   ]
  },
  {
   "cell_type": "code",
   "execution_count": null,
   "metadata": {},
   "outputs": [],
   "source": [
    "# load some helper functions\n",
    "from utils.ROI_calculus import find_depth, find_hex_ids\n",
    "from utils.celltype_conn_by_roi import CelltypeConnByRoi\n",
    "from utils import olc_client\n"
   ]
  },
  {
   "cell_type": "code",
   "execution_count": null,
   "metadata": {},
   "outputs": [],
   "source": [
    "c = olc_client.connect(verbose=True)"
   ]
  },
  {
   "cell_type": "code",
   "execution_count": null,
   "metadata": {},
   "outputs": [],
   "source": [
    "mi1_me = CelltypeConnByRoi('Mi1', 'ME(R)')"
   ]
  },
  {
   "cell_type": "code",
   "execution_count": null,
   "metadata": {},
   "outputs": [],
   "source": [
    "syn_inp = mi1_me.get_input_synapses()\n",
    "syn_out = mi1_me.get_output_synapses()\n",
    "\n",
    "just_inp_syn = syn_inp[['x_post', 'y_post', 'z_post']]\\\n",
    "    .rename(columns={'x_post':'x', 'y_post':'y', 'z_post':'z'})\n",
    "just_out_syn = syn_out[['x_pre', 'y_pre', 'z_pre']]\\\n",
    "    .rename(columns={'x_pre':'x', 'y_pre':'y', 'z_pre':'z'})\n",
    "\n",
    "inp_depth = find_depth(just_inp_syn)\n",
    "out_depth = find_depth(just_out_syn)\n",
    "\n",
    "inp_cols = find_hex_ids(just_inp_syn)\n",
    "out_cols = find_hex_ids(just_out_syn)"
   ]
  },
  {
   "cell_type": "code",
   "execution_count": null,
   "metadata": {},
   "outputs": [],
   "source": [
    "syn_inp_w_coldep = syn_inp.join(inp_cols).join(inp_depth)\\\n",
    "    .rename(columns={'bodyId_post':'bodyId', 'bodyId_pre':'bodyId_conn'})\n",
    "syn_out_w_coldep = syn_out.join(out_cols).join(out_depth)\\\n",
    "    .rename(columns={'bodyId_pre':'bodyId', 'bodyId_post':'bodyId_conn'})\n",
    "syn_inp_w_coldep['M_layers'] = 0\n",
    "syn_out_w_coldep['M_layers'] = 0"
   ]
  },
  {
   "cell_type": "code",
   "execution_count": null,
   "metadata": {},
   "outputs": [],
   "source": [
    "syn_out_w_coldep"
   ]
  },
  {
   "cell_type": "code",
   "execution_count": null,
   "metadata": {},
   "outputs": [],
   "source": [
    "me_layer_bdry = [-0.01, 0.09,0.19,0.34,0.39,0.46,0.61,0.72,0.80,0.97, 1.01]\n",
    "\n",
    "for dep_rng_ind in range(len(me_layer_bdry)-1):\n",
    "    dep_low = me_layer_bdry[dep_rng_ind]\n",
    "    dep_high = me_layer_bdry[dep_rng_ind+1]\n",
    "    dep_inp_bool = (syn_inp_w_coldep['depth'] >= dep_low) & (syn_inp_w_coldep['depth'] < dep_high)\n",
    "    dep_out_bool = (syn_out_w_coldep['depth'] >= dep_low) & (syn_out_w_coldep['depth'] < dep_high)\n",
    "    syn_inp_w_coldep.loc[dep_inp_bool, 'M_layers'] = dep_rng_ind +1\n",
    "    syn_out_w_coldep.loc[dep_out_bool, 'M_layers'] = dep_rng_ind +1"
   ]
  },
  {
   "cell_type": "code",
   "execution_count": null,
   "metadata": {},
   "outputs": [],
   "source": [
    "syn_out_w_coldep['M_layers'].hist(bins=np.linspace(0.5, 10.5, 11))"
   ]
  },
  {
   "cell_type": "code",
   "execution_count": null,
   "metadata": {},
   "outputs": [],
   "source": [
    "syn_out_w_coldep['syn_type'] = 'output'\n",
    "syn_inp_w_coldep['syn_type'] = 'input'"
   ]
  },
  {
   "cell_type": "code",
   "execution_count": null,
   "metadata": {},
   "outputs": [],
   "source": [
    "\n",
    "inp_out_w_coldep = pd.concat([syn_inp_w_coldep[['bodyId', 'bodyId_conn', 'syn_type', 'depth', 'col_id', 'M_layers']], syn_out_w_coldep[['bodyId', 'bodyId_conn', 'syn_type', 'depth', 'col_id', 'M_layers']]])"
   ]
  },
  {
   "cell_type": "code",
   "execution_count": null,
   "metadata": {},
   "outputs": [],
   "source": [
    "inp_out_w_coldep"
   ]
  },
  {
   "cell_type": "code",
   "execution_count": null,
   "metadata": {},
   "outputs": [],
   "source": [
    "inp_out_gpby = inp_out_w_coldep\\\n",
    "    .groupby(['bodyId', 'col_id'], as_index=False)['M_layers']\\\n",
    "    .count()\\\n",
    "    .rename(columns={'M_layers':'syn_per_col'})\n",
    "tmp_gpby = inp_out_w_coldep\\\n",
    "    .groupby(['bodyId'], as_index=False)['M_layers']\\\n",
    "    .count()\\\n",
    "    .rename(columns={'M_layers':'tot_syn'})\n",
    "inp_out_gpby = inp_out_gpby.merge(tmp_gpby, on='bodyId')\n",
    "inp_out_gpby['col_frac_from_tot'] = inp_out_gpby['syn_per_col']\\\n",
    "    .div(inp_out_gpby['tot_syn'])\n",
    "inp_out_gpby\\\n",
    "    .sort_values(['bodyId', 'col_frac_from_tot'], ascending=False, inplace=True)\n",
    "inp_out_gpby['col_frac_cs'] = inp_out_gpby\\\n",
    "    .groupby(['bodyId'])['col_frac_from_tot']\\\n",
    "    .cumsum()\n",
    "inp_out_gpby['rank_frac_cs'] = inp_out_gpby\\\n",
    "    .groupby(['bodyId'])['col_frac_cs']\\\n",
    "    .rank(method='first')\n",
    "tmp_ser = inp_out_gpby[inp_out_gpby['col_frac_cs']\\\n",
    "    .ge(0.8)]\\\n",
    "    .groupby(['bodyId'])['rank_frac_cs']\\\n",
    "    .min()\\\n",
    "    .rename('min_rank')\n",
    "inp_out_gpby = inp_out_gpby.merge(tmp_ser, on='bodyId')\n"
   ]
  },
  {
   "cell_type": "code",
   "execution_count": null,
   "metadata": {},
   "outputs": [],
   "source": [
    "rel_bid_col_df = inp_out_gpby[\n",
    "    inp_out_gpby['rank_frac_cs']<= inp_out_gpby['min_rank']]\\\n",
    "    [['bodyId', 'col_id']]"
   ]
  },
  {
   "cell_type": "code",
   "execution_count": null,
   "metadata": {},
   "outputs": [],
   "source": [
    "fin_df = rel_bid_col_df\\\n",
    "    .merge(inp_out_w_coldep, on=['bodyId', 'col_id'], how='left')\\\n",
    "    .dropna()"
   ]
  },
  {
   "cell_type": "code",
   "execution_count": null,
   "metadata": {},
   "outputs": [],
   "source": [
    "count_per_layer = fin_df['M_layers']\\\n",
    "    .value_counts()\n",
    "cum_frac_layer = count_per_layer\\\n",
    "    .cumsum()\\\n",
    "    .div(count_per_layer.sum())"
   ]
  },
  {
   "cell_type": "code",
   "execution_count": null,
   "metadata": {},
   "outputs": [],
   "source": [
    "cum_frac_layer[cum_frac_layer.ge(0.9)].index[0]"
   ]
  },
  {
   "cell_type": "code",
   "execution_count": null,
   "metadata": {},
   "outputs": [],
   "source": [
    "cum_frac_layer.index.get_loc(5)"
   ]
  },
  {
   "cell_type": "code",
   "execution_count": null,
   "metadata": {},
   "outputs": [],
   "source": [
    "cum_frac_layer.index"
   ]
  },
  {
   "cell_type": "code",
   "execution_count": null,
   "metadata": {},
   "outputs": [],
   "source": [
    "cum_frac_layer.index[4:].values"
   ]
  },
  {
   "cell_type": "code",
   "execution_count": null,
   "metadata": {},
   "outputs": [],
   "source": [
    "count_col_df = fin_df\\\n",
    "    .groupby(['bodyId', 'M_layers'], as_index=False)['col_id']\\\n",
    "    .nunique()"
   ]
  },
  {
   "cell_type": "code",
   "execution_count": null,
   "metadata": {},
   "outputs": [],
   "source": [
    "tmp_ind = count_col_df[\n",
    "    count_col_df['M_layers'].isin(cum_frac_layer.index[4:].values)]\\\n",
    "    .index"
   ]
  },
  {
   "cell_type": "code",
   "execution_count": null,
   "metadata": {},
   "outputs": [],
   "source": [
    "count_col_df.loc[tmp_ind, 'col_id'] = 0"
   ]
  },
  {
   "cell_type": "code",
   "execution_count": null,
   "metadata": {},
   "outputs": [],
   "source": [
    "count_col_df"
   ]
  },
  {
   "cell_type": "code",
   "execution_count": null,
   "metadata": {},
   "outputs": [],
   "source": [
    "fig = go.Figure(go.Box(x=count_col_df['M_layers'], y=count_col_df['col_id']))\n",
    "fig.show()"
   ]
  },
  {
   "cell_type": "code",
   "execution_count": null,
   "metadata": {},
   "outputs": [],
   "source": [
    "by_layer_col_count_df = count_col_df\\\n",
    "    .reset_index()\\\n",
    "    .groupby(['bodyId', 'M_layers'])['col_id']\\\n",
    "    .aggregate('first')\\\n",
    "    .unstack()"
   ]
  },
  {
   "cell_type": "code",
   "execution_count": null,
   "metadata": {},
   "outputs": [],
   "source": [
    "by_layer_col_count_df"
   ]
  },
  {
   "cell_type": "code",
   "execution_count": null,
   "metadata": {},
   "outputs": [],
   "source": []
  }
 ],
 "metadata": {
  "kernelspec": {
   "display_name": "ol-connectome",
   "language": "python",
   "name": "ol-connectome"
  },
  "language_info": {
   "codemirror_mode": {
    "name": "ipython",
    "version": 3
   },
   "file_extension": ".py",
   "mimetype": "text/x-python",
   "name": "python",
   "nbconvert_exporter": "python",
   "pygments_lexer": "ipython3",
   "version": "3.11.5"
  }
 },
 "nbformat": 4,
 "nbformat_minor": 2
}
