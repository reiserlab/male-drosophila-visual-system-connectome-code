{
 "cells": [
  {
   "cell_type": "markdown",
   "metadata": {},
   "source": [
    "# Celltype summary\n",
    "\n",
    "generate the Summary Group pdf and svg files.\n",
    "\n",
    "This notebook is mostly for debugging, use the snakemake rule for parallel execution."
   ]
  },
  {
   "cell_type": "code",
   "execution_count": null,
   "metadata": {
    "lines_to_next_cell": 2
   },
   "outputs": [],
   "source": [
    "%load_ext autoreload\n",
    "\n",
    "from pathlib import Path\n",
    "import sys\n",
    "\n",
    "from dotenv import load_dotenv, find_dotenv\n",
    "load_dotenv()\n",
    "PROJECT_ROOT = Path(\n",
    "    find_dotenv()).parent\n",
    "sys.path.append(str(PROJECT_ROOT.joinpath('src')))\n",
    "print(f\"Project root directory: {PROJECT_ROOT}\")\n",
    "\n",
    "from utils import olc_client\n",
    "\n",
    "c = olc_client.connect(verbose=True)"
   ]
  },
  {
   "cell_type": "code",
   "execution_count": null,
   "metadata": {},
   "outputs": [],
   "source": [
    "%autoreload 2\n",
    "from neurontype_summary import cli"
   ]
  },
  {
   "cell_type": "markdown",
   "metadata": {},
   "source": [
    "# Usage\n",
    "\n",
    "`neurontype_summary` is a command line tool that supports 3 commands: `count`, `get` and `plot`.\n",
    "\n",
    "You can access a full list of commands from Jupyter via `cli([], standalone_mode=False)` and from the command line via `python src/fig_summary/neurontype_summary.py`\n",
    "\n",
    "`count` returns the total number of groups\n",
    "\n",
    "`get X` returns the list of items in that group, with X being a number >=0 and <= `count -1`.\n",
    "\n",
    "`plot X` generates a plot for group X. This can take a long time.\n",
    "\n",
    "Having this as a command line tool allows us, to run all the different groups in parallel, for example via `snakemake`. \n",
    "\n",
    "If you want to see what is in one of the groups, for example group 0, you can run this:\n",
    "\n",
    "```python\n",
    "cli([\"get\", \"0\"], standalone_mode=False)\n",
    "```"
   ]
  },
  {
   "cell_type": "code",
   "execution_count": null,
   "metadata": {},
   "outputs": [],
   "source": [
    "per_page = 24\n",
    "\n",
    "n_groups = cli([\"count\", f\"--per-page={per_page}\"], standalone_mode=False)\n",
    "\n",
    "for group_num in range(0, n_groups):\n",
    "    cli([\"plot\", f\"--per-page={per_page}\", f\"{group_num}\"], standalone_mode=False)"
   ]
  },
  {
   "cell_type": "code",
   "execution_count": null,
   "metadata": {},
   "outputs": [],
   "source": [
    "# cli([\"plot\", \"--per-page=24\", f\"16\"], standalone_mode=False)"
   ]
  }
 ],
 "metadata": {
  "kernelspec": {
   "display_name": "Python 3 (ipykernel)",
   "language": "python",
   "name": "python3"
  },
  "language_info": {
   "codemirror_mode": {
    "name": "ipython",
    "version": 3
   },
   "file_extension": ".py",
   "mimetype": "text/x-python",
   "name": "python",
   "nbconvert_exporter": "python",
   "pygments_lexer": "ipython3",
   "version": "3.11.8"
  }
 },
 "nbformat": 4,
 "nbformat_minor": 4
}
