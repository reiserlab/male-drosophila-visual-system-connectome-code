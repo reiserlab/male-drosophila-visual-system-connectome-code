{
 "cells": [
  {
   "cell_type": "code",
   "execution_count": null,
   "metadata": {
    "lines_to_next_cell": 2
   },
   "outputs": [],
   "source": [
    "%load_ext autoreload\n",
    "\n",
    "from pathlib import Path\n",
    "import sys\n",
    "from IPython.display import display\n",
    "\n",
    "from dotenv import load_dotenv, find_dotenv\n",
    "load_dotenv()\n",
    "PROJECT_ROOT = Path(\n",
    "    find_dotenv()).parent\n",
    "sys.path.append(str(PROJECT_ROOT.joinpath('src')))\n",
    "print(f\"Project root directory: {PROJECT_ROOT}\")\n"
   ]
  },
  {
   "cell_type": "code",
   "execution_count": null,
   "metadata": {},
   "outputs": [],
   "source": [
    "%autoreload 2\n",
    "# load some helper functions\n",
    "from utils import olc_client\n",
    "from utils.instance_summary import InstanceSummary\n",
    "from utils.summary_plotter import SummaryPlotter"
   ]
  },
  {
   "cell_type": "code",
   "execution_count": null,
   "metadata": {},
   "outputs": [],
   "source": [
    "c = olc_client.connect(verbose=True)"
   ]
  },
  {
   "cell_type": "code",
   "execution_count": null,
   "metadata": {},
   "outputs": [],
   "source": [
    "# directory to save result figure\n",
    "result_dir = PROJECT_ROOT / 'results' / 'fig_summary'\n",
    "result_dir.mkdir(parents=True, exist_ok=True)"
   ]
  },
  {
   "cell_type": "code",
   "execution_count": null,
   "metadata": {},
   "outputs": [],
   "source": [
    "in_list = []\n",
    "for ins in ['L2_R', 'L3_R', 'Tm1_R', 'Tm2_R'\n",
    "      , 'Dm3a_R', 'Dm3b_R', 'Dm3c_R'\n",
    "      , 'TmY4_R', 'TmY9a_R', 'TmY9b_R'\n",
    "      , 'Li16_R', 'LC11_R', 'LC15_R']:\n",
    "    print(ins)\n",
    "    \n",
    "    for instance in [ins]:\n",
    "        in_list.append(\n",
    "            InstanceSummary(\n",
    "                instance\n",
    "              , connection_cutoff=None\n",
    "              , per_cell_cutoff=1.0\n",
    "            )\n",
    "        )\n",
    "\n",
    "\n",
    "sp = SummaryPlotter(\n",
    "    instance_list=in_list\n",
    "  , figure_title='Figure 5b'\n",
    "#   , col_synapses = {\n",
    "#             'ME(R)':.15\n",
    "#           , 'LO(R)':.075\n",
    "#           , 'LOP(R)':.05\n",
    "#         }\n",
    ")\n",
    "fig = sp.plot()\n",
    "\n",
    "file_name = f\"Figure-5b.pdf\"\n",
    "fig.write_image(\n",
    "    result_dir / file_name\n",
    "  , width = 8.5*96 # inch * ppi\n",
    "  , height = 11*96\n",
    ")"
   ]
  },
  {
   "cell_type": "code",
   "execution_count": null,
   "metadata": {},
   "outputs": [],
   "source": []
  }
 ],
 "metadata": {
  "kernelspec": {
   "display_name": "Python 3 (ipykernel)",
   "language": "python",
   "name": "python3"
  },
  "language_info": {
   "codemirror_mode": {
    "name": "ipython",
    "version": 3
   },
   "file_extension": ".py",
   "mimetype": "text/x-python",
   "name": "python",
   "nbconvert_exporter": "python",
   "pygments_lexer": "ipython3",
   "version": "3.11.8"
  }
 },
 "nbformat": 4,
 "nbformat_minor": 4
}
