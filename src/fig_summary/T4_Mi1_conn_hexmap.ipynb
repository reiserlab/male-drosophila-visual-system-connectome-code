{
 "cells": [
  {
   "cell_type": "code",
   "execution_count": null,
   "metadata": {},
   "outputs": [],
   "source": [
    "%load_ext autoreload\n",
    "\n",
    "from pathlib import Path\n",
    "import sys\n",
    "\n",
    "from dotenv import load_dotenv, find_dotenv\n",
    "load_dotenv()\n",
    "PROJECT_ROOT = Path(find_dotenv()).parent\n",
    "sys.path.append(str(PROJECT_ROOT.joinpath('src')))\n",
    "print(f\"Project root directory: {PROJECT_ROOT}\")\n",
    "import numpy as np\n",
    "\n",
    "import plotly.express as px\n",
    "import plotly.graph_objects as go\n",
    "import pandas as pd\n"
   ]
  },
  {
   "cell_type": "code",
   "execution_count": null,
   "metadata": {},
   "outputs": [],
   "source": [
    "\n",
    "%autoreload 2\n",
    "# load some helper functions\n",
    "from utils.celltype_conn_by_roi import CelltypeConnByRoi\n",
    "from utils import olc_client"
   ]
  },
  {
   "cell_type": "code",
   "execution_count": null,
   "metadata": {},
   "outputs": [],
   "source": [
    "\n",
    "c = olc_client.connect(verbose=True)"
   ]
  },
  {
   "cell_type": "code",
   "execution_count": null,
   "metadata": {},
   "outputs": [],
   "source": [
    "# directory to save results\n",
    "result_dir = PROJECT_ROOT / 'results' / 'fig_summary'\n",
    "result_dir.mkdir(parents=True, exist_ok=True)"
   ]
  },
  {
   "cell_type": "code",
   "execution_count": null,
   "metadata": {},
   "outputs": [],
   "source": [
    "\n",
    "mi1_obj = CelltypeConnByRoi('Mi1', 'ME(R)')\n"
   ]
  },
  {
   "cell_type": "code",
   "execution_count": null,
   "metadata": {},
   "outputs": [],
   "source": [
    "t4_names = ['T4a', 'T4b', 'T4c', 'T4d']\n",
    "mi1_out = mi1_obj.get_output_neurons_w_stats()\n",
    "mi1_out_red = mi1_out[mi1_out['type_post'].isin(t4_names)]"
   ]
  },
  {
   "cell_type": "code",
   "execution_count": null,
   "metadata": {},
   "outputs": [],
   "source": [
    "mi1_out_red.shape"
   ]
  },
  {
   "cell_type": "code",
   "execution_count": null,
   "metadata": {},
   "outputs": [],
   "source": [
    "mi1_t4_conn = mi1_out_red.groupby(['bodyId_pre', 'type_post'])['syn_count'].sum().reset_index()"
   ]
  },
  {
   "cell_type": "code",
   "execution_count": null,
   "metadata": {},
   "outputs": [],
   "source": [
    "sort_count = mi1_t4_conn['syn_count'].sort_values()\n",
    "px.scatter(x=range(sort_count.shape[0]), y=sort_count)"
   ]
  },
  {
   "cell_type": "code",
   "execution_count": null,
   "metadata": {},
   "outputs": [],
   "source": [
    "mi1_t4_conn['tot_t4_syn'] = mi1_t4_conn.groupby('bodyId_pre')['syn_count'].transform('sum')\n",
    "mi1_t4_conn['min_t4_syn'] = mi1_t4_conn.groupby('bodyId_pre')['syn_count'].transform('min')"
   ]
  },
  {
   "cell_type": "code",
   "execution_count": null,
   "metadata": {},
   "outputs": [],
   "source": [
    "px.scatter(x=mi1_t4_conn['tot_t4_syn'], y=mi1_t4_conn['min_t4_syn'])"
   ]
  },
  {
   "cell_type": "code",
   "execution_count": null,
   "metadata": {},
   "outputs": [],
   "source": [
    "t4a_obj = CelltypeConnByRoi('T4a', 'ME(R)')\n",
    "t4b_obj = CelltypeConnByRoi('T4b', 'ME(R)')\n",
    "t4c_obj = CelltypeConnByRoi('T4c', 'ME(R)')\n",
    "t4d_obj = CelltypeConnByRoi('T4d', 'ME(R)')"
   ]
  },
  {
   "cell_type": "code",
   "execution_count": null,
   "metadata": {},
   "outputs": [],
   "source": [
    "t4a_inp = t4a_obj.get_input_neurons_w_stats()\n",
    "t4b_inp = t4b_obj.get_input_neurons_w_stats()\n",
    "t4c_inp = t4c_obj.get_input_neurons_w_stats()\n",
    "t4d_inp = t4d_obj.get_input_neurons_w_stats()\n",
    "\n",
    "t4a_inp_red = t4a_inp[t4a_inp['type_pre'] == 'Mi1']\n",
    "t4b_inp_red = t4b_inp[t4b_inp['type_pre'] == 'Mi1']\n",
    "t4c_inp_red = t4c_inp[t4c_inp['type_pre'] == 'Mi1']\n",
    "t4d_inp_red = t4d_inp[t4d_inp['type_pre'] == 'Mi1']\n",
    "\n",
    "all_t4_inp = pd.concat([t4a_inp_red,t4b_inp_red,t4c_inp_red,t4d_inp_red]).reset_index(drop=True)"
   ]
  },
  {
   "cell_type": "code",
   "execution_count": null,
   "metadata": {},
   "outputs": [],
   "source": [
    "all_t4_inp = all_t4_inp.sort_values('syn_count').reset_index()\n",
    "px.scatter(all_t4_inp, all_t4_inp.index , y='syn_count', color='type_post')"
   ]
  },
  {
   "cell_type": "code",
   "execution_count": null,
   "metadata": {},
   "outputs": [],
   "source": [
    "all_t4_inp.groupby('bodyId_pre')['bodyId_post'].nunique()"
   ]
  },
  {
   "cell_type": "code",
   "execution_count": null,
   "metadata": {},
   "outputs": [],
   "source": [
    "# px.histogram(all_t4_inp['syn_count'])\n",
    "px.histogram(np.log2(all_t4_inp['syn_count']))"
   ]
  },
  {
   "attachments": {},
   "cell_type": "markdown",
   "metadata": {},
   "source": [
    "### seems like the cutoff between 2 different connections (weak and strong) is around 16 synapses"
   ]
  },
  {
   "cell_type": "code",
   "execution_count": null,
   "metadata": {},
   "outputs": [],
   "source": [
    "strong_t4_inp = all_t4_inp[all_t4_inp['syn_count'] > 16]"
   ]
  },
  {
   "cell_type": "code",
   "execution_count": null,
   "metadata": {},
   "outputs": [],
   "source": [
    "strong_t4_inp.groupby('bodyId_pre')['type_post'].nunique().lt(4).sum()"
   ]
  },
  {
   "cell_type": "code",
   "execution_count": null,
   "metadata": {},
   "outputs": [],
   "source": [
    "mi1_t4_all = all_t4_inp.groupby(['bodyId_pre', 'type_post'])['syn_count'].sum().reset_index().rename(columns={'bodyId_pre':'mi1_bid'})\n",
    "mi1_t4_strong = strong_t4_inp.groupby(['bodyId_pre', 'type_post'])['syn_count'].sum().reset_index().rename(columns={'bodyId_pre':'mi1_bid'})"
   ]
  },
  {
   "cell_type": "code",
   "execution_count": null,
   "metadata": {},
   "outputs": [],
   "source": [
    "fig = go.Figure()\n",
    "fig.add_trace(go.Histogram(x=mi1_t4_all['syn_count']))\n",
    "fig.add_trace(go.Histogram(x=mi1_t4_strong['syn_count']))\n",
    "\n",
    "fig.update_layout(barmode='overlay')\n",
    "fig.update_traces(opacity=0.75)\n",
    "fig.show()\n"
   ]
  },
  {
   "cell_type": "code",
   "execution_count": null,
   "metadata": {},
   "outputs": [],
   "source": [
    "px.histogram(mi1_t4_strong[mi1_t4_strong['type_post']=='T4c'], x='syn_count')\n"
   ]
  },
  {
   "cell_type": "code",
   "execution_count": null,
   "metadata": {},
   "outputs": [],
   "source": [
    "mi1_com = mi1_out_red.groupby('bodyId_pre')[['x_post', 'y_post', 'z_post']].mean()"
   ]
  },
  {
   "cell_type": "code",
   "execution_count": null,
   "metadata": {},
   "outputs": [],
   "source": [
    "mi1_t4_strong"
   ]
  }
 ],
 "metadata": {
  "kernelspec": {
   "display_name": "ol-connectome",
   "language": "python",
   "name": "ol-connectome"
  },
  "language_info": {
   "codemirror_mode": {
    "name": "ipython",
    "version": 3
   },
   "file_extension": ".py",
   "mimetype": "text/x-python",
   "name": "python",
   "nbconvert_exporter": "python",
   "pygments_lexer": "ipython3",
   "version": "3.11.3"
  }
 },
 "nbformat": 4,
 "nbformat_minor": 2
}
