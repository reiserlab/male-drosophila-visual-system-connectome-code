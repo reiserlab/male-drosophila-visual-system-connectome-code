{
 "cells": [
  {
   "cell_type": "code",
   "execution_count": null,
   "metadata": {},
   "outputs": [],
   "source": [
    "%load_ext autoreload\n",
    "from pathlib import Path\n",
    "import sys\n",
    "import os\n",
    "import fitz\n",
    "from dotenv import load_dotenv, find_dotenv\n",
    "load_dotenv()\n",
    "PROJECT_ROOT = Path(find_dotenv()).parent\n",
    "sys.path.append(str(PROJECT_ROOT.joinpath(\"src\")))\n",
    "print(f\"Project root directory: {PROJECT_ROOT}\")\n"
   ]
  },
  {
   "cell_type": "markdown",
   "metadata": {},
   "source": [
    "Helper notebook to generate the Catalog from single pages."
   ]
  },
  {
   "cell_type": "code",
   "execution_count": null,
   "metadata": {},
   "outputs": [],
   "source": [
    "doc_out = fitz.open()\n",
    "\n",
    "page_counter = 1 # 1-based for bookmarks / toc\n",
    "\n",
    "page_toc = []\n",
    "\n",
    "df_dict = {\n",
    "        \"creator\": \"Reiser Lab\",\n",
    "        \"producer\": \"Janelia Research Campus\",\n",
    "        \"creationDate\": fitz.get_pdf_now(),\n",
    "        \"modDate\": fitz.get_pdf_now(),\n",
    "        \"title\": \"Cell Type Catalog, Supplement to 'Connectome-driven neural inventory of a complete visual system'\",\n",
    "        \"author\": \"Aljoscha Nern, Laura E. Burnett, Marisa Dreher, Eyal Gruntman, Judith Hoeller, Nathan C. Klapoetke, Sanna Koskela, Frank Loesche, Kit D. Longden, Edward M. Rogers, Pavithraa Seenivasan, Shin-ya Takemura, Arthur Zhao, Sandro Romani, Jan Funke, Stuart Berg, Gerald M. Rubin, Michael B. Reiser\",\n",
    "        \"subject\": \"Connectome\",\n",
    "        \"keywords\": \"connecome, Drosophila, Drosophila melanogaster, vision\",\n",
    "    }\n",
    "\n",
    "doc_out.set_metadata(df_dict)\n",
    "\n",
    "\n",
    "os.system('typst compile CellTypeCatalog_Title.typ') # This only works with typst installed. Otherwise it uses the pre-existing pdf file.\n",
    "title_doc =  \"CellTypeCatalog_Title.pdf\"\n",
    "tmp_title = fitz.open(title_doc)\n",
    "doc_out.insert_pdf(tmp_title)\n",
    "page_counter += 1\n",
    "\n",
    "\n",
    "\n",
    "\n",
    "for idx in range(0, 34):\n",
    "    for fname in [\"Gallery_Group-\", \"Summary_Group-\"]:\n",
    "        tmp_fn = PROJECT_ROOT / \"results\" / \"fig_summary\" / f\"{fname}{idx:02d}.pdf\"\n",
    "        tmp_doc = fitz.open(tmp_fn)\n",
    "        doc_out.insert_pdf(tmp_doc)\n",
    "        tmp_toc = tmp_doc.get_toc(simple=False)\n",
    "        for toc_entry in tmp_toc:\n",
    "            toc_e = toc_entry\n",
    "            toc_e[2] = page_counter\n",
    "            page_toc.append(toc_e)\n",
    "        page_counter += 1\n",
    "\n",
    "doc_out.set_toc(page_toc)\n",
    "\n",
    "doc_out.save(PROJECT_ROOT / \"results\" / \"fig_summary\" / \"Cell Type Catalog.pdf\")"
   ]
  },
  {
   "cell_type": "code",
   "execution_count": null,
   "metadata": {},
   "outputs": [],
   "source": []
  }
 ],
 "metadata": {
  "kernelspec": {
   "display_name": ".venv",
   "language": "python",
   "name": "python3"
  },
  "language_info": {
   "codemirror_mode": {
    "name": "ipython",
    "version": 3
   },
   "file_extension": ".py",
   "mimetype": "text/x-python",
   "name": "python",
   "nbconvert_exporter": "python",
   "pygments_lexer": "ipython3",
   "version": "3.11.8"
  }
 },
 "nbformat": 4,
 "nbformat_minor": 2
}
