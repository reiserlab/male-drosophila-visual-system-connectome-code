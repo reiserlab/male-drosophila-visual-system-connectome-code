{
 "cells": [
  {
   "cell_type": "code",
   "execution_count": null,
   "metadata": {},
   "outputs": [],
   "source": [
    "import sys\n",
    "from pathlib import Path\n",
    "from dotenv import load_dotenv, find_dotenv\n",
    "\n",
    "load_dotenv()\n",
    "\n",
    "PROJECT_ROOT = Path(find_dotenv()).parent\n",
    "sys.path.append(str(PROJECT_ROOT.joinpath(\"src\")))\n",
    "\n",
    "from utils.dm3_movie_functions import generate_movie_description, get_body_id_by_hex\n",
    "\n",
    "from utils import olc_client\n",
    "\n",
    "c = olc_client.connect(verbose=True)"
   ]
  },
  {
   "cell_type": "markdown",
   "metadata": {},
   "source": [
    "Generate the json files to create movies for all 3 Dm3 cell types"
   ]
  },
  {
   "cell_type": "code",
   "execution_count": null,
   "metadata": {},
   "outputs": [],
   "source": [
    "# choose the colors to use for each cell type\n",
    "ctype_dict = {\"Dm3a\": \"red\", \"Dm3b\": \"blue\", \"Dm3c\": \"purple\"}"
   ]
  },
  {
   "cell_type": "code",
   "execution_count": null,
   "metadata": {},
   "outputs": [],
   "source": [
    "for cell_type in [\"Dm3a\", \"Dm3b\", \"Dm3c\"]:\n",
    "    # Generate df with ordered bodyIds\n",
    "    ids_df =  get_body_id_by_hex(cell_type)\n",
    "\n",
    "    generate_movie_description(\n",
    "        cell_type=cell_type,\n",
    "        df=ids_df,\n",
    "        template=\"Dm3-template.json.jinja\",\n",
    "        number_of_neighbors=5,\n",
    "        color=ctype_dict[cell_type],\n",
    "        stripes=True,\n",
    "    )"
   ]
  }
 ],
 "metadata": {
  "kernelspec": {
   "display_name": "Python 3.11.5 ('ol-connectome')",
   "language": "python",
   "name": "python3"
  },
  "language_info": {
   "codemirror_mode": {
    "name": "ipython",
    "version": 3
   },
   "file_extension": ".py",
   "mimetype": "text/x-python",
   "name": "python",
   "nbconvert_exporter": "python",
   "pygments_lexer": "ipython3",
   "version": "3.11.7"
  },
  "vscode": {
   "interpreter": {
    "hash": "7b5033e8f07b9ebfe9078112702188de0a24666053206552b7ad775d34890b8e"
   }
  }
 },
 "nbformat": 4,
 "nbformat_minor": 2
}
