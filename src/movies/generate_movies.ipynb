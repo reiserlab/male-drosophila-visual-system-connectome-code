{
 "cells": [
  {
   "cell_type": "code",
   "execution_count": null,
   "metadata": {},
   "outputs": [],
   "source": [
    "import sys\n",
    "from pathlib import Path\n",
    "\n",
    "import pandas as pd\n",
    "\n",
    "from dotenv import load_dotenv, find_dotenv\n",
    "load_dotenv()\n",
    "PROJECT_ROOT = Path(find_dotenv()).parent\n",
    "sys.path.append(str(PROJECT_ROOT.joinpath('src')))\n",
    "print(f\"Project root directory: {PROJECT_ROOT}\")\n",
    "\n",
    "from queries.completeness import fetch_ol_types\n",
    "from utils.neuron_bag import NeuronBag\n",
    "from utils.movie_maker import create_template_filename, generate_movie_json\n",
    "\n",
    "from utils import olc_client\n",
    "\n",
    "c = olc_client.connect(verbose=True)"
   ]
  },
  {
   "cell_type": "code",
   "execution_count": null,
   "metadata": {
    "lines_to_next_cell": 2
   },
   "outputs": [],
   "source": [
    "# pandas dataframe generated from @aljoschanern's list of optic lobe intrinsic neurons\n",
    "\n",
    "ol_cell_types = fetch_ol_types()\n",
    "ol_cell_types['Movie_Template'] = None\n",
    "ol_intrinsic_types = pd.read_csv(PROJECT_ROOT / \"params\" / \"OL_intrinsic_groups_072623_v1.csv\")\n",
    "movie_template_list = ol_cell_types.merge(ol_intrinsic_types, on='type')"
   ]
  },
  {
   "cell_type": "code",
   "execution_count": null,
   "metadata": {},
   "outputs": [],
   "source": [
    "movie_template_list['Movie_Template'] = movie_template_list.apply(create_template_filename, axis=1)"
   ]
  },
  {
   "cell_type": "markdown",
   "metadata": {},
   "source": [
    "## Fill and save the template"
   ]
  },
  {
   "cell_type": "code",
   "execution_count": null,
   "metadata": {},
   "outputs": [],
   "source": [
    "assigned_neurontypes = movie_template_list[movie_template_list['Movie_Template'].notna()]\n",
    "\n",
    "for idx, row in assigned_neurontypes.iterrows():\n",
    "    # fetch the bodyIds sorted by distance to a column\n",
    "    a_bag = NeuronBag(cell_type=row['type'])\n",
    "    a_bag.sort_by_distance_to_hex(\n",
    "        neuropil=\"ME(R)\"\n",
    "      , hex1_id=18\n",
    "      , hex2_id=18)\n",
    "    sorted_body_ids = a_bag.get_body_ids(a_bag.size)\n",
    "\n",
    "    generate_movie_json(\n",
    "        neuron_type=row['type']\n",
    "      , sorted_body_ids=sorted_body_ids\n",
    "      , template = row['Movie_Template']\n",
    "    )\n",
    "    print(f\"Json generation done for {row['type']}\")"
   ]
  },
  {
   "cell_type": "code",
   "execution_count": null,
   "metadata": {},
   "outputs": [],
   "source": [
    "movie_template_list.to_csv(PROJECT_ROOT / \"logs\" / 'template_list_for_movies.csv', index=False)"
   ]
  }
 ],
 "metadata": {
  "kernelspec": {
   "display_name": "OL-Connectome",
   "language": "python",
   "name": "python3"
  },
  "language_info": {
   "codemirror_mode": {
    "name": "ipython",
    "version": 3
   },
   "file_extension": ".py",
   "mimetype": "text/x-python",
   "name": "python",
   "nbconvert_exporter": "python",
   "pygments_lexer": "ipython3",
   "version": "3.11.6"
  }
 },
 "nbformat": 4,
 "nbformat_minor": 2
}
