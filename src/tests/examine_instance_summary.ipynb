{
 "cells": [
  {
   "cell_type": "markdown",
   "metadata": {},
   "source": [
    "# InstanceSummary\n",
    "\n",
    "The class InstanceSummary provides an interface to the information we show in the Cell Type Catalog summary plots.\n",
    "\n",
    "The class might be useful for other applications and here we explain how to access the data."
   ]
  },
  {
   "cell_type": "code",
   "execution_count": null,
   "metadata": {},
   "outputs": [],
   "source": [
    "%load_ext autoreload\n",
    "%autoreload 2\n",
    "from pathlib import Path\n",
    "import sys\n",
    "from dotenv import load_dotenv, find_dotenv\n",
    "load_dotenv()\n",
    "PROJECT_ROOT = Path(find_dotenv()).parent\n",
    "sys.path.append(str(PROJECT_ROOT.joinpath('src')))\n",
    "print(f\"Project root directory: {PROJECT_ROOT}\")"
   ]
  },
  {
   "cell_type": "code",
   "execution_count": null,
   "metadata": {},
   "outputs": [],
   "source": [
    "%autoreload 2\n",
    "from neuprint import NeuronCriteria as NC\n",
    "\n",
    "import navis\n",
    "import navis.interfaces.neuprint as neu\n",
    "\n",
    "from utils import olc_client\n",
    "\n",
    "c = olc_client.connect(verbose=True)"
   ]
  },
  {
   "cell_type": "markdown",
   "metadata": {},
   "source": [
    "`InstanceSummary` is initialized with the name of an instance. It doesn't do any checking, so make sure the instance exists.\n"
   ]
  },
  {
   "cell_type": "code",
   "execution_count": null,
   "metadata": {},
   "outputs": [],
   "source": [
    "%autoreload 2\n",
    "\n",
    "from utils.instance_summary import InstanceSummary\n",
    "\n",
    "insum = InstanceSummary('Mi1_R', connection_cutoff=None, per_cell_cutoff=1.0)\n"
   ]
  },
  {
   "cell_type": "markdown",
   "metadata": {},
   "source": [
    "Basic descriptions of the instance are available, including a cell count:"
   ]
  },
  {
   "cell_type": "code",
   "execution_count": null,
   "metadata": {},
   "outputs": [],
   "source": [
    "\n",
    "print(f\"Type: {insum.type_name}\")\n",
    "print(f\"Instance: {insum.instance_name}\")\n",
    "\n",
    "print(f\"Number of cells: {insum.count}\")\n",
    "\n",
    "\n",
    "print(f\"is this a bilateral type: {insum.is_bilateral}\")\n",
    "\n",
    "print(f\"or part of the r-dominant set: {insum.is_r_dominant}\")"
   ]
  },
  {
   "cell_type": "markdown",
   "metadata": {},
   "source": [
    "The consensus neuro transmitter (see methods section) is available, also in an abbreviated spelling."
   ]
  },
  {
   "cell_type": "code",
   "execution_count": null,
   "metadata": {},
   "outputs": [],
   "source": [
    "\n",
    "print(f\"Consensus neurotransmitter: {insum.consensus_neurotransmitter}\")\n",
    "print(f\"Consensus NT: {insum.consensus_nt}\")"
   ]
  },
  {
   "cell_type": "markdown",
   "metadata": {},
   "source": [
    "Get the top 5 connecting upstream and downstream instance names:"
   ]
  },
  {
   "cell_type": "code",
   "execution_count": null,
   "metadata": {},
   "outputs": [],
   "source": [
    "\n",
    "\n",
    "print(f\"Top 5 Upstream: {insum.top5_upstream}\")\n",
    "\n",
    "print(f\"Top 5 Downstream: {insum.top5_downstream}\")\n"
   ]
  },
  {
   "cell_type": "markdown",
   "metadata": {},
   "source": [
    "Get all synapses and their depth"
   ]
  },
  {
   "cell_type": "code",
   "execution_count": null,
   "metadata": {},
   "outputs": [],
   "source": [
    "\n",
    "print(f\"columns: {insum.columns}\")\n"
   ]
  },
  {
   "cell_type": "markdown",
   "metadata": {},
   "source": [
    "Retrieve the synapses and their depth for each cell."
   ]
  },
  {
   "cell_type": "code",
   "execution_count": null,
   "metadata": {},
   "outputs": [],
   "source": [
    "\n",
    "print(f\"synapses: {insum.synapses}\")\n",
    "\n"
   ]
  },
  {
   "cell_type": "markdown",
   "metadata": {},
   "source": [
    "Get the column innervation"
   ]
  },
  {
   "cell_type": "code",
   "execution_count": null,
   "metadata": {},
   "outputs": [],
   "source": [
    "\n",
    "print(f\"Innervation: {insum.innervation}\")\n"
   ]
  },
  {
   "cell_type": "markdown",
   "metadata": {},
   "source": [
    "Simple examples for innervation plots"
   ]
  },
  {
   "cell_type": "code",
   "execution_count": null,
   "metadata": {},
   "outputs": [],
   "source": [
    "# fig = go.Figure()\n",
    "import plotly.graph_objects as go\n",
    "import scipy\n",
    "\n",
    "\n",
    "for roi in ['ME(R)', 'LO(R)', 'LOP(R)']:\n",
    "\n",
    "    inn = insum.innervation[insum.innervation['roi']==roi]\n",
    "    fig = go.Figure(\n",
    "        data =go.Scatter(\n",
    "            x=inn['depth']\n",
    "          , y=scipy.signal.savgol_filter(inn['col_innervation'], 5, 1, mode='constant')\n",
    "        #   , line={'shape':'spline',  'smoothing': 1.3}\n",
    "         \n",
    "        )\n",
    "        \n",
    "      \n",
    "    )\n",
    "    fig.update_layout(title=roi)\n",
    "    fig.show()"
   ]
  },
  {
   "cell_type": "code",
   "execution_count": null,
   "metadata": {},
   "outputs": [],
   "source": []
  }
 ],
 "metadata": {
  "kernelspec": {
   "display_name": ".venv",
   "language": "python",
   "name": "python3"
  },
  "language_info": {
   "codemirror_mode": {
    "name": "ipython",
    "version": 3
   },
   "file_extension": ".py",
   "mimetype": "text/x-python",
   "name": "python",
   "nbconvert_exporter": "python",
   "pygments_lexer": "ipython3",
   "version": "3.11.8"
  }
 },
 "nbformat": 4,
 "nbformat_minor": 2
}
