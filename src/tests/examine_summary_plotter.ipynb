{
 "cells": [
  {
   "cell_type": "code",
   "execution_count": null,
   "metadata": {},
   "outputs": [],
   "source": [
    "%load_ext autoreload\n",
    "%autoreload 2\n",
    "from pathlib import Path\n",
    "import sys\n",
    "from dotenv import load_dotenv, find_dotenv\n",
    "load_dotenv()\n",
    "PROJECT_ROOT = Path(find_dotenv()).parent\n",
    "sys.path.append(str(PROJECT_ROOT.joinpath('src')))\n",
    "print(f\"Project root directory: {PROJECT_ROOT}\")\n",
    "\n",
    "import fitz\n",
    "\n",
    "from utils import olc_client\n",
    "\n",
    "c = olc_client.connect(verbose=True)"
   ]
  },
  {
   "cell_type": "code",
   "execution_count": null,
   "metadata": {},
   "outputs": [],
   "source": [
    "%autoreload 2\n",
    "\n",
    "from utils.summary_plotter import SummaryPlotter\n",
    "from utils.instance_summary import InstanceSummary\n",
    "\n",
    "for ins in [1]:\n",
    "    print(ins)\n",
    "    in_list = []\n",
    "    # for instance in ['LPi12_R', 'LPi14_R']:\n",
    "    toc = []\n",
    "    for idx, instance in enumerate(['5-HTPMPV03_R', 'LoVP88_R', 'LoVP100_R', 'LoVP24_R', 'LoVP30_R', 'MeVP55_R', 'MeVP58_R'], start=1):\n",
    "        in_list.append(InstanceSummary(instance))\n",
    "        toc.append([1, instance, 1, (11*96/35)*(idx+1)])\n",
    "\n",
    "\n",
    "\n",
    "    sp = SummaryPlotter(\n",
    "        instance_list=in_list\n",
    "      , figure_title='Test output from \"examine SummaryPlotter\"'\n",
    "    #   , col_synapses = {\n",
    "    #             'ME(R)':.15\n",
    "    #           , 'LO(R)':.075\n",
    "    #           , 'LOP(R)':.05\n",
    "    #         }\n",
    "    )\n",
    "    fig = sp.plot()\n",
    "\n",
    "    mdoc = fitz.Document(\n",
    "        stream=fig.to_image(\n",
    "            format='pdf'\n",
    "          , width=8.5*96\n",
    "          , height=11*96\n",
    "        )\n",
    "      , filetype='pdf'\n",
    "    )\n",
    "    mdoc.set_toc(toc)\n",
    "    mdoc.save(PROJECT_ROOT / \"cache\" / \"fig_summary\" / \"test.pdf\")\n",
    "    "
   ]
  }
 ],
 "metadata": {
  "kernelspec": {
   "display_name": ".venv",
   "language": "python",
   "name": "python3"
  },
  "language_info": {
   "codemirror_mode": {
    "name": "ipython",
    "version": 3
   },
   "file_extension": ".py",
   "mimetype": "text/x-python",
   "name": "python",
   "nbconvert_exporter": "python",
   "pygments_lexer": "ipython3",
   "version": "3.11.8"
  }
 },
 "nbformat": 4,
 "nbformat_minor": 2
}
