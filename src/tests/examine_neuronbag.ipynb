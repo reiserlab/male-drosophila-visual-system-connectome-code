{
 "cells": [
  {
   "cell_type": "markdown",
   "metadata": {},
   "source": [
    "# Helper script to see how the NeuronBag and OLTypes work\n",
    "\n"
   ]
  },
  {
   "cell_type": "code",
   "execution_count": null,
   "metadata": {},
   "outputs": [],
   "source": [
    "%load_ext autoreload\n",
    "from pathlib import Path\n",
    "import sys\n",
    "from dotenv import load_dotenv, find_dotenv\n",
    "load_dotenv()\n",
    "PROJECT_ROOT = Path(find_dotenv()).parent\n",
    "sys.path.append(str(PROJECT_ROOT.joinpath('src')))\n",
    "print(f\"Project root directory: {PROJECT_ROOT}\")\n",
    "from utils import olc_client\n",
    "c = olc_client.connect()"
   ]
  },
  {
   "cell_type": "markdown",
   "metadata": {},
   "source": [
    "# Get the star for a cell type\n",
    "\n",
    "For the example C2, this should currently be 78453"
   ]
  },
  {
   "cell_type": "code",
   "execution_count": null,
   "metadata": {},
   "outputs": [],
   "source": [
    "%autoreload 2\n",
    "\n",
    "from utils.ol_types import OLTypes\n",
    "olt = OLTypes()\n",
    "\n",
    "all = olt.get_neuron_list(side='both')\n",
    "display(all.sample(frac=1).head(5))\n",
    "\n",
    "r_dom = olt.get_neuron_list()\n",
    "display(f\"The dataset has {len(all)} named instances, {len(r_dom)} of which have dominant features in the right hemisphere.\")"
   ]
  },
  {
   "cell_type": "markdown",
   "metadata": {},
   "source": [
    "`OLTypes` is an interface to the whole dataset and allows you to retrieve all neurons from a group:"
   ]
  },
  {
   "cell_type": "code",
   "execution_count": null,
   "metadata": {},
   "outputs": [],
   "source": [
    "olt.is_bilateral('TmY5a')"
   ]
  },
  {
   "cell_type": "code",
   "execution_count": null,
   "metadata": {},
   "outputs": [],
   "source": [
    "ol_all = olt.get_neuron_list(primary_classification='OL', side='both')\n",
    "\n",
    "ol_combined = ol_intrinsic = olt.get_neuron_list(primary_classification=['OL_intrinsic', 'OL_connecting'])\n",
    "\n",
    "assert len(ol_all)==len(ol_combined), \"something went wrong with the OLTypes\"\n",
    "\n",
    "ol_intrinsic = olt.get_neuron_list(primary_classification='OL_intrinsic', side='both')\n",
    "vpn_all = olt.get_neuron_list(primary_classification='OL_connecting', side='both')\n",
    "\n",
    "non_ol = olt.get_neuron_list(primary_classification='non-OL', side='both')\n",
    "\n",
    "vcn_vpn_other = olt.get_neuron_list(primary_classification=['VCN', 'VPN', 'other'], side='both')\n",
    "\n",
    "assert len(non_ol)==len(vcn_vpn_other), \"something went wrong inside OLTypes\"\n",
    "\n",
    "display(f\"random 5/{len(ol_all)} OL neuron types\")\n",
    "display(ol_all.sample(frac=1).head(5))\n",
    "display(f\"random 5/{len(ol_intrinsic)} OL intrinsic neuron types\")\n",
    "display(ol_intrinsic.sample(frac=1).head(5))\n",
    "display(f\"random 5/{len(vpn_all)} VPN neuron types\")\n",
    "display(vpn_all.sample(frac=1).head(5))\n",
    "\n",
    "display(f\"random 5/{len(non_ol)} non-OL neuron types\")\n",
    "display(non_ol.sample(frac=1).head(5))"
   ]
  },
  {
   "cell_type": "code",
   "execution_count": null,
   "metadata": {},
   "outputs": [],
   "source": [
    "olt.get_neuron_list(primary_classification=['OL', 'non-OL'], side='both')"
   ]
  },
  {
   "cell_type": "code",
   "execution_count": null,
   "metadata": {},
   "outputs": [],
   "source": [
    "olt.get_star('C2')"
   ]
  },
  {
   "cell_type": "markdown",
   "metadata": {},
   "source": [
    "# Create a C2 NeuronBag\n",
    "\n",
    "… and list all the body IDs"
   ]
  },
  {
   "cell_type": "code",
   "execution_count": null,
   "metadata": {},
   "outputs": [],
   "source": [
    "from utils.neuron_bag import NeuronBag\n",
    "c2bag = NeuronBag('C2')\n",
    "c2bag.get_body_ids()"
   ]
  },
  {
   "cell_type": "markdown",
   "metadata": {},
   "source": [
    "# Sort by distance to star\n",
    "\n",
    "Without having to specify what the star is, this function orders the NeuronBag by their distance to the star."
   ]
  },
  {
   "cell_type": "code",
   "execution_count": null,
   "metadata": {},
   "outputs": [],
   "source": [
    "c2bag.sort_by_distance_to_star()\n",
    "c2bag.get_body_ids()"
   ]
  },
  {
   "cell_type": "markdown",
   "metadata": {},
   "source": [
    "# Get Star from the bag\n",
    "\n",
    "After sorting, the star should be the first item in the NeuronBag."
   ]
  },
  {
   "cell_type": "code",
   "execution_count": null,
   "metadata": {},
   "outputs": [],
   "source": [
    "c2bag.first_item"
   ]
  },
  {
   "cell_type": "code",
   "execution_count": null,
   "metadata": {},
   "outputs": [],
   "source": []
  }
 ],
 "metadata": {
  "kernelspec": {
   "display_name": ".venv",
   "language": "python",
   "name": "python3"
  },
  "language_info": {
   "codemirror_mode": {
    "name": "ipython",
    "version": 3
   },
   "file_extension": ".py",
   "mimetype": "text/x-python",
   "name": "python",
   "nbconvert_exporter": "python",
   "pygments_lexer": "ipython3",
   "version": "3.11.7"
  }
 },
 "nbformat": 4,
 "nbformat_minor": 2
}
