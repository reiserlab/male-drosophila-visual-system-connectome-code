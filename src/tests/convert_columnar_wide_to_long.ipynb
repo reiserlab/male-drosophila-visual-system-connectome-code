{
 "cells": [
  {
   "cell_type": "markdown",
   "metadata": {},
   "source": [
    "# Create file for DB upload\n",
    "\n",
    "This script converts the data from `hex_hex` to a format that is better suited for the database import.\n",
    "\n",
    "`hex_hex` contains the manual assignment of columnar neurons to their base column.\n",
    "\n",
    "The result is stored in `results/exchange/ME_assigned_columns.csv`"
   ]
  },
  {
   "cell_type": "code",
   "execution_count": null,
   "metadata": {},
   "outputs": [],
   "source": [
    "from pathlib import Path\n",
    "import sys\n",
    "from dotenv import load_dotenv, find_dotenv\n",
    "load_dotenv()\n",
    "PROJECT_ROOT = Path(find_dotenv()).parent\n",
    "sys.path.append(str(PROJECT_ROOT.joinpath(\"src\")))\n",
    "print(f\"Project root directory: {PROJECT_ROOT}\")\n",
    "\n",
    "from utils import olc_client\n",
    "c = olc_client.connect(verbose=True)"
   ]
  },
  {
   "cell_type": "code",
   "execution_count": null,
   "metadata": {},
   "outputs": [],
   "source": [
    "from utils.hex_hex import get_hex_df"
   ]
  },
  {
   "cell_type": "code",
   "execution_count": null,
   "metadata": {},
   "outputs": [],
   "source": [
    "all_columns = get_hex_df()\n",
    "\n",
    "long_col = all_columns\\\n",
    "    .melt(id_vars=['hex1_id', 'hex2_id'], var_name='neuron_type', value_name='bodyId')\\\n",
    "    .dropna()\n",
    "\n",
    "upload_format = long_col[~long_col['bodyId'].duplicated()]\\\n",
    "    .set_index(['bodyId', 'neuron_type'])\\\n",
    "    .sort_values(by=['hex1_id', 'hex2_id'])\\\n",
    "    .rename({'hex1_id': 'assigned_hex1', 'hex2_id': 'assigned_hex2'}, axis=1)\n"
   ]
  },
  {
   "cell_type": "code",
   "execution_count": null,
   "metadata": {},
   "outputs": [],
   "source": [
    "data_path = Path(find_dotenv()).parent / 'results' / 'exchange'\n",
    "data_path.mkdir(exist_ok=True)\n",
    "upload_format.to_csv(data_path / 'ME_assigned_columns.csv')"
   ]
  },
  {
   "cell_type": "code",
   "execution_count": null,
   "metadata": {},
   "outputs": [],
   "source": []
  }
 ],
 "metadata": {
  "kernelspec": {
   "display_name": ".venv",
   "language": "python",
   "name": "python3"
  },
  "language_info": {
   "codemirror_mode": {
    "name": "ipython",
    "version": 3
   },
   "file_extension": ".py",
   "mimetype": "text/x-python",
   "name": "python",
   "nbconvert_exporter": "python",
   "pygments_lexer": "ipython3",
   "version": "3.11.6"
  }
 },
 "nbformat": 4,
 "nbformat_minor": 2
}
