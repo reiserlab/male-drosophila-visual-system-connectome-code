{
 "cells": [
  {
   "cell_type": "code",
   "execution_count": null,
   "metadata": {},
   "outputs": [],
   "source": [
    "%load_ext autoreload\n",
    "from pathlib import Path\n",
    "import sys\n",
    "import pandas as pd\n",
    "from dotenv import load_dotenv, find_dotenv\n",
    "load_dotenv()\n",
    "PROJECT_ROOT = Path(find_dotenv()).parent\n",
    "sys.path.append(str(PROJECT_ROOT.joinpath('src')))\n",
    "print(f\"Project root directory: {PROJECT_ROOT}\")\n",
    "from utils import olc_client\n",
    "from utils.ol_neuron import OLNeuron\n",
    "\n",
    "c = olc_client.connect()\n"
   ]
  },
  {
   "cell_type": "code",
   "execution_count": null,
   "metadata": {},
   "outputs": [],
   "source": [
    "# Tm5a: 16354\n",
    "oln = OLNeuron(86459)\n",
    "oln.get_hex_id()"
   ]
  },
  {
   "cell_type": "code",
   "execution_count": null,
   "metadata": {},
   "outputs": [],
   "source": [
    "oln.me_hex_id"
   ]
  },
  {
   "cell_type": "code",
   "execution_count": null,
   "metadata": {},
   "outputs": [],
   "source": [
    "%autoreload 2\n",
    "from utils.neuron_bag import NeuronBag\n",
    "bag = NeuronBag('Tm20')\n",
    "bag.sort_by_distance_to_hex(neuropil='ME(R)', hex1_id=18, hex2_id=18)"
   ]
  },
  {
   "cell_type": "code",
   "execution_count": null,
   "metadata": {},
   "outputs": [],
   "source": [
    "ret = {}\n",
    "\n",
    "# cell_types = ['Tm5a', 'Tm5b', 'Tm29', 'L2']\n",
    "cell_types = ['L1',\t'L2', 'L3', 'L5', 'Mi1', 'Mi4', 'Mi9', 'C2', 'C3', 'Tm1', 'Tm2', 'Tm4', 'Tm9', 'Tm20', 'T1']\n",
    "\n",
    "for ct in cell_types:\n",
    "    bag = NeuronBag(ct)\n",
    "    for bid in bag.get_body_ids(bag.size):\n",
    "        oln = OLNeuron(bid)\n",
    "        ret[bid] = []\n",
    "        for idx, method in enumerate(['synapse_count', 'assigned', 'centroid']):\n",
    "            for _, res  in oln.get_hex_id(method=method).iterrows():\n",
    "                ret[bid].append({\n",
    "                    'method': method\n",
    "                  , 'roi': res['ROI']\n",
    "                  , 'type': ct\n",
    "                  , 'hex1': res['hex1_id']\n",
    "                  , 'hex2': res['hex2_id']\n",
    "                })\n"
   ]
  },
  {
   "cell_type": "code",
   "execution_count": null,
   "metadata": {},
   "outputs": [],
   "source": [
    "all_df = pd.DataFrame()\n",
    "\n",
    "for k,v in ret.items():\n",
    "    df = pd.DataFrame(v)\n",
    "    df['body_id'] = k\n",
    "    all_df = pd.concat([all_df, df])"
   ]
  },
  {
   "cell_type": "code",
   "execution_count": null,
   "metadata": {},
   "outputs": [],
   "source": [
    "tbl = all2.pivot(index=['body_id', 'roi', 'type'], columns='method', values=['hex1', 'hex2'])"
   ]
  },
  {
   "cell_type": "code",
   "execution_count": null,
   "metadata": {},
   "outputs": [],
   "source": [
    "# tbl.to_excel('issue_422.xlsx')\n",
    "tbl.to_excel('columnar.xlsx')"
   ]
  },
  {
   "cell_type": "code",
   "execution_count": null,
   "metadata": {},
   "outputs": [],
   "source": [
    "all2 = all_df[~all_df[['method', 'roi', 'body_id']].duplicated()]"
   ]
  },
  {
   "cell_type": "code",
   "execution_count": null,
   "metadata": {},
   "outputs": [],
   "source": [
    "# centroid: 86459, 132357, 90380, 138036"
   ]
  }
 ],
 "metadata": {
  "kernelspec": {
   "display_name": ".venv",
   "language": "python",
   "name": "python3"
  },
  "language_info": {
   "codemirror_mode": {
    "name": "ipython",
    "version": 3
   },
   "file_extension": ".py",
   "mimetype": "text/x-python",
   "name": "python",
   "nbconvert_exporter": "python",
   "pygments_lexer": "ipython3",
   "version": "3.11.6"
  }
 },
 "nbformat": 4,
 "nbformat_minor": 2
}
