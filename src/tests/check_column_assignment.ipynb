{
 "cells": [
  {
   "cell_type": "markdown",
   "metadata": {},
   "source": [
    "# Check neuron types in hex_hex\n",
    "\n",
    "This script checks that all body IDs from the `hex_hex` data set have the same neuron type assigned in the neuprint database.\n",
    "\n",
    "This used to be an issue in the past, this automatic check verifies correctness."
   ]
  },
  {
   "cell_type": "code",
   "execution_count": null,
   "metadata": {},
   "outputs": [],
   "source": [
    "from pathlib import Path\n",
    "import sys\n",
    "from dotenv import load_dotenv, find_dotenv\n",
    "load_dotenv()\n",
    "PROJECT_ROOT = Path(find_dotenv()).parent\n",
    "sys.path.append(str(PROJECT_ROOT.joinpath(\"src\")))\n",
    "print(f\"Project root directory: {PROJECT_ROOT}\")\n",
    "\n",
    "from utils import olc_client\n",
    "c = olc_client.connect(verbose=True)"
   ]
  },
  {
   "cell_type": "code",
   "execution_count": null,
   "metadata": {},
   "outputs": [],
   "source": [
    "from utils.hex_hex import get_hex_df\n",
    "from utils.ol_neuron import OLNeuron\n",
    "import pandas as pd"
   ]
  },
  {
   "cell_type": "code",
   "execution_count": null,
   "metadata": {},
   "outputs": [],
   "source": [
    "all_columns = get_hex_df()"
   ]
  },
  {
   "cell_type": "code",
   "execution_count": null,
   "metadata": {},
   "outputs": [],
   "source": [
    "# TODO(@loeschef): Speed up, avoid for loops\n",
    "\n",
    "for idx, row in all_columns.iterrows():\n",
    "    hx1 = row['hex1_id']\n",
    "    hx2 = row['hex2_id']\n",
    "    for n_name, n_bid in row.items():\n",
    "        if n_name in ['hex1_id', 'hex2_id']:\n",
    "            continue\n",
    "        if n_bid is pd.NA:\n",
    "            continue\n",
    "        neuron = OLNeuron(n_bid)\n",
    "        assert neuron.get_type() == n_name, f\"Type for {n_bid} is {neuron.get_type()}, while it is documented as {n_name}\"\n"
   ]
  },
  {
   "cell_type": "code",
   "execution_count": null,
   "metadata": {},
   "outputs": [],
   "source": []
  }
 ],
 "metadata": {
  "kernelspec": {
   "display_name": ".venv",
   "language": "python",
   "name": "python3"
  },
  "language_info": {
   "codemirror_mode": {
    "name": "ipython",
    "version": 3
   },
   "file_extension": ".py",
   "mimetype": "text/x-python",
   "name": "python",
   "nbconvert_exporter": "python",
   "pygments_lexer": "ipython3",
   "version": "3.11.6"
  }
 },
 "nbformat": 4,
 "nbformat_minor": 2
}
