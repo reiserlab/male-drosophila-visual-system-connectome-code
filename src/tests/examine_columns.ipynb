{
 "cells": [
  {
   "cell_type": "markdown",
   "metadata": {},
   "source": [
    "# Motivation\n",
    "\n",
    "This notebook aims to help with the coverage / completion analysis. During the meetings in the week Jan/15 to Jan/19, we learned that the current analysis was based on the summation of pre and postsynaptic sites.\n",
    "\n",
    "To ensure data comparability, I am starting to compare instances of the current data with that stored in the database."
   ]
  },
  {
   "cell_type": "code",
   "execution_count": null,
   "metadata": {},
   "outputs": [],
   "source": [
    "\"\"\"\n",
    "This cell does the initial project setup.\n",
    "If you start a new script or notebook, make sure to copy & paste this part.\n",
    "\n",
    "A script with this code uses the location of the `.env` file as the anchor for\n",
    "the whole project (= PROJECT_ROOT). Afterwards, code inside the `src` directory\n",
    "are available for import.\n",
    "\"\"\"\n",
    "from pathlib import Path\n",
    "import sys\n",
    "import os\n",
    "import pandas as pd\n",
    "pd.options.plotting.backend = \"plotly\"\n",
    "\n",
    "from dotenv import load_dotenv, find_dotenv\n",
    "load_dotenv()\n",
    "\n",
    "PROJECT_ROOT = Path(find_dotenv()).parent\n",
    "sys.path.append(str(PROJECT_ROOT.joinpath('src')))\n",
    "print(f\"Project root directory: {PROJECT_ROOT}\")\n",
    "\n",
    "from utils.column_features_functions import\\\n",
    "  find_cmax_across_all_neuropils\\\n",
    "  , get_all_cell_types\\\n",
    "  , cache_syn_df\\\n",
    "  , make_comb_quant_csv\\\n",
    "  , plot_coverage_completeness_subplot\\\n",
    "  , cov_compl_calc\n",
    "# from utils.ol_types import OLTypes\n",
    "\n",
    "from utils import olc_client\n",
    "c = olc_client.connect(verbose=True)\n"
   ]
  },
  {
   "cell_type": "markdown",
   "metadata": {},
   "source": [
    "## Code from cov_compl_with_fragments\n",
    "\n",
    "I am loading data for the (semi-randomly selected) type C2. "
   ]
  },
  {
   "cell_type": "code",
   "execution_count": null,
   "metadata": {},
   "outputs": [],
   "source": [
    "cell_type = 'C2'\n",
    "\n",
    "cache_syn_df(cell_type, synapse_type='post', rois=['ME(R)', 'LO(R)', 'LOP(R)'])\n",
    "max_synapses_per_column, max_cells_per_column = find_cmax_across_all_neuropils(cell_type, thresh_val=0.98)\n"
   ]
  },
  {
   "cell_type": "code",
   "execution_count": null,
   "metadata": {},
   "outputs": [],
   "source": [
    "display(f\"maximum number of synapses per column: {max_synapses_per_column} and maxiumum number of cells per column: {max_cells_per_column}\")\n"
   ]
  },
  {
   "cell_type": "markdown",
   "metadata": {},
   "source": [
    "The documentation for `find_cmax_across_all_neuropils()` specifies: \"For a particular cell type, find the maximum number of cells and synapses per column in ME(R), LO(R) and LOP(R) and output the maximum of these values to be used to set 'cmax' when plotting the spatial coverage heatmaps.\"\n",
    "\n",
    "For celltype C2, the obtained values are \"11\" for the number of cells and \"246\" for the number of synapses in a single column."
   ]
  },
  {
   "cell_type": "markdown",
   "metadata": {},
   "source": [
    "# Neurons per column\n",
    "\n",
    "In this section, I retrieve data directly from the neuprint database.\n",
    "\n",
    "## Neuron level data from the database\n",
    "\n",
    "Here, I directly access the neuron level data in neuprint. The following query finds all neurons (C2 as an example) that innervate a column in one of the three primary OL neuropils.\n",
    "\n",
    "The method how neurons are assigned to columns is not in our hand and is done by the FlyEM team. I seem to remember that the location of presynaptic sites play a role in that process.\n",
    "\n",
    "The lines starting with `//` are comments where I try to explain what the query does."
   ]
  },
  {
   "cell_type": "code",
   "execution_count": null,
   "metadata": {},
   "outputs": [],
   "source": [
    "cql = f\"\"\"\n",
    "// Get the Neuron of the type \"cell_type\"\n",
    "UNWIND ['ME_R_col', 'LO_R_col', 'LOP_R_co'] as roi\n",
    "MATCH (n:Neuron)\n",
    "WHERE n.type='{cell_type}'\n",
    "// Find all assignments to a \"ME_R_col\" (column in medulla)\n",
    "UNWIND keys(n) AS syn_keys\n",
    "WITH n, roi,syn_keys, left(syn_keys, 8) in [roi] AS is_in_OLR\n",
    "WHERE is_in_OLR\n",
    "// Return the column, an aggregated count of neurons per column and their body IDs\n",
    "RETURN \n",
    "    left(roi,3)\n",
    "  , right(syn_keys, 5) as column\n",
    "  , count(distinct n.bodyId) as cells_per_column\n",
    "  , collect(distinct n.bodyId) as cell_body_ids\n",
    "ORDER BY cells_per_column DESC\n",
    "\"\"\"\n",
    "c.fetch_custom(cql)"
   ]
  },
  {
   "cell_type": "markdown",
   "metadata": {},
   "source": [
    "Looking at the results, I see plenty of medula columns that have >11 C2s. Based on the `cells_per_column`, the maximum number of C2 per columns is rather 19 than 11.\n",
    "\n",
    "But maybe the neuron-level data is to coarse and the method of assignment is outside of our code basis and unknown in its details. The next steps utilize the synapse level data.\n",
    "\n",
    "\n",
    "## Synapse level data from the data base\n",
    "\n",
    "Here I find the location of all C2 synapses. I then assign the column of a synapse to the neuron the synaptic site is part of. Based on that, I count the neurons per column."
   ]
  },
  {
   "cell_type": "code",
   "execution_count": null,
   "metadata": {},
   "outputs": [],
   "source": [
    "cql = f\"\"\"\n",
    "// find synapses for neuron \"n\"\n",
    "UNWIND ['ME(R)', 'LO(R)', 'LOP(R)'] as roi\n",
    "MATCH \n",
    "    (n:Neuron)-[:Contains]->(nss:SynapseSet)-[:Contains]->(ns:Synapse)\n",
    "// and \"n\" is of cell_type. Here I look only inside ME(R)\n",
    "WHERE n.type='{cell_type}' AND ns[roi] IS NOT NULL and ns.olHex1 IS NOT NULL and ns.olHex2 IS NOT NULL \n",
    "WITH DISTINCT n,ns, toString(ns.olHex1)+\"_\"+toString(ns.olHex2) as column, roi\n",
    "// Then I return the column, count of \"n\" neurons, their body IDs\n",
    "RETURN \n",
    "    distinct column\n",
    "  , roi\n",
    "  , count(distinct n.bodyId) as cells_per_column\n",
    "  , count(distinct ns) as synapses_per_column\n",
    "  , collect(distinct n.bodyId) as cell_body_ids\n",
    "order by cells_per_column desc\n",
    "\"\"\"\n",
    "c.fetch_custom(cql)"
   ]
  },
  {
   "cell_type": "markdown",
   "metadata": {},
   "source": [
    "This looks very similar to the neuron-level data, but this time we know how the assignment is done. If necessary, we can look at each individual synapse and the partners to verify the correctness.\n",
    "\n",
    "\n",
    "### Connection based\n",
    "\n",
    "The previous query considered all synaptic sites of neurons.\n",
    "\n",
    "In the next query I find the synapses where C2 receives input from another named neuron. Again, I find the location of that synapse and assign the location of the synapse to the neuron."
   ]
  },
  {
   "cell_type": "code",
   "execution_count": null,
   "metadata": {},
   "outputs": [],
   "source": [
    "cql = f\"\"\"\n",
    "// Iterate through the 3 main ROIs\n",
    "UNWIND ['ME(R)', 'LO(R)', 'LOP(R)'] as roi\n",
    "// Find neurons of cell_type with synapses in a column\n",
    "MATCH \n",
    "    (n:Neuron)-[:Contains]->(nss:SynapseSet)-[:Contains]->(ns:Synapse)\n",
    "WHERE n.type='{cell_type}' AND ns[roi] IS NOT NULL and ns.olHex1 IS NOT NULL and ns.olHex2 IS NOT NULL \n",
    "// find synapses where \"n\" receives input from \"m\"\n",
    "AND EXISTS {{\n",
    "    (m:Neuron)-[:Contains]->(mss:SynapseSet)-[:Contains]->(ms:Synapse)-[:SynapsesTo]->(ns)\n",
    "}}\n",
    "WITH DISTINCT n,ns, toString(ns.olHex1)+\"_\"+toString(ns.olHex2) as column, roi\n",
    "// Then I return the column, ROI, count of \"n\" neurons, and their body IDs\n",
    "RETURN \n",
    "    distinct column\n",
    "  , roi\n",
    "  , count(distinct n.bodyId) as cells_per_column\n",
    "  , count(distinct ns) as synapses_per_column\n",
    "  , collect(distinct n.bodyId) as cell_body_ids\n",
    "\n",
    "order by cells_per_column desc\n",
    "\"\"\"\n",
    "con_out = c.fetch_custom(cql)\n",
    "display(con_out)"
   ]
  },
  {
   "cell_type": "markdown",
   "metadata": {},
   "source": [
    "The cells per columns looks very similar to the neuron level data and to the query where I just count the synapses per neuron.\n",
    "\n",
    "Yet, if you look at the synaptic sites per column (`synapses_per_column`), their number decreased. That makes sense, since not all synaptic sites are postsynaptic.\n",
    "\n",
    "If I revert the connection only considering presynaptic sites, I get the following result:"
   ]
  },
  {
   "cell_type": "code",
   "execution_count": null,
   "metadata": {},
   "outputs": [],
   "source": [
    "cql = f\"\"\"\n",
    "// Iterate through the 3 main ROIs\n",
    "UNWIND ['ME(R)', 'LO(R)', 'LOP(R)'] as roi\n",
    "// Find neurons of cell_type with synapses in a column\n",
    "MATCH \n",
    "    (n:Neuron)-[:Contains]->(nss:SynapseSet)-[:Contains]->(ns:Synapse)\n",
    "WHERE n.type='{cell_type}' AND ns[roi] IS NOT NULL and ns.olHex1 IS NOT NULL and ns.olHex2 IS NOT NULL \n",
    "// find synapses where \"n\" provides input for \"m\"\n",
    "AND EXISTS {{\n",
    "    (m:Neuron)-[:Contains]->(mss:SynapseSet)-[:Contains]->(ms:Synapse)<-[:SynapsesTo]-(ns)\n",
    "}}\n",
    "WITH DISTINCT n,ns, toString(ns.olHex1)+\"_\"+toString(ns.olHex2) as column, roi\n",
    "// Then I return the column, ROI, count of \"n\" neurons, and their body IDs\n",
    "RETURN \n",
    "    distinct column\n",
    "  , roi\n",
    "  , count(distinct n.bodyId) as cells_per_column\n",
    "  , count(distinct ns) as synapses_per_column\n",
    "  , collect(distinct n.bodyId) as cell_body_ids\n",
    "\n",
    "order by cells_per_column desc\n",
    "\"\"\"\n",
    "c.fetch_custom(cql)\n"
   ]
  },
  {
   "cell_type": "markdown",
   "metadata": {},
   "source": [
    "Here it looks very different, the maximum number of C2 per column is closer to 7 than to 11. \n",
    "\n",
    "On a side note: Interestingly you can also see, that the number of synapses doesn't seem to correlate well with the number of cells.\n",
    "\n",
    "Let's have a closer look at the synapses.\n",
    "\n",
    "\n",
    "### Synapses across columns\n",
    "\n",
    "Let's have a closer look at the post-synaptic sites of C2 (related to the query 2 up), where the results started like this: `0\t22_28\tME(R)\t19\t120\t[111853, 92935, 118290, …`\n",
    "\n",
    "In this query, I am taking one of the neurons that innervate the columns with the most cells and count its postsynaptic sites per column. I also calculate the neurons percentage for the postsynaptic sites per column."
   ]
  },
  {
   "cell_type": "code",
   "execution_count": null,
   "metadata": {},
   "outputs": [],
   "source": [
    "roi = con_out.loc[0, 'roi']\n",
    "cell_body_id=con_out.loc[0, 'cell_body_ids'][0]\n",
    "\n",
    "cql = f\"\"\"\n",
    "MATCH (n:Neuron)-[:Contains]->(nss:SynapseSet)-[:Contains]->(ns:Synapse)\n",
    "WHERE n.bodyId={cell_body_id} AND ns['{roi}'] IS NOT NULL and exists(ns.olHex1) and exists(ns.olHex2)\n",
    "AND EXISTS {{\n",
    "    (m:Neuron)-[:Contains]->(mss:SynapseSet)-[:Contains]->(ms:Synapse)-[:SynapsesTo]->(ns)\n",
    "}}\n",
    "with n, ns, toString(ns.olHex1)+'_'+toString(ns.olHex2) as col\n",
    "WITH {{bid: n.bodyId, col: col, syn: count(distinct ns)}} as tmp_res, n.bodyId as tmpbid, count(distinct ns) as syn_count\n",
    "WITH collect(tmp_res) as agg_res, sum(syn_count) as total_syn_count\n",
    "UNWIND agg_res as per_col\n",
    "RETURN per_col.col as column, per_col.bid as bodyId, per_col.syn as synapse_count, toFloat(per_col.syn)/total_syn_count as synapse_perc\n",
    "ORDER BY bodyId, synapse_count DESC\n",
    "\"\"\"\n",
    "interest_neuron = c.fetch_custom(cql)\n",
    "display(interest_neuron)"
   ]
  },
  {
   "cell_type": "code",
   "execution_count": null,
   "metadata": {},
   "outputs": [],
   "source": [
    "interest_neuron['synapse_perc']\\\n",
    "    .plot(labels={'index': 'column'})\\\n",
    "    .update_layout(xaxis={'tickvals': interest_neuron.index, 'ticktext': interest_neuron['column']})"
   ]
  },
  {
   "cell_type": "markdown",
   "metadata": {},
   "source": [
    "For a C2, this shows that the selected neuron 111853 has 70% of its synapses in one column (22, 26), 14% in a second (21, 27), 6% in a third (22, 27) and so on… The column of interest (22, 28) has only 1.1% (=1 synapse) for that neuron.\n",
    "\n",
    "So maybe a certain percentage of the synapses should be dropped? So let's have a look at the column with the most cells (22, 28).\n",
    "\n",
    "\n",
    "### Detais for the most innervated column\n",
    "\n",
    "Now I look in more detail at the column of interest (22, 28). Note that the percentages are for the individual neurons, not the column (they will not add up to 100%)."
   ]
  },
  {
   "cell_type": "code",
   "execution_count": null,
   "metadata": {},
   "outputs": [],
   "source": [
    "cell_body_ids = con_out.loc[0, 'cell_body_ids']\n",
    "roi = con_out.loc[0, 'roi']\n",
    "\n",
    "all = pd.DataFrame()\n",
    "for cell_body_id in con_out.loc[0, 'cell_body_ids']:\n",
    "    cql = f\"\"\"\n",
    "    MATCH (n:Neuron)-[:Contains]->(nss:SynapseSet)-[:Contains]->(ns:Synapse)\n",
    "    WHERE n.bodyId={cell_body_id} AND ns['{roi}'] IS NOT NULL and exists(ns.olHex1) and exists(ns.olHex2)\n",
    "    AND EXISTS {{\n",
    "        (m:Neuron)-[:Contains]->(mss:SynapseSet)-[:Contains]->(ms:Synapse)-[:SynapsesTo]->(ns)\n",
    "    }}\n",
    "    with n, ns, toString(ns.olHex1)+'_'+toString(ns.olHex2) as col\n",
    "\n",
    "    WITH {{bid: n.bodyId, col: col, syn: count(distinct ns)}} as tmp_res, n.bodyId as tmpbid, count(distinct ns) as syn_count\n",
    "    WITH collect(tmp_res) as agg_res, sum(syn_count) as total_syn_count\n",
    "    UNWIND agg_res as per_col\n",
    "\n",
    "    RETURN per_col.col as column, per_col.bid as bodyId, per_col.syn as synapse_count, toFloat(per_col.syn)/total_syn_count as synapse_perc\n",
    "\n",
    "    ORDER BY bodyId, synapse_count DESC\n",
    "    \"\"\"\n",
    "    tmp = c.fetch_custom(cql)\n",
    "    all = pd.concat([all, tmp])\n",
    "all = all.reset_index(drop=True)\n",
    "interest_col = all[all['column']==con_out.loc[0, 'column']].sort_values(by='synapse_perc', ascending=False).reset_index(drop=True)\n",
    "interest_col['cum_synapse_count'] = interest_col['synapse_count'].cumsum()\n",
    "display(interest_col)"
   ]
  },
  {
   "cell_type": "markdown",
   "metadata": {},
   "source": [
    "For the example of C2, one neuron (93875) has about 43% of its synapses in that column, two (99181, 109861) have around 10% of their synapses here, and another eight have at least 2% of their synapses in the column of interest.\n",
    "\n",
    "If we excluded all neurons that have only a single synaptic site in the column, this column had 12 neurons. For including 95 percentile, we would get a similar number. If we instead looked at the per-neuron percentage and excluded synapses that represent less than 2% of the neurons known synaptic sites, we would end up at 11. "
   ]
  },
  {
   "cell_type": "code",
   "execution_count": null,
   "metadata": {},
   "outputs": [],
   "source": [
    "interest_col['synapse_perc']\\\n",
    "    .plot(labels={'index': 'body ID', 'value': '% of synapses in column'})\\\n",
    "    .update_layout(xaxis={'tickvals': interest_col.index, 'ticktext': [f\"{a}: {i['bodyId']}\" for a, i in interest_col.iterrows()]})\n"
   ]
  },
  {
   "cell_type": "markdown",
   "metadata": {},
   "source": [
    "Anyway, at this point I can't even replicate the number of cells per column that is used in the coverage(?) plots.\n",
    "\n",
    "# Synapses\n",
    "\n",
    "The following queries are now related to the other number from the initial code, where a maxiumum of 246 synapses were counted per column.\n",
    "\n",
    "Here I use the same query as before, where C2 was the presynaptic partner to a named neuron. This time I sort the results by the number of synapses, not the cell count."
   ]
  },
  {
   "cell_type": "code",
   "execution_count": null,
   "metadata": {},
   "outputs": [],
   "source": [
    "cql = f\"\"\"\n",
    "// find synapses for neuron \"n\"\n",
    "UNWIND ['ME(R)', 'LO(R)', 'LOP(R)'] as roi\n",
    "MATCH \n",
    "    (n:Neuron)-[:Contains]->(nss:SynapseSet)-[:Contains]->(ns:Synapse)\n",
    "// and \"n\" is of cell_type. Here I look only inside ME(R)\n",
    "WHERE n.type='{cell_type}' AND ns[roi] IS NOT NULL and ns.olHex1 IS NOT NULL and ns.olHex2 IS NOT NULL \n",
    "    AND EXISTS {{\n",
    "        (m:Neuron)-[:Contains]->(mss:SynapseSet)-[:Contains]->(ms:Synapse)<-[:SynapsesTo]-(ns)\n",
    "    }}\n",
    "WITH DISTINCT n,ns, toString(ns.olHex1)+\"_\"+toString(ns.olHex2) as column, roi\n",
    "// Then I return the column, count of \"n\" neurons, their body IDs\n",
    "RETURN \n",
    "    distinct column\n",
    "  , roi\n",
    "  , count(distinct n.bodyId) as cells_per_column\n",
    "  , count(distinct ns) as synapses_per_column\n",
    "  , collect(distinct n.bodyId) as cell_body_ids\n",
    "order by synapses_per_column desc\n",
    "\"\"\"\n",
    "c.fetch_custom(cql)"
   ]
  },
  {
   "cell_type": "markdown",
   "metadata": {},
   "source": [
    "That query shows, that the most synapses per column with a count of 67 is far away from the 246 calculated above.\n",
    "\n",
    "For C2 as the postsynapic partner, the highest number of synapses per column is 230:"
   ]
  },
  {
   "cell_type": "code",
   "execution_count": null,
   "metadata": {},
   "outputs": [],
   "source": [
    "cql = f\"\"\"\n",
    "// find synapses for neuron \"n\"\n",
    "UNWIND ['ME(R)', 'LO(R)', 'LOP(R)'] as roi\n",
    "MATCH \n",
    "    (n:Neuron)-[:Contains]->(nss:SynapseSet)-[:Contains]->(ns:Synapse)\n",
    "// and \"n\" is of cell_type. Here I look only inside ME(R)\n",
    "WHERE n.type='{cell_type}' AND ns[roi] IS NOT NULL and ns.olHex1 IS NOT NULL and ns.olHex2 IS NOT NULL \n",
    "    AND EXISTS {{\n",
    "        (m:Neuron)-[:Contains]->(mss:SynapseSet)-[:Contains]->(ms:Synapse)-[:SynapsesTo]->(ns)\n",
    "    }}\n",
    "WITH DISTINCT n,ns, toString(ns.olHex1)+\"_\"+toString(ns.olHex2) as column, roi\n",
    "// Then I return the column, count of \"n\" neurons, their body IDs\n",
    "RETURN \n",
    "    distinct column\n",
    "  , roi\n",
    "  , count(distinct n.bodyId) as cells_per_column\n",
    "  , count(distinct ns) as synapses_per_column\n",
    "  , collect(distinct n.bodyId) as cell_body_ids\n",
    "order by synapses_per_column desc\n",
    "\"\"\"\n",
    "c.fetch_custom(cql)"
   ]
  },
  {
   "cell_type": "markdown",
   "metadata": {},
   "source": [
    "Only if I consider all synapses, no matter if they synapse to named neurons or unknown segments, I get to numbers similar or higher than what the original number was."
   ]
  },
  {
   "cell_type": "code",
   "execution_count": null,
   "metadata": {},
   "outputs": [],
   "source": [
    "cql = f\"\"\"\n",
    "// find synapses for neuron \"n\"\n",
    "UNWIND ['ME(R)', 'LO(R)', 'LOP(R)'] as roi\n",
    "MATCH \n",
    "    (n:Neuron)-[:Contains]->(nss:SynapseSet)-[:Contains]->(ns:Synapse)\n",
    "// and \"n\" is of cell_type. Here I look only inside ME(R)\n",
    "WHERE n.type='{cell_type}' AND ns[roi] IS NOT NULL and ns.olHex1 IS NOT NULL and ns.olHex2 IS NOT NULL \n",
    "WITH DISTINCT n,ns, toString(ns.olHex1)+\"_\"+toString(ns.olHex2) as column, roi\n",
    "// Then I return the column, count of \"n\" neurons, their body IDs\n",
    "RETURN \n",
    "    distinct column\n",
    "  , roi\n",
    "  , count(distinct n.bodyId) as cells_per_column\n",
    "  , count(distinct ns) as synapses_per_column\n",
    "  , collect(distinct n.bodyId) as cell_body_ids\n",
    "order by synapses_per_column desc\n",
    "\"\"\"\n",
    "syn_per_col = c.fetch_custom(cql)\n",
    "display(syn_per_col)"
   ]
  },
  {
   "cell_type": "markdown",
   "metadata": {},
   "source": [
    "In this case, up to 10 columns have more synapses than the previously calculated 246."
   ]
  },
  {
   "cell_type": "code",
   "execution_count": null,
   "metadata": {},
   "outputs": [],
   "source": [
    "syn_per_col[syn_per_col['synapses_per_column']>246]"
   ]
  },
  {
   "cell_type": "markdown",
   "metadata": {},
   "source": [
    "When I look at the column with the most synapses, I reach the number of 246 synapses considering all neurons with more than 3.59% of their synapses in that column, ignoring the ones with 3.57% and less in this column."
   ]
  },
  {
   "cell_type": "code",
   "execution_count": null,
   "metadata": {},
   "outputs": [],
   "source": [
    "cell_body_ids = syn_per_col.loc[0, 'cell_body_ids']\n",
    "roi = con_out.loc[0, 'roi']\n",
    "\n",
    "all = pd.DataFrame()\n",
    "for cell_body_id in syn_per_col.loc[0, 'cell_body_ids']:\n",
    "    cql = f\"\"\"\n",
    "    MATCH (n:Neuron)-[:Contains]->(nss:SynapseSet)-[:Contains]->(ns:Synapse)\n",
    "    WHERE n.bodyId={cell_body_id} AND ns['{roi}'] IS NOT NULL and exists(ns.olHex1) and exists(ns.olHex2)\n",
    "    //AND EXISTS {{\n",
    "    //    (m:Neuron)-[:Contains]->(mss:SynapseSet)-[:Contains]->(ms:Synapse)-[:SynapsesTo]->(ns)\n",
    "    //}}\n",
    "    with n, ns, toString(ns.olHex1)+'_'+toString(ns.olHex2) as col\n",
    "\n",
    "    WITH {{bid: n.bodyId, col: col, syn: count(distinct ns)}} as tmp_res, n.bodyId as tmpbid, count(distinct ns) as syn_count\n",
    "    WITH collect(tmp_res) as agg_res, sum(syn_count) as total_syn_count\n",
    "    UNWIND agg_res as per_col\n",
    "\n",
    "    RETURN per_col.col as column, per_col.bid as bodyId, per_col.syn as synapse_count, toFloat(per_col.syn)/total_syn_count as synapse_perc\n",
    "\n",
    "    ORDER BY bodyId, synapse_count DESC\n",
    "    \"\"\"\n",
    "    tmp = c.fetch_custom(cql)\n",
    "    all = pd.concat([all, tmp])\n",
    "all = all.reset_index(drop=True)\n",
    "interest_col = all[all['column']==syn_per_col.loc[0, 'column']].sort_values(by='synapse_perc', ascending=False).reset_index(drop=True)\n",
    "interest_col['cum_synapse_count'] = interest_col['synapse_count'].cumsum()\n",
    "display(interest_col)"
   ]
  },
  {
   "cell_type": "markdown",
   "metadata": {},
   "source": [
    "## Temporary observation\n",
    "\n",
    "Based on the data from neuprint, I cannot replicate the numbers that the `find_cmax_across_all_neuropils()` returns for the example celltype. \n",
    "\n",
    "When I access the \"number of cells and synapses\", the database has 10% more synapses in the most populated column (or 7% too few) and I see a maximum of 72% more cells per column (or 37% less, depending if only considering pre/post sites.)\n",
    "\n",
    "Switching from the summation of synaptic sites to just using pre or postsynaptic sites will change the plots for reasons that are not related to that switch."
   ]
  }
 ],
 "metadata": {
  "kernelspec": {
   "display_name": ".venv",
   "language": "python",
   "name": "python3"
  },
  "language_info": {
   "codemirror_mode": {
    "name": "ipython",
    "version": 3
   },
   "file_extension": ".py",
   "mimetype": "text/x-python",
   "name": "python",
   "nbconvert_exporter": "python",
   "pygments_lexer": "ipython3",
   "version": "3.11.7"
  }
 },
 "nbformat": 4,
 "nbformat_minor": 2
}
