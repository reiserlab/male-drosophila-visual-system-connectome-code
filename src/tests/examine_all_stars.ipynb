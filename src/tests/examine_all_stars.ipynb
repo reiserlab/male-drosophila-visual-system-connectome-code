{
 "cells": [
  {
   "cell_type": "code",
   "execution_count": null,
   "metadata": {},
   "outputs": [],
   "source": [
    "%load_ext autoreload\n",
    "from pathlib import Path\n",
    "import sys\n",
    "import pandas as pd\n",
    "from dotenv import load_dotenv, find_dotenv\n",
    "\n",
    "load_dotenv()\n",
    "PROJECT_ROOT = Path(find_dotenv()).parent\n",
    "sys.path.append(str(PROJECT_ROOT.joinpath('src')))\n",
    "print(f\"Project root directory: {PROJECT_ROOT}\")\n",
    "from utils import olc_client\n",
    "from utils.ol_neuron import OLNeuron\n",
    "c = olc_client.connect()"
   ]
  },
  {
   "cell_type": "code",
   "execution_count": null,
   "metadata": {},
   "outputs": [],
   "source": [
    "all_stars = pd.read_excel(PROJECT_ROOT / 'params' / 'all_stars.xlsx')"
   ]
  },
  {
   "cell_type": "markdown",
   "metadata": {},
   "source": [
    "## Find inconsistencies\n",
    "\n",
    "This little loop finds the real type and instance for a star_neuron in all_stars, warns about the inconsistency, and generates a new column \"real_instance\" with the actual instance of the neuron."
   ]
  },
  {
   "cell_type": "code",
   "execution_count": null,
   "metadata": {},
   "outputs": [],
   "source": [
    "\n",
    "def add_in(row):\n",
    "    oln = OLNeuron(row['star_neuron'])\n",
    "    instance = oln.instance\n",
    "    if len(str(row['instance']))>0 and str(row['instance']) != 'nan':\n",
    "        if not instance == row['instance']:\n",
    "            print(f\"Instance {instance} != {row['instance']}\")\n",
    "    if not row['type'] == oln.get_type():\n",
    "        print(f\"Type {row['type']} != {oln.get_type()}\")\n",
    "    return oln.instance\n",
    "\n",
    "\n",
    "all_stars['real_instance'] = all_stars.apply(add_in, axis=1)"
   ]
  }
 ],
 "metadata": {
  "kernelspec": {
   "display_name": ".venv",
   "language": "python",
   "name": "python3"
  },
  "language_info": {
   "codemirror_mode": {
    "name": "ipython",
    "version": 3
   },
   "file_extension": ".py",
   "mimetype": "text/x-python",
   "name": "python",
   "nbconvert_exporter": "python",
   "pygments_lexer": "ipython3",
   "version": "3.11.7"
  }
 },
 "nbformat": 4,
 "nbformat_minor": 2
}
