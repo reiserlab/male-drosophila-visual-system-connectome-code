{
 "cells": [
  {
   "attachments": {},
   "cell_type": "markdown",
   "id": "df4f09ca",
   "metadata": {
    "tags": []
   },
   "source": [
    "# Generate cross section view to make a gallery of all neurons in OL\n"
   ]
  },
  {
   "cell_type": "code",
   "execution_count": null,
   "metadata": {
    "lines_to_next_cell": 2,
    "tags": []
   },
   "outputs": [],
   "source": [
    "\"\"\"\n",
    "This cell does the initial project setup.\n",
    "If you start a new script or notebook, make sure to copy & paste this part.\n",
    "\n",
    "A script with this code uses the location of the `.env` file as the anchor for\n",
    "the whole project (= PROJECT_ROOT). Afterwards, code inside the `src` directory\n",
    "are available for import.\n",
    "\"\"\"\n",
    "from pathlib import Path\n",
    "import sys\n",
    "from dotenv import load_dotenv, find_dotenv\n",
    "load_dotenv()\n",
    "PROJECT_ROOT = Path(find_dotenv()).parent\n",
    "sys.path.append(str(PROJECT_ROOT.joinpath('src')))\n",
    "print(f\"Project root directory: {PROJECT_ROOT}\")"
   ]
  },
  {
   "cell_type": "code",
   "execution_count": null,
   "id": "e088eca6",
   "metadata": {},
   "outputs": [],
   "source": [
    "\"\"\" Imports related to data loading \"\"\"\n",
    "from neuprint import NeuronCriteria as NC\n",
    "\n",
    "import navis\n",
    "import navis.interfaces.neuprint as neu\n",
    "\n",
    "from utils import olc_client\n",
    "c = olc_client.connect(verbose=True)"
   ]
  },
  {
   "cell_type": "code",
   "execution_count": null,
   "id": "5f00104f",
   "metadata": {
    "lines_to_next_cell": 2
   },
   "outputs": [],
   "source": [
    "\"\"\" Imports related to plotting \"\"\"\n",
    "# plotly backend\n",
    "import plotly.express as px\n",
    "# use shorthand suggested in https://plotly.com/python/graph-objects/\n",
    "import plotly.graph_objects as go"
   ]
  },
  {
   "cell_type": "code",
   "execution_count": null,
   "metadata": {},
   "outputs": [],
   "source": [
    "\"\"\" imports related to data analysis \"\"\"\n",
    "import pandas as pd\n",
    "import numpy as np\n",
    "\n",
    "import pickle"
   ]
  },
  {
   "cell_type": "code",
   "execution_count": null,
   "metadata": {},
   "outputs": [],
   "source": [
    "result_dir = PROJECT_ROOT / 'results' / 'plot_cells' / 'cell_gallery'\n",
    "result_dir.mkdir(parents=True, exist_ok=True)"
   ]
  },
  {
   "attachments": {},
   "cell_type": "markdown",
   "metadata": {},
   "source": [
    "### Load neurons  \n",
    "find column, load cell of given type"
   ]
  },
  {
   "cell_type": "code",
   "execution_count": null,
   "metadata": {},
   "outputs": [],
   "source": [
    "from utils.plotter import get_mesh, get_skeletons, get_skeleton, get_meshes"
   ]
  },
  {
   "attachments": {},
   "cell_type": "markdown",
   "metadata": {},
   "source": [
    "## Plot the cross section of a neuron for given plane(s)"
   ]
  },
  {
   "cell_type": "code",
   "execution_count": null,
   "metadata": {},
   "outputs": [],
   "source": [
    "# testing neurons\n",
    "\n",
    "# (massive neuron) OA-AL2i1, 10072\n",
    "# (medium) TmY16\n",
    "# (small) TmY5a\n",
    "\n",
    "# id = 10072\n",
    "# neu_ske = get_skeleton(id)\n",
    "# neu_msh = get_mesh(id)"
   ]
  },
  {
   "cell_type": "code",
   "execution_count": null,
   "metadata": {},
   "outputs": [],
   "source": [
    "from utils.hex_hex import hex_to_bids"
   ]
  },
  {
   "cell_type": "code",
   "execution_count": null,
   "metadata": {},
   "outputs": [],
   "source": [
    "# exmaple L1 and Mi1 neurons, [18,18] is a good column for the current slicing planes\n",
    "ids = hex_to_bids((18,18), n_types=['L1', 'Mi1'], return_type='list')\n",
    "\n",
    "neu_ske = get_skeletons(ids)\n",
    "neu_msh = get_meshes(ids)"
   ]
  },
  {
   "attachments": {},
   "cell_type": "markdown",
   "metadata": {},
   "source": [
    "@Frank, what's the best way to do find the cells of given type in the desired column ?"
   ]
  },
  {
   "cell_type": "code",
   "execution_count": null,
   "metadata": {},
   "outputs": [],
   "source": [
    "# find the cells of given type in the desired column\n",
    "# @Frank, what's the best way to do this ?\n",
    "\n",
    "# some types to plot first\n",
    "types = [\"TmY3\", \"TmY4\", \"TmY5a\", \"TmY9a\", \"TmY10\", \"TmY13\", \"TmY14\", \"TmY15\", \"TmY16\", \"TmY17\", \"TmY18\", \"TmY19\", \"TmY20\", \"TmY21\"]\n",
    "# append text to all string in a list\n",
    "types = [x + '_R' for x in types]\n",
    "\n",
    "neu_df, roi_df = neu.fetch_neurons(NC(instance=types))"
   ]
  },
  {
   "attachments": {},
   "cell_type": "markdown",
   "metadata": {},
   "source": [
    "### design slicing planes, need to choose a normal and a translation vector for each plane"
   ]
  },
  {
   "cell_type": "code",
   "execution_count": null,
   "metadata": {},
   "outputs": [],
   "source": [
    "neu_df[neu_df['inputRois'].apply(lambda x: True if 'ME_R_col_1818' in x else False)]"
   ]
  },
  {
   "cell_type": "code",
   "execution_count": null,
   "metadata": {},
   "outputs": [],
   "source": [
    "from utils.geometry import plane_square\n",
    "\n",
    "vn = np.array([1, 2, 0]) # normal vector\n",
    "vn = vn / np.linalg.norm(vn) # normalize\n",
    "mf = 3e4 # multiplication factor for the plane size\n",
    "vt1 = np.array([20e3, 40e3, 35e3]) * 0.85 # translation vector\n",
    "vt2 = np.array([22e3, 44e3, 35e3]) * 0.95 # translation vector\n",
    "\n",
    "# planes\n",
    "pl_rot1 = plane_square(vn, vt1, mf)\n",
    "pl_rot2 = plane_square(vn, vt2, mf)"
   ]
  },
  {
   "attachments": {},
   "cell_type": "markdown",
   "metadata": {},
   "source": [
    "### slice skeletons/meshes"
   ]
  },
  {
   "cell_type": "code",
   "execution_count": null,
   "metadata": {},
   "outputs": [],
   "source": [
    "# slicing neuron skeletons\n",
    "\n",
    "# which nodes fall within the planes\n",
    "d1 = vt1 @ vn\n",
    "d2 = vt2 @ vn\n",
    "ind_in = neu_ske[0].nodes[['x','y','z']].apply(lambda row: row @ vn > d1 and row @ vn < d2, axis=1)\n",
    "\n",
    "# get the cross section of a neuron\n",
    "ske_in = navis.subset_neuron(neu_ske[0], ind_in.values, inplace=False)"
   ]
  },
  {
   "cell_type": "code",
   "execution_count": null,
   "metadata": {},
   "outputs": [],
   "source": [
    "# slicing neuron meshes\n",
    "\n",
    "# which nodes fall within the planes\n",
    "d1 = vt1 @ vn\n",
    "d2 = vt2 @ vn\n",
    "\n",
    "# get the cross section of a neuron\n",
    "ind_ske_in = neu_ske[0].nodes[['x','y','z']].apply(lambda row: row @ vn > d1 and row @ vn < d2, axis=1)\n",
    "ske_in = navis.subset_neuron(neu_ske[0], ind_ske_in.values, inplace=False)\n",
    "\n",
    "msh_v = pd.DataFrame(neu_msh[0].vertices[0], columns=['x', 'y', 'z'])\n",
    "ind_msh_in = msh_v.apply(lambda row: row @ vn > d1 and row @ vn < d2, axis=1)\n",
    "msh_in = navis.subset_neuron(neu_msh[0], ind_msh_in.values, inplace=False)"
   ]
  },
  {
   "cell_type": "code",
   "execution_count": null,
   "metadata": {},
   "outputs": [],
   "source": [
    "# load layer meshes and slice them\n",
    "\n",
    "ME_R_layer = [None] * 10\n",
    "ME_R_layer_sec = [None] * 10\n",
    "# selected layers\n",
    "for i in [1,3,5,7,9]:\n",
    "    exec(f\"ME_R_layer[{i-1}] = neu.fetch_roi('ME_R_layer_{i}')\") # load layer meshes with a constructed variable name\n",
    "    ME_R_layer_sec[i-1] = ME_R_layer[i-1].section(vn, vt1)\n",
    "    ME_R_layer_sec[i-1] = pd.DataFrame(ME_R_layer_sec[i-1].vertices, columns=['x','y','z'])  # convert TrackedArray to dataframe\n",
    "\n",
    "LO_R_layer = [None] * 7\n",
    "LO_R_layer_sec = [None] * 7\n",
    "# selected layers\n",
    "for i in [1,3,5,7]:\n",
    "    exec(f\"LO_R_layer[{i-1}] = neu.fetch_roi('LO_R_layer_{i}')\") # load layer meshes with a constructed variable name\n",
    "    LO_R_layer_sec[i-1] = LO_R_layer[i-1].section(vn, vt1)\n",
    "    LO_R_layer_sec[i-1] = pd.DataFrame(LO_R_layer_sec[i-1].vertices, columns=['x','y','z'])  # convert TrackedArray to dataframe\n",
    "\n",
    "LOP_R_layer = [None] * 4\n",
    "LOP_R_layer_sec = [None] * 4\n",
    "# selected layers\n",
    "for i in [1,3]:\n",
    "    exec(f\"LOP_R_layer[{i-1}] = neu.fetch_roi('LOP_R_layer_{i}')\") # load layer meshes with a constructed variable name\n",
    "    LOP_R_layer_sec[i-1] = LOP_R_layer[i-1].section(vn, vt1)\n",
    "    LOP_R_layer_sec[i-1] = pd.DataFrame(LOP_R_layer_sec[i-1].vertices, columns=['x','y','z'])  # convert TrackedArray to dataframe\n"
   ]
  },
  {
   "cell_type": "code",
   "execution_count": null,
   "metadata": {},
   "outputs": [],
   "source": [
    "# make alpha meshes for layers\n",
    "from utils.plotter import alpha_plane\n",
    "\n",
    "ME_R_layer_m = [None] * 10\n",
    "ME_R_layer_bd = [None] * 10\n",
    "for i in [1,3,5,7,9]:\n",
    "    pts = ME_R_layer_sec[i-1].values\n",
    "    ME_R_layer_m[i-1], ME_R_layer_bd[i-1] = alpha_plane(pts, vn, alpha=0.0004)\n",
    "\n",
    "\n",
    "LO_R_layer_m = [None] * 7\n",
    "LO_R_layer_bd = [None] * 7\n",
    "for i in [1,3,5,7]:\n",
    "    pts = LO_R_layer_sec[i-1].values\n",
    "    LO_R_layer_m[i-1], LO_R_layer_bd[i-1] = alpha_plane(pts, vn, alpha=0.0004)\n",
    "\n",
    "\n",
    "LOP_R_layer_m = [None] * 4\n",
    "LOP_R_layer_bd = [None] * 4\n",
    "for i in [1,3]:\n",
    "    pts = LOP_R_layer_sec[i-1].values\n",
    "    LOP_R_layer_m[i-1], LOP_R_layer_bd[i-1] = alpha_plane(pts, vn, alpha=0.0004)\n",
    "\n"
   ]
  },
  {
   "cell_type": "code",
   "execution_count": null,
   "metadata": {},
   "outputs": [],
   "source": [
    "# load a neuropil mesh\n",
    "ME_R = neu.fetch_roi('ME(R)')\n",
    "LO_R = neu.fetch_roi('LO(R)')\n",
    "LOP_R = neu.fetch_roi('LOP(R)')"
   ]
  },
  {
   "cell_type": "code",
   "execution_count": null,
   "metadata": {},
   "outputs": [],
   "source": [
    "# slicing neuropil meshes\n",
    "\n",
    "ME_R_sec = ME_R.section(vn, vt1)\n",
    "# convert TrackedArray to dataframe\n",
    "ME_R_sec = pd.DataFrame(ME_R_sec.vertices, columns=['x','y','z'])\n",
    "\n",
    "LO_R_sec = LO_R.section(vn, vt1)\n",
    "# convert TrackedArray to dataframe\n",
    "LO_R_sec = pd.DataFrame(LO_R_sec.vertices, columns=['x','y','z'])\n",
    "\n",
    "LOP_R_sec = LOP_R.section(vn, vt1)\n",
    "# convert TrackedArray to dataframe\n",
    "LOP_R_sec = pd.DataFrame(LOP_R_sec.vertices, columns=['x','y','z'])"
   ]
  },
  {
   "cell_type": "code",
   "execution_count": null,
   "metadata": {},
   "outputs": [],
   "source": [
    "# alpha meshes for neuropils\n",
    "ME_R_m, ME_R_bd = alpha_plane(ME_R_sec.values, vn, alpha=0.0004) \n",
    "LO_R_m, LO_R_bd = alpha_plane(LO_R_sec.values, vn, alpha=0.0004)\n",
    "LOP_R_m, LOP_R_bd = alpha_plane(LOP_R_sec.values, vn, alpha=0.0004)"
   ]
  },
  {
   "attachments": {},
   "cell_type": "markdown",
   "metadata": {},
   "source": [
    "### Testing plot to select slicing planes, and final plot"
   ]
  },
  {
   "cell_type": "code",
   "execution_count": null,
   "metadata": {},
   "outputs": [],
   "source": [
    "# planes\n",
    "data_pl1 = {\n",
    "    'type': 'mesh3d',\n",
    "    'x': pl_rot1['x'],\n",
    "    'y': pl_rot1['y'],\n",
    "    'z': pl_rot1['z'],\n",
    "    'delaunayaxis':'x',\n",
    "    'color': 'red',\n",
    "    'opacity': 0.5,\n",
    "}\n",
    "\n",
    "data_pl2 = {\n",
    "    'type': 'mesh3d',\n",
    "    'x': pl_rot2['x'],\n",
    "    'y': pl_rot2['y'],\n",
    "    'z': pl_rot2['z'],\n",
    "    'delaunayaxis':'x',\n",
    "    'color': 'magenta',\n",
    "    'opacity': 0.5,\n",
    "}\n",
    "\n",
    "# whole skeleton\n",
    "fig_n_ske = navis.plot3d(\n",
    "    neu_ske,\n",
    "    soma=False,\n",
    "    color='blue', linewidth=2,\n",
    "    inline=False, backend='plotly')\n",
    "\n",
    "# sliced skeleton and mesh\n",
    "fig_n_ske_in = navis.plot3d(\n",
    "    ske_in,\n",
    "    soma=False,\n",
    "    color='black', linewidth=2,\n",
    "    inline=False, backend='plotly')\n",
    "\n",
    "fig_n_msh_in = navis.plot3d(\n",
    "    msh_in,\n",
    "    soma=False,\n",
    "    color='black', linewidth=2,\n",
    "    inline=False, backend='plotly')\n",
    "\n",
    "# whole neuropils\n",
    "# fig_mesh = navis.plot3d([ME_R_sec, ME_R, LO_R, LOP_R], color=['gray', 'yellow','yellow','yellow'], alpha=0.4, inline=False, backend='plotly')\n",
    "# fig_mesh = navis.plot3d([LOP_R_layer[0]], color=['yellow'], alpha=0.4, inline=False, backend='plotly')\n",
    "\n",
    "# sliced neuropils\n",
    "fig_mesh_slice = navis.plot3d([ME_R_layer_m, LO_R_layer_m, LOP_R_layer_m], \n",
    "                              color=['gray']*10 + ['gray']*7 + ['gray']*4, \n",
    "                              alpha=0.4, inline=False, backend='plotly')\n",
    "\n",
    "\n",
    "fig_outline_ME = go.Figure(data=go.Scatter3d(x=ME_R_bd[:,0], y=ME_R_bd[:,1], z=ME_R_bd[:,2],\n",
    "                                  mode='lines', line=dict(color='gray', width=3)\n",
    "                                  ))\n",
    "\n",
    "fig_outline_LO = go.Figure(data=go.Scatter3d(x=LO_R_bd[:,0], y=LO_R_bd[:,1], z=LO_R_bd[:,2],\n",
    "                                  mode='lines', line=dict(color='gray', width=3)\n",
    "                                  ))\n",
    "fig_outline_LOP = go.Figure(data=go.Scatter3d(x=LOP_R_bd[:,0], y=LOP_R_bd[:,1], z=LOP_R_bd[:,2],\n",
    "                                  mode='lines', line=dict(color='gray', width=3)\n",
    "                                  ))\n",
    "\n"
   ]
  },
  {
   "cell_type": "code",
   "execution_count": null,
   "metadata": {},
   "outputs": [],
   "source": [
    "# testing plot, choose slicing planes\n",
    "fig = go.Figure(\n",
    "    fig_n_msh_in.data\n",
    "    # fig_col.data #medulla column\n",
    "    # + fig_mesh.data #whole meshes\n",
    "    # + surf.data \n",
    "    # + fig_n_ske.data\n",
    "    # + go.Figure(data=[data_pl1,data_pl2]).data #slice planes +\n",
    "    # + go.Figure(data=[data_neupil2, data_neupil3]).data\n",
    "    + fig_mesh_slice.data\n",
    "    + fig_outline_ME.data + fig_outline_LO.data + fig_outline_LOP.data\n",
    ")\n",
    "\n",
    "# # final plot\n",
    "# fig = go.Figure(\n",
    "#     # fig_n_ske_in.data\n",
    "#     fig_n_msh_in.data\n",
    "#     # +fig_n_ske.data\n",
    "#     # + fig_mesh.data #whole meshes\n",
    "#     + go.Figure(data=[data_neupil1, data_neupil2, data_neupil3, data_neupil4, data_neupil5]).data\n",
    "# )\n",
    "\n",
    "\n",
    "\n",
    "# fig.update_layout(autosize=False, width=900, height=600)\n",
    "# fig.update_layout(margin={\"l\":0, \"r\":0, \"b\":0, \"t\":0})\n",
    "\n",
    "camera_distance = 70000\n",
    "fig.update_scenes(\n",
    "    camera={\n",
    "        # \"up\": {\"x\":-5, \"y\":3, \"z\":-5}\n",
    "        \"up\": {\"x\":-4, \"y\":3, \"z\":-4}\n",
    "        , \"eye\": {\n",
    "            \"x\":vn[0]*camera_distance\n",
    "            , \"y\":vn[1]*camera_distance\n",
    "            , \"z\":vn[2]*camera_distance}\n",
    "        , \"center\": {\"x\":0, \"y\":0, \"z\":0}\n",
    "        , \"projection\": {\"type\": \"orthographic\"}}\n",
    ")\n",
    "\n",
    "fig.update_layout(\n",
    "        margin={'l':0, 'r':0, 'b':0, 't':0}\n",
    "      , showlegend=True\n",
    "      , scene = {\n",
    "            \"aspectmode\": \"auto\",\n",
    "            # \"aspectratio\": {'x': 1, 'y': 1, 'z':1},\n",
    "            \"xaxis\" : {\n",
    "                \"showgrid\": False\n",
    "              , \"showbackground\": False\n",
    "              , \"visible\": False}\n",
    "          , \"yaxis\" : {\n",
    "                \"showgrid\": False\n",
    "              , \"showbackground\": False\n",
    "              , \"visible\": False}\n",
    "          , \"zaxis\" : {\n",
    "                \"showgrid\":False\n",
    "              , \"showbackground\":False\n",
    "              , \"visible\":False}\n",
    "    })\n",
    "\n",
    "fig.show()"
   ]
  },
  {
   "cell_type": "code",
   "execution_count": null,
   "metadata": {},
   "outputs": [],
   "source": [
    "from utils.plotter import show_figure\n",
    "from utils.neuroglancer_plotter import image_saver\n",
    "from PIL import Image\n",
    "import io\n",
    "\n",
    "#my_img = show_figure(fig, width=3000, height=3000, static=True, showlegend=False )\n",
    "\n",
    "fig.update_layout(showlegend=False)\n",
    "img_bytes = fig.to_image(\n",
    "    format=\"png\"\n",
    "  , width=3000, height=3000\n",
    "  , scale=1)\n",
    "\n",
    "\n",
    "img = Image.open(io.BytesIO(img_bytes))\n",
    "image_saver(img, \"test\", Path(\".\"))"
   ]
  },
  {
   "cell_type": "code",
   "execution_count": null,
   "metadata": {},
   "outputs": [],
   "source": [
    "img = Image.open(io.BytesIO(img_bytes))"
   ]
  },
  {
   "attachments": {},
   "cell_type": "markdown",
   "metadata": {},
   "source": [
    "todo @Franck\n",
    "\n",
    "1/ find the desired cell of given type\n",
    "2/ left-right flip in the final plot -- lobula plate best be on the right side\n",
    "3/ save"
   ]
  }
 ],
 "metadata": {
  "kernelspec": {
   "display_name": "ol-connectome",
   "language": "python",
   "name": "ol-connectome"
  },
  "language_info": {
   "codemirror_mode": {
    "name": "ipython",
    "version": 3
   },
   "file_extension": ".py",
   "mimetype": "text/x-python",
   "name": "python",
   "nbconvert_exporter": "python",
   "pygments_lexer": "ipython3",
   "version": "3.11.3"
  },
  "vscode": {
   "interpreter": {
    "hash": "a784b976212e148af7ccf35fd5eae7d1ca185922ff1d3966d7683a1ca6703ecf"
   }
  }
 },
 "nbformat": 4,
 "nbformat_minor": 2
}
